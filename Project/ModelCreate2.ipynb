{
 "cells": [
  {
   "cell_type": "code",
   "id": "initial_id",
   "metadata": {
    "collapsed": true
   },
   "source": [
    "import pandas as pd\n",
    "import numpy as np\n",
    "import matplotlib.pyplot as plt\n",
    "import seaborn as sns\n",
    "\n",
    "from sklearn.model_selection import train_test_split\n",
    "from sklearn.metrics import r2_score\n",
    "from sklearn.impute import SimpleImputer\n",
    "\n",
    "from sklearn.pipeline import Pipeline\n",
    "from sklearn.preprocessing import OneHotEncoder, LabelEncoder, OrdinalEncoder, StandardScaler\n",
    "from sklearn.compose import ColumnTransformer\n",
    "from sklearn.linear_model import LinearRegression"
   ],
   "outputs": [],
   "execution_count": null
  },
  {
   "metadata": {},
   "cell_type": "code",
   "source": [
    "X_train = pd.read_csv('house-prices/train.csv',usecols=['MSZoning', 'LotFrontage', 'LotArea', 'BldgType', 'OverallQual', 'OverallCond', 'YearBuilt', 'Foundation', 'BsmtCond', 'TotalBsmtSF', '1stFlrSF' ,'2ndFlrSF' , 'GrLivArea' , 'KitchenQual' ,'TotRmsAbvGrd' , 'GarageType' , 'GarageCars' , 'GarageArea' , 'GarageQual' , 'GarageCond' , 'PoolArea' ,  'MiscVal' , 'SaleType' ,  'SaleCondition' ,'RoofStyle', 'RoofMatl' , 'Exterior1st', 'Exterior2nd' , 'ExterQual', 'ExterCond' , 'BsmtQual', 'CentralAir', 'YrSold'])\n",
    "X_train"
   ],
   "id": "73f23df2a3bf2f52",
   "outputs": [],
   "execution_count": null
  },
  {
   "metadata": {},
   "cell_type": "code",
   "source": "y_train = pd.read_csv('house-prices/train.csv',usecols=['SalePrice'])",
   "id": "27e0fe374d8f028d",
   "outputs": [],
   "execution_count": null
  },
  {
   "metadata": {},
   "cell_type": "code",
   "source": [
    "X_test = pd.read_csv('house-prices/test.csv',usecols=['MSZoning', 'LotFrontage', 'LotArea', 'BldgType', 'OverallQual', 'OverallCond', 'YearBuilt', 'Foundation', 'BsmtCond', 'TotalBsmtSF', '1stFlrSF' ,'2ndFlrSF' , 'GrLivArea' , 'KitchenQual' ,'TotRmsAbvGrd' , 'GarageType' , 'GarageCars' , 'GarageArea' , 'GarageQual' , 'GarageCond' , 'PoolArea' ,  'MiscVal' , 'SaleType' ,  'SaleCondition' ,'RoofStyle', 'RoofMatl' , 'Exterior1st', 'Exterior2nd' , 'ExterQual', 'ExterCond' , 'BsmtQual', 'CentralAir', 'YrSold'])\n",
    "X_train"
   ],
   "id": "c96ccf7cc4de372d",
   "outputs": [],
   "execution_count": null
  },
  {
   "metadata": {},
   "cell_type": "code",
   "source": "y_test = pd.read_csv('house-prices/sample_submission.csv',usecols=['SalePrice'])",
   "id": "51b674de04fdb2db",
   "outputs": [],
   "execution_count": null
  },
  {
   "metadata": {},
   "cell_type": "code",
   "source": [
    "X_train['YearBuilt'] = pd.to_datetime(X_train['YearBuilt']).dt.year\n",
    "X_test['YearBuilt'] = pd.to_datetime(X_test['YearBuilt']).dt.year\n",
    "X_train['YrSold'] = pd.to_datetime(X_train['YrSold']).dt.year\n",
    "X_test['YrSold'] = pd.to_datetime(X_test['YrSold']).dt.year"
   ],
   "id": "d3b5ca7ba4ef7f60",
   "outputs": [],
   "execution_count": null
  },
  {
   "metadata": {},
   "cell_type": "code",
   "source": [
    "# removable_col = [x for x in X_train.columns if (X_train[x].isnull().sum() > 0)]\n",
    "# removable_col"
   ],
   "id": "29b03d345a9766c3",
   "outputs": [],
   "execution_count": null
  },
  {
   "metadata": {},
   "cell_type": "code",
   "source": "# df = df[removable_col].dropna()",
   "id": "67b88075d08e32d6",
   "outputs": [],
   "execution_count": null
  },
  {
   "metadata": {},
   "cell_type": "code",
   "source": [
    "# X = df.iloc[:,:-1]\n",
    "# y = df.iloc[:,-1]"
   ],
   "id": "91f5e11e9a3178a5",
   "outputs": [],
   "execution_count": null
  },
  {
   "metadata": {},
   "cell_type": "code",
   "source": "# X_train, X_test, y_train, y_test = train_test_split(X,y,test_size=0.3,random_state=46)",
   "id": "de29ae59de0ef685",
   "outputs": [],
   "execution_count": null
  },
  {
   "metadata": {},
   "cell_type": "code",
   "source": "# X_train",
   "id": "1c7b0987f46a6334",
   "outputs": [],
   "execution_count": null
  },
  {
   "metadata": {},
   "cell_type": "code",
   "source": [
    "categoricalColumns = ['MSZoning', 'BldgType',  'Foundation', 'BsmtCond',   'KitchenQual' , 'GarageType' ,  'GarageQual' , 'GarageCond' ,  'SaleType' ,  'SaleCondition' ,'RoofStyle', 'RoofMatl' , 'Exterior1st', 'Exterior2nd' , 'ExterQual', 'ExterCond' , 'BsmtQual', 'CentralAir']\n",
    "\n",
    "# cat_impute = ['BsmtCond','GarageType','GarageQual' , 'GarageCond' , 'BsmtQual']\n",
    "\n",
    "ordinalColumns = ['BsmtCond', 'KitchenQual' ,'GarageQual' , 'GarageCond' ,'ExterQual', 'ExterCond' , 'BsmtQual']\n",
    "oneHotColumns = ['MSZoning', 'BldgType',  'Foundation',    'GarageType' ,    'SaleType' ,  'SaleCondition' ,'RoofStyle', 'RoofMatl' , 'Exterior1st', 'Exterior2nd' ,  'CentralAir']"
   ],
   "id": "b2471aacc49a2d23",
   "outputs": [],
   "execution_count": null
  },
  {
   "metadata": {},
   "cell_type": "code",
   "source": [
    "numaricalColumns = ['LotFrontage','OverallQual', 'OverallCond', 'LotArea','YearBuilt','YrSold', 'TotalBsmtSF', '1stFlrSF' ,'2ndFlrSF' ,'GrLivArea' ,'TotRmsAbvGrd' , 'GarageCars' , 'GarageArea' ,'PoolArea' , 'MiscVal']\n",
    "\n",
    "# num_std= ['OverallQual', 'OverallCond', 'LotArea','YearBuilt','YrSold', 'TotalBsmtSF', '1stFlrSF' ,'2ndFlrSF' ,'GrLivArea' ,'TotRmsAbvGrd' , 'GarageCars' , 'GarageArea' ,'PoolArea' , 'MiscVal']\n",
    "\n",
    "# num_im_st = ['LotFrontage']"
   ],
   "id": "d44e05ebad8fb867",
   "outputs": [],
   "execution_count": null
  },
  {
   "metadata": {},
   "cell_type": "code",
   "source": "# X_train.columns",
   "id": "f0de94a74aa3d03e",
   "outputs": [],
   "execution_count": null
  },
  {
   "metadata": {},
   "cell_type": "code",
   "source": "# numaricalColumns\n",
   "id": "e78f331259232e58",
   "outputs": [],
   "execution_count": null
  },
  {
   "metadata": {},
   "cell_type": "markdown",
   "source": "# Impute and Scalling",
   "id": "fb36623282808599"
  },
  {
   "metadata": {},
   "cell_type": "code",
   "source": [
    "numerical_transfromer = Pipeline(\n",
    "    steps=[\n",
    "        (\"num_imputer\",SimpleImputer(strategy='mean')),\n",
    "        (\"numScaler\",StandardScaler())\n",
    "    ]\n",
    ")\n",
    "\n",
    "\n",
    "categorical_ordi_transformer = Pipeline(\n",
    "    steps=[\n",
    "        (\"cat_imputer1\",SimpleImputer(strategy='most_frequent')),\n",
    "        (\"ord_encod\",OrdinalEncoder(categories=[\n",
    "            ['NA',\t'Po' ,'Fa' ,'TA' ,'Gd','Ex'],\n",
    "            ['Po' ,'Fa' ,'TA' ,'Gd','Ex'],\n",
    "            ['NA',\t'Po' ,'Fa' ,'TA' ,'Gd','Ex'],\n",
    "            ['NA',\t'Po' ,'Fa' ,'TA' ,'Gd','Ex'],\n",
    "            ['Po' ,'Fa' ,'TA' ,'Gd','Ex'],\n",
    "            ['Po' ,'Fa' ,'TA' ,'Gd','Ex'],\n",
    "            ['NA',\t'Po' ,'Fa' ,'TA' ,'Gd','Ex']\n",
    "        ]))\n",
    "    ]\n",
    ")\n",
    "\n",
    "categorical_oneHot_transformer = Pipeline(\n",
    "    steps=[\n",
    "        (\"cat_imputer1\",SimpleImputer(strategy='most_frequent')),\n",
    "        (\"ohe_encod\",OneHotEncoder(handle_unknown='ignore'))\n",
    "    ]\n",
    ")\n"
   ],
   "id": "52a9348913e44f86",
   "outputs": [],
   "execution_count": null
  },
  {
   "metadata": {},
   "cell_type": "markdown",
   "source": "# Using transformer",
   "id": "295b36d5fe7d43a5"
  },
  {
   "metadata": {},
   "cell_type": "code",
   "source": [
    "preprocessor = ColumnTransformer(\n",
    "    transformers=[\n",
    "        ('imp_stand',numerical_transfromer,numaricalColumns),\n",
    "        ('cat_ordi',categorical_ordi_transformer,ordinalColumns),\n",
    "        ('cat_oneHot',categorical_oneHot_transformer,oneHotColumns)\n",
    "    ],remainder='passthrough'    \n",
    ")"
   ],
   "id": "b32d04e6f899abdb",
   "outputs": [],
   "execution_count": null
  },
  {
   "metadata": {},
   "cell_type": "code",
   "source": [
    "# clf = Pipeline(\n",
    "#     steps=[\n",
    "#         ('preprocessor',preprocessor),\n",
    "#         ('classifier',LinearRegression())\n",
    "#     ]\n",
    "# )"
   ],
   "id": "ba965c4bd6bc69b4",
   "outputs": [],
   "execution_count": null
  },
  {
   "metadata": {},
   "cell_type": "code",
   "source": [
    "# clf.fit(X_train,X_test)\n",
    "X_train_trf = preprocessor.fit_transform(X_train)\n",
    "X_test_trf = preprocessor.transform(X_test)\n"
   ],
   "id": "8a1f8dbaf6d6b1b0",
   "outputs": [],
   "execution_count": null
  },
  {
   "metadata": {},
   "cell_type": "code",
   "source": [
    "from sklearn.decomposition import PCA\n",
    "\n",
    "pca = PCA(n_components=10)\n",
    "\n",
    "X_train_trf = pca.fit_transform(X_train_trf)\n",
    "X_test_trf = pca.transform(X_test_trf)"
   ],
   "id": "8397004624d6beb4",
   "outputs": [],
   "execution_count": null
  },
  {
   "metadata": {},
   "cell_type": "code",
   "source": [
    "lr = LinearRegression()\n",
    "\n",
    "lr.fit(X_train_trf,y_train)"
   ],
   "id": "95102e5fdc3140e5",
   "outputs": [],
   "execution_count": null
  },
  {
   "metadata": {},
   "cell_type": "code",
   "source": [
    "\n",
    "y_pred = lr.predict(X_test_trf)"
   ],
   "id": "515ce7435631379a",
   "outputs": [],
   "execution_count": null
  },
  {
   "metadata": {},
   "cell_type": "code",
   "source": [
    "\n",
    "r2_score(y_test,y_pred)"
   ],
   "id": "e9a8dc1574b3e69",
   "outputs": [],
   "execution_count": null
  },
  {
   "metadata": {},
   "cell_type": "code",
   "source": [
    "# import plotly.express as px\n",
    "# \n",
    "# y_train_trf = y_train.astype(str)\n",
    "# fig = px.scatter_3d(df, x=X_train_trf[:, 0], y=X_train_trf[:, 1], z=X_train_trf[:, 2],\n",
    "#                     color=y_train_trf)\n",
    "# fig.update_layout(\n",
    "#     margin=dict(l=20, r=20, t=20, b=20),\n",
    "#     paper_bgcolor=\"LightSteelBlue\",\n",
    "# )\n",
    "# fig.show()"
   ],
   "id": "4c11663551f3b21b",
   "outputs": [],
   "execution_count": null
  },
  {
   "metadata": {},
   "cell_type": "code",
   "source": "pd.DataFrame(X_test).isnull().mean()",
   "id": "5027476d75eadca6",
   "outputs": [],
   "execution_count": null
  },
  {
   "metadata": {},
   "cell_type": "code",
   "source": "np.__version__",
   "id": "be10ac47c32db12d",
   "outputs": [],
   "execution_count": null
  },
  {
   "metadata": {},
   "cell_type": "code",
   "source": "",
   "id": "4479d48e7dd9e44",
   "outputs": [],
   "execution_count": null
  }
 ],
 "metadata": {
  "kernelspec": {
   "display_name": "Python 3",
   "language": "python",
   "name": "python3"
  },
  "language_info": {
   "codemirror_mode": {
    "name": "ipython",
    "version": 2
   },
   "file_extension": ".py",
   "mimetype": "text/x-python",
   "name": "python",
   "nbconvert_exporter": "python",
   "pygments_lexer": "ipython2",
   "version": "2.7.6"
  }
 },
 "nbformat": 4,
 "nbformat_minor": 5
}
