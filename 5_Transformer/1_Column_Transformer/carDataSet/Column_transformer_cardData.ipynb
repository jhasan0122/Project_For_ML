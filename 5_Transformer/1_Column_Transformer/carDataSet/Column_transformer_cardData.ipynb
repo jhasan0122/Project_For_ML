{
 "cells": [
  {
   "cell_type": "code",
   "id": "initial_id",
   "metadata": {
    "collapsed": true,
    "ExecuteTime": {
     "end_time": "2024-07-20T07:30:21.060886Z",
     "start_time": "2024-07-20T07:30:21.058249Z"
    }
   },
   "source": [
    "import pandas as pd\n",
    "import numpy as np"
   ],
   "outputs": [],
   "execution_count": 63
  },
  {
   "metadata": {
    "ExecuteTime": {
     "end_time": "2024-07-20T07:30:21.082212Z",
     "start_time": "2024-07-20T07:30:21.079250Z"
    }
   },
   "cell_type": "code",
   "source": [
    "from sklearn.preprocessing import OrdinalEncoder\n",
    "from sklearn.preprocessing import OneHotEncoder\n",
    "from  sklearn.preprocessing import LabelEncoder"
   ],
   "id": "500611cd51128481",
   "outputs": [],
   "execution_count": 64
  },
  {
   "metadata": {
    "ExecuteTime": {
     "end_time": "2024-07-20T07:30:21.118499Z",
     "start_time": "2024-07-20T07:30:21.103685Z"
    }
   },
   "cell_type": "code",
   "source": [
    "df = pd.read_csv('cars.csv')\n",
    "df.sample(10)"
   ],
   "id": "d3f5018bce2d7dae",
   "outputs": [
    {
     "data": {
      "text/plain": [
       "           brand  km_driven    fuel         owner  selling_price\n",
       "8112        Ford      24000  Diesel   First Owner         746000\n",
       "1344     Renault      81000  Diesel  Second Owner         360000\n",
       "5102      Maruti      40000  Petrol   First Owner         475000\n",
       "2999    Mahindra     300000  Diesel   Third Owner         160000\n",
       "369   Volkswagen      70000  Petrol   First Owner         800000\n",
       "4818        Tata     110000  Diesel   First Owner         503000\n",
       "6174       Honda      56494  Petrol   First Owner         550000\n",
       "3698       Honda      50000  Diesel   First Owner         484999\n",
       "6372     Hyundai      70000  Petrol   First Owner         450000\n",
       "3803    Mahindra      60000  Diesel   First Owner         630000"
      ],
      "text/html": [
       "<div>\n",
       "<style scoped>\n",
       "    .dataframe tbody tr th:only-of-type {\n",
       "        vertical-align: middle;\n",
       "    }\n",
       "\n",
       "    .dataframe tbody tr th {\n",
       "        vertical-align: top;\n",
       "    }\n",
       "\n",
       "    .dataframe thead th {\n",
       "        text-align: right;\n",
       "    }\n",
       "</style>\n",
       "<table border=\"1\" class=\"dataframe\">\n",
       "  <thead>\n",
       "    <tr style=\"text-align: right;\">\n",
       "      <th></th>\n",
       "      <th>brand</th>\n",
       "      <th>km_driven</th>\n",
       "      <th>fuel</th>\n",
       "      <th>owner</th>\n",
       "      <th>selling_price</th>\n",
       "    </tr>\n",
       "  </thead>\n",
       "  <tbody>\n",
       "    <tr>\n",
       "      <th>8112</th>\n",
       "      <td>Ford</td>\n",
       "      <td>24000</td>\n",
       "      <td>Diesel</td>\n",
       "      <td>First Owner</td>\n",
       "      <td>746000</td>\n",
       "    </tr>\n",
       "    <tr>\n",
       "      <th>1344</th>\n",
       "      <td>Renault</td>\n",
       "      <td>81000</td>\n",
       "      <td>Diesel</td>\n",
       "      <td>Second Owner</td>\n",
       "      <td>360000</td>\n",
       "    </tr>\n",
       "    <tr>\n",
       "      <th>5102</th>\n",
       "      <td>Maruti</td>\n",
       "      <td>40000</td>\n",
       "      <td>Petrol</td>\n",
       "      <td>First Owner</td>\n",
       "      <td>475000</td>\n",
       "    </tr>\n",
       "    <tr>\n",
       "      <th>2999</th>\n",
       "      <td>Mahindra</td>\n",
       "      <td>300000</td>\n",
       "      <td>Diesel</td>\n",
       "      <td>Third Owner</td>\n",
       "      <td>160000</td>\n",
       "    </tr>\n",
       "    <tr>\n",
       "      <th>369</th>\n",
       "      <td>Volkswagen</td>\n",
       "      <td>70000</td>\n",
       "      <td>Petrol</td>\n",
       "      <td>First Owner</td>\n",
       "      <td>800000</td>\n",
       "    </tr>\n",
       "    <tr>\n",
       "      <th>4818</th>\n",
       "      <td>Tata</td>\n",
       "      <td>110000</td>\n",
       "      <td>Diesel</td>\n",
       "      <td>First Owner</td>\n",
       "      <td>503000</td>\n",
       "    </tr>\n",
       "    <tr>\n",
       "      <th>6174</th>\n",
       "      <td>Honda</td>\n",
       "      <td>56494</td>\n",
       "      <td>Petrol</td>\n",
       "      <td>First Owner</td>\n",
       "      <td>550000</td>\n",
       "    </tr>\n",
       "    <tr>\n",
       "      <th>3698</th>\n",
       "      <td>Honda</td>\n",
       "      <td>50000</td>\n",
       "      <td>Diesel</td>\n",
       "      <td>First Owner</td>\n",
       "      <td>484999</td>\n",
       "    </tr>\n",
       "    <tr>\n",
       "      <th>6372</th>\n",
       "      <td>Hyundai</td>\n",
       "      <td>70000</td>\n",
       "      <td>Petrol</td>\n",
       "      <td>First Owner</td>\n",
       "      <td>450000</td>\n",
       "    </tr>\n",
       "    <tr>\n",
       "      <th>3803</th>\n",
       "      <td>Mahindra</td>\n",
       "      <td>60000</td>\n",
       "      <td>Diesel</td>\n",
       "      <td>First Owner</td>\n",
       "      <td>630000</td>\n",
       "    </tr>\n",
       "  </tbody>\n",
       "</table>\n",
       "</div>"
      ]
     },
     "execution_count": 65,
     "metadata": {},
     "output_type": "execute_result"
    }
   ],
   "execution_count": 65
  },
  {
   "metadata": {},
   "cell_type": "markdown",
   "source": "## check count",
   "id": "857b3b452d491d1f"
  },
  {
   "metadata": {
    "ExecuteTime": {
     "end_time": "2024-07-20T07:30:21.123410Z",
     "start_time": "2024-07-20T07:30:21.119503Z"
    }
   },
   "cell_type": "code",
   "source": "print(df['brand'].nunique(),df['fuel'].nunique(),df['owner'].nunique())",
   "id": "515fe225d456d6d1",
   "outputs": [
    {
     "name": "stdout",
     "output_type": "stream",
     "text": [
      "32 4 5\n"
     ]
    }
   ],
   "execution_count": 66
  },
  {
   "metadata": {
    "ExecuteTime": {
     "end_time": "2024-07-20T07:30:21.128714Z",
     "start_time": "2024-07-20T07:30:21.123410Z"
    }
   },
   "cell_type": "code",
   "source": "df['owner'].value_counts()",
   "id": "af2604f1fef6b433",
   "outputs": [
    {
     "data": {
      "text/plain": [
       "owner\n",
       "First Owner             5289\n",
       "Second Owner            2105\n",
       "Third Owner              555\n",
       "Fourth & Above Owner     174\n",
       "Test Drive Car             5\n",
       "Name: count, dtype: int64"
      ]
     },
     "execution_count": 67,
     "metadata": {},
     "output_type": "execute_result"
    }
   ],
   "execution_count": 67
  },
  {
   "metadata": {
    "ExecuteTime": {
     "end_time": "2024-07-20T07:30:21.134319Z",
     "start_time": "2024-07-20T07:30:21.129757Z"
    }
   },
   "cell_type": "code",
   "source": "df['fuel'].value_counts()",
   "id": "623119a04e23e845",
   "outputs": [
    {
     "data": {
      "text/plain": [
       "fuel\n",
       "Diesel    4402\n",
       "Petrol    3631\n",
       "CNG         57\n",
       "LPG         38\n",
       "Name: count, dtype: int64"
      ]
     },
     "execution_count": 68,
     "metadata": {},
     "output_type": "execute_result"
    }
   ],
   "execution_count": 68
  },
  {
   "metadata": {},
   "cell_type": "markdown",
   "source": "### check null",
   "id": "924d05b06e3435a3"
  },
  {
   "metadata": {
    "ExecuteTime": {
     "end_time": "2024-07-20T07:30:21.141285Z",
     "start_time": "2024-07-20T07:30:21.135352Z"
    }
   },
   "cell_type": "code",
   "source": "df.isnull().sum()",
   "id": "a6447cd80268fc12",
   "outputs": [
    {
     "data": {
      "text/plain": [
       "brand            0\n",
       "km_driven        0\n",
       "fuel             0\n",
       "owner            0\n",
       "selling_price    0\n",
       "dtype: int64"
      ]
     },
     "execution_count": 69,
     "metadata": {},
     "output_type": "execute_result"
    }
   ],
   "execution_count": 69
  },
  {
   "metadata": {},
   "cell_type": "markdown",
   "source": "# Split",
   "id": "b203f314d9a9c717"
  },
  {
   "metadata": {
    "ExecuteTime": {
     "end_time": "2024-07-20T07:30:21.149258Z",
     "start_time": "2024-07-20T07:30:21.142291Z"
    }
   },
   "cell_type": "code",
   "source": "df",
   "id": "9a5aeb02c027b33c",
   "outputs": [
    {
     "data": {
      "text/plain": [
       "        brand  km_driven    fuel                 owner  selling_price\n",
       "0      Maruti     145500  Diesel           First Owner         450000\n",
       "1       Skoda     120000  Diesel          Second Owner         370000\n",
       "2       Honda     140000  Petrol           Third Owner         158000\n",
       "3     Hyundai     127000  Diesel           First Owner         225000\n",
       "4      Maruti     120000  Petrol           First Owner         130000\n",
       "...       ...        ...     ...                   ...            ...\n",
       "8123  Hyundai     110000  Petrol           First Owner         320000\n",
       "8124  Hyundai     119000  Diesel  Fourth & Above Owner         135000\n",
       "8125   Maruti     120000  Diesel           First Owner         382000\n",
       "8126     Tata      25000  Diesel           First Owner         290000\n",
       "8127     Tata      25000  Diesel           First Owner         290000\n",
       "\n",
       "[8128 rows x 5 columns]"
      ],
      "text/html": [
       "<div>\n",
       "<style scoped>\n",
       "    .dataframe tbody tr th:only-of-type {\n",
       "        vertical-align: middle;\n",
       "    }\n",
       "\n",
       "    .dataframe tbody tr th {\n",
       "        vertical-align: top;\n",
       "    }\n",
       "\n",
       "    .dataframe thead th {\n",
       "        text-align: right;\n",
       "    }\n",
       "</style>\n",
       "<table border=\"1\" class=\"dataframe\">\n",
       "  <thead>\n",
       "    <tr style=\"text-align: right;\">\n",
       "      <th></th>\n",
       "      <th>brand</th>\n",
       "      <th>km_driven</th>\n",
       "      <th>fuel</th>\n",
       "      <th>owner</th>\n",
       "      <th>selling_price</th>\n",
       "    </tr>\n",
       "  </thead>\n",
       "  <tbody>\n",
       "    <tr>\n",
       "      <th>0</th>\n",
       "      <td>Maruti</td>\n",
       "      <td>145500</td>\n",
       "      <td>Diesel</td>\n",
       "      <td>First Owner</td>\n",
       "      <td>450000</td>\n",
       "    </tr>\n",
       "    <tr>\n",
       "      <th>1</th>\n",
       "      <td>Skoda</td>\n",
       "      <td>120000</td>\n",
       "      <td>Diesel</td>\n",
       "      <td>Second Owner</td>\n",
       "      <td>370000</td>\n",
       "    </tr>\n",
       "    <tr>\n",
       "      <th>2</th>\n",
       "      <td>Honda</td>\n",
       "      <td>140000</td>\n",
       "      <td>Petrol</td>\n",
       "      <td>Third Owner</td>\n",
       "      <td>158000</td>\n",
       "    </tr>\n",
       "    <tr>\n",
       "      <th>3</th>\n",
       "      <td>Hyundai</td>\n",
       "      <td>127000</td>\n",
       "      <td>Diesel</td>\n",
       "      <td>First Owner</td>\n",
       "      <td>225000</td>\n",
       "    </tr>\n",
       "    <tr>\n",
       "      <th>4</th>\n",
       "      <td>Maruti</td>\n",
       "      <td>120000</td>\n",
       "      <td>Petrol</td>\n",
       "      <td>First Owner</td>\n",
       "      <td>130000</td>\n",
       "    </tr>\n",
       "    <tr>\n",
       "      <th>...</th>\n",
       "      <td>...</td>\n",
       "      <td>...</td>\n",
       "      <td>...</td>\n",
       "      <td>...</td>\n",
       "      <td>...</td>\n",
       "    </tr>\n",
       "    <tr>\n",
       "      <th>8123</th>\n",
       "      <td>Hyundai</td>\n",
       "      <td>110000</td>\n",
       "      <td>Petrol</td>\n",
       "      <td>First Owner</td>\n",
       "      <td>320000</td>\n",
       "    </tr>\n",
       "    <tr>\n",
       "      <th>8124</th>\n",
       "      <td>Hyundai</td>\n",
       "      <td>119000</td>\n",
       "      <td>Diesel</td>\n",
       "      <td>Fourth &amp; Above Owner</td>\n",
       "      <td>135000</td>\n",
       "    </tr>\n",
       "    <tr>\n",
       "      <th>8125</th>\n",
       "      <td>Maruti</td>\n",
       "      <td>120000</td>\n",
       "      <td>Diesel</td>\n",
       "      <td>First Owner</td>\n",
       "      <td>382000</td>\n",
       "    </tr>\n",
       "    <tr>\n",
       "      <th>8126</th>\n",
       "      <td>Tata</td>\n",
       "      <td>25000</td>\n",
       "      <td>Diesel</td>\n",
       "      <td>First Owner</td>\n",
       "      <td>290000</td>\n",
       "    </tr>\n",
       "    <tr>\n",
       "      <th>8127</th>\n",
       "      <td>Tata</td>\n",
       "      <td>25000</td>\n",
       "      <td>Diesel</td>\n",
       "      <td>First Owner</td>\n",
       "      <td>290000</td>\n",
       "    </tr>\n",
       "  </tbody>\n",
       "</table>\n",
       "<p>8128 rows × 5 columns</p>\n",
       "</div>"
      ]
     },
     "execution_count": 70,
     "metadata": {},
     "output_type": "execute_result"
    }
   ],
   "execution_count": 70
  },
  {
   "metadata": {
    "ExecuteTime": {
     "end_time": "2024-07-20T07:30:21.154838Z",
     "start_time": "2024-07-20T07:30:21.150327Z"
    }
   },
   "cell_type": "code",
   "source": [
    "from sklearn.model_selection import train_test_split\n",
    "\n",
    "X_train, X_test, y_train, y_test = train_test_split(df.iloc[:,:-1],df.iloc[:,-1],test_size=0.2,random_state=0)"
   ],
   "id": "c7b75ce3e35ae5e",
   "outputs": [],
   "execution_count": 71
  },
  {
   "metadata": {
    "ExecuteTime": {
     "end_time": "2024-07-20T07:30:21.158732Z",
     "start_time": "2024-07-20T07:30:21.155847Z"
    }
   },
   "cell_type": "code",
   "source": "print(X_train.shape,X_test.shape,y_train.shape,y_test.shape,df.shape)",
   "id": "b66727b44a491c69",
   "outputs": [
    {
     "name": "stdout",
     "output_type": "stream",
     "text": [
      "(6502, 4) (1626, 4) (6502,) (1626,) (8128, 5)\n"
     ]
    }
   ],
   "execution_count": 72
  },
  {
   "metadata": {
    "ExecuteTime": {
     "end_time": "2024-07-20T07:30:21.167024Z",
     "start_time": "2024-07-20T07:30:21.159738Z"
    }
   },
   "cell_type": "code",
   "source": "X_train",
   "id": "a8b41761d5d707ce",
   "outputs": [
    {
     "data": {
      "text/plain": [
       "           brand  km_driven    fuel         owner\n",
       "3042     Hyundai      60000     LPG   First Owner\n",
       "1520        Tata     150000  Diesel   Third Owner\n",
       "2611     Hyundai     110000  Diesel  Second Owner\n",
       "3544    Mahindra      28000  Diesel  Second Owner\n",
       "4138      Maruti      15000  Petrol   First Owner\n",
       "...          ...        ...     ...           ...\n",
       "4931        Tata      70000  Diesel   Third Owner\n",
       "3264        Ford     100000  Diesel  Second Owner\n",
       "1653     Hyundai      90000  Petrol  Second Owner\n",
       "2607  Volkswagen      90000  Diesel   First Owner\n",
       "2732     Hyundai     110000  Petrol   First Owner\n",
       "\n",
       "[6502 rows x 4 columns]"
      ],
      "text/html": [
       "<div>\n",
       "<style scoped>\n",
       "    .dataframe tbody tr th:only-of-type {\n",
       "        vertical-align: middle;\n",
       "    }\n",
       "\n",
       "    .dataframe tbody tr th {\n",
       "        vertical-align: top;\n",
       "    }\n",
       "\n",
       "    .dataframe thead th {\n",
       "        text-align: right;\n",
       "    }\n",
       "</style>\n",
       "<table border=\"1\" class=\"dataframe\">\n",
       "  <thead>\n",
       "    <tr style=\"text-align: right;\">\n",
       "      <th></th>\n",
       "      <th>brand</th>\n",
       "      <th>km_driven</th>\n",
       "      <th>fuel</th>\n",
       "      <th>owner</th>\n",
       "    </tr>\n",
       "  </thead>\n",
       "  <tbody>\n",
       "    <tr>\n",
       "      <th>3042</th>\n",
       "      <td>Hyundai</td>\n",
       "      <td>60000</td>\n",
       "      <td>LPG</td>\n",
       "      <td>First Owner</td>\n",
       "    </tr>\n",
       "    <tr>\n",
       "      <th>1520</th>\n",
       "      <td>Tata</td>\n",
       "      <td>150000</td>\n",
       "      <td>Diesel</td>\n",
       "      <td>Third Owner</td>\n",
       "    </tr>\n",
       "    <tr>\n",
       "      <th>2611</th>\n",
       "      <td>Hyundai</td>\n",
       "      <td>110000</td>\n",
       "      <td>Diesel</td>\n",
       "      <td>Second Owner</td>\n",
       "    </tr>\n",
       "    <tr>\n",
       "      <th>3544</th>\n",
       "      <td>Mahindra</td>\n",
       "      <td>28000</td>\n",
       "      <td>Diesel</td>\n",
       "      <td>Second Owner</td>\n",
       "    </tr>\n",
       "    <tr>\n",
       "      <th>4138</th>\n",
       "      <td>Maruti</td>\n",
       "      <td>15000</td>\n",
       "      <td>Petrol</td>\n",
       "      <td>First Owner</td>\n",
       "    </tr>\n",
       "    <tr>\n",
       "      <th>...</th>\n",
       "      <td>...</td>\n",
       "      <td>...</td>\n",
       "      <td>...</td>\n",
       "      <td>...</td>\n",
       "    </tr>\n",
       "    <tr>\n",
       "      <th>4931</th>\n",
       "      <td>Tata</td>\n",
       "      <td>70000</td>\n",
       "      <td>Diesel</td>\n",
       "      <td>Third Owner</td>\n",
       "    </tr>\n",
       "    <tr>\n",
       "      <th>3264</th>\n",
       "      <td>Ford</td>\n",
       "      <td>100000</td>\n",
       "      <td>Diesel</td>\n",
       "      <td>Second Owner</td>\n",
       "    </tr>\n",
       "    <tr>\n",
       "      <th>1653</th>\n",
       "      <td>Hyundai</td>\n",
       "      <td>90000</td>\n",
       "      <td>Petrol</td>\n",
       "      <td>Second Owner</td>\n",
       "    </tr>\n",
       "    <tr>\n",
       "      <th>2607</th>\n",
       "      <td>Volkswagen</td>\n",
       "      <td>90000</td>\n",
       "      <td>Diesel</td>\n",
       "      <td>First Owner</td>\n",
       "    </tr>\n",
       "    <tr>\n",
       "      <th>2732</th>\n",
       "      <td>Hyundai</td>\n",
       "      <td>110000</td>\n",
       "      <td>Petrol</td>\n",
       "      <td>First Owner</td>\n",
       "    </tr>\n",
       "  </tbody>\n",
       "</table>\n",
       "<p>6502 rows × 4 columns</p>\n",
       "</div>"
      ]
     },
     "execution_count": 73,
     "metadata": {},
     "output_type": "execute_result"
    }
   ],
   "execution_count": 73
  },
  {
   "metadata": {
    "ExecuteTime": {
     "end_time": "2024-07-20T07:30:21.171260Z",
     "start_time": "2024-07-20T07:30:21.168026Z"
    }
   },
   "cell_type": "code",
   "source": [
    "from sklearn.compose import ColumnTransformer\n",
    "\n",
    "transformer = ColumnTransformer(transformers=[\n",
    "    ('tnf1',OrdinalEncoder(categories=[['First Owner','Second Owner','Third Owner','Fourth & Above Owner','Test Drive Car']]),['owner']),\n",
    "    ('tnf2',OneHotEncoder(drop='first',sparse=False),['fuel'])\n",
    "],remainder='passthrough')"
   ],
   "id": "fbcc6f732755f403",
   "outputs": [],
   "execution_count": 74
  },
  {
   "metadata": {
    "ExecuteTime": {
     "end_time": "2024-07-20T07:30:21.182755Z",
     "start_time": "2024-07-20T07:30:21.172318Z"
    }
   },
   "cell_type": "code",
   "source": [
    "X_train = transformer.fit_transform(X_train)\n",
    "X_train"
   ],
   "id": "82765d00040961c",
   "outputs": [
    {
     "name": "stderr",
     "output_type": "stream",
     "text": [
      "C:\\Users\\HP TECHNOLOGY\\anaconda3\\Lib\\site-packages\\sklearn\\preprocessing\\_encoders.py:868: FutureWarning: `sparse` was renamed to `sparse_output` in version 1.2 and will be removed in 1.4. `sparse_output` is ignored unless you leave `sparse` to its default value.\n",
      "  warnings.warn(\n"
     ]
    },
    {
     "data": {
      "text/plain": [
       "array([[0.0, 0.0, 1.0, 0.0, 'Hyundai', 60000],\n",
       "       [2.0, 1.0, 0.0, 0.0, 'Tata', 150000],\n",
       "       [1.0, 1.0, 0.0, 0.0, 'Hyundai', 110000],\n",
       "       ...,\n",
       "       [1.0, 0.0, 0.0, 1.0, 'Hyundai', 90000],\n",
       "       [0.0, 1.0, 0.0, 0.0, 'Volkswagen', 90000],\n",
       "       [0.0, 0.0, 0.0, 1.0, 'Hyundai', 110000]], dtype=object)"
      ]
     },
     "execution_count": 75,
     "metadata": {},
     "output_type": "execute_result"
    }
   ],
   "execution_count": 75
  },
  {
   "metadata": {
    "ExecuteTime": {
     "end_time": "2024-07-20T07:33:40.687774Z",
     "start_time": "2024-07-20T07:33:40.674503Z"
    }
   },
   "cell_type": "code",
   "source": "",
   "id": "b146106843f21875",
   "outputs": [
    {
     "ename": "AttributeError",
     "evalue": "'numpy.ndarray' object has no attribute 'iloc'",
     "output_type": "error",
     "traceback": [
      "\u001B[1;31m---------------------------------------------------------------------------\u001B[0m",
      "\u001B[1;31mAttributeError\u001B[0m                            Traceback (most recent call last)",
      "Cell \u001B[1;32mIn[76], line 1\u001B[0m\n\u001B[1;32m----> 1\u001B[0m X_train_brand \u001B[38;5;241m=\u001B[39m X_train\u001B[38;5;241m.\u001B[39miloc[:,\u001B[38;5;241m4\u001B[39m]\n",
      "\u001B[1;31mAttributeError\u001B[0m: 'numpy.ndarray' object has no attribute 'iloc'"
     ]
    }
   ],
   "execution_count": 76
  },
  {
   "metadata": {
    "ExecuteTime": {
     "end_time": "2024-07-20T07:30:21.189418Z",
     "start_time": "2024-07-20T07:30:21.187568Z"
    }
   },
   "cell_type": "code",
   "source": "",
   "id": "e2d7929d41d5e86c",
   "outputs": [],
   "execution_count": 75
  }
 ],
 "metadata": {
  "kernelspec": {
   "display_name": "Python 3",
   "language": "python",
   "name": "python3"
  },
  "language_info": {
   "codemirror_mode": {
    "name": "ipython",
    "version": 2
   },
   "file_extension": ".py",
   "mimetype": "text/x-python",
   "name": "python",
   "nbconvert_exporter": "python",
   "pygments_lexer": "ipython2",
   "version": "2.7.6"
  }
 },
 "nbformat": 4,
 "nbformat_minor": 5
}
