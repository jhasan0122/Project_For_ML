{
 "cells": [
  {
   "cell_type": "code",
   "id": "initial_id",
   "metadata": {
    "collapsed": true,
    "ExecuteTime": {
     "end_time": "2024-07-19T09:40:32.968355Z",
     "start_time": "2024-07-19T09:40:32.329581Z"
    }
   },
   "source": "import pandas as pd",
   "outputs": [],
   "execution_count": 1
  },
  {
   "metadata": {
    "ExecuteTime": {
     "end_time": "2024-07-19T09:40:47.321739Z",
     "start_time": "2024-07-19T09:40:47.310461Z"
    }
   },
   "cell_type": "code",
   "source": "df = pd.read_csv(\"placement.csv\")",
   "id": "b25de2fa12827551",
   "outputs": [],
   "execution_count": 2
  },
  {
   "metadata": {
    "ExecuteTime": {
     "end_time": "2024-07-19T09:40:49.058854Z",
     "start_time": "2024-07-19T09:40:49.046144Z"
    }
   },
   "cell_type": "code",
   "source": "df",
   "id": "84821faeb40e9b52",
   "outputs": [
    {
     "data": {
      "text/plain": [
       "    Unnamed: 0  cgpa     iq  placement\n",
       "0            0   6.8  123.0          1\n",
       "1            1   5.9  106.0          0\n",
       "2            2   5.3  121.0          0\n",
       "3            3   7.4  132.0          1\n",
       "4            4   5.8  142.0          0\n",
       "..         ...   ...    ...        ...\n",
       "95          95   4.3  200.0          0\n",
       "96          96   4.4   42.0          0\n",
       "97          97   6.7  182.0          1\n",
       "98          98   6.3  103.0          1\n",
       "99          99   6.2  113.0          1\n",
       "\n",
       "[100 rows x 4 columns]"
      ],
      "text/html": [
       "<div>\n",
       "<style scoped>\n",
       "    .dataframe tbody tr th:only-of-type {\n",
       "        vertical-align: middle;\n",
       "    }\n",
       "\n",
       "    .dataframe tbody tr th {\n",
       "        vertical-align: top;\n",
       "    }\n",
       "\n",
       "    .dataframe thead th {\n",
       "        text-align: right;\n",
       "    }\n",
       "</style>\n",
       "<table border=\"1\" class=\"dataframe\">\n",
       "  <thead>\n",
       "    <tr style=\"text-align: right;\">\n",
       "      <th></th>\n",
       "      <th>Unnamed: 0</th>\n",
       "      <th>cgpa</th>\n",
       "      <th>iq</th>\n",
       "      <th>placement</th>\n",
       "    </tr>\n",
       "  </thead>\n",
       "  <tbody>\n",
       "    <tr>\n",
       "      <th>0</th>\n",
       "      <td>0</td>\n",
       "      <td>6.8</td>\n",
       "      <td>123.0</td>\n",
       "      <td>1</td>\n",
       "    </tr>\n",
       "    <tr>\n",
       "      <th>1</th>\n",
       "      <td>1</td>\n",
       "      <td>5.9</td>\n",
       "      <td>106.0</td>\n",
       "      <td>0</td>\n",
       "    </tr>\n",
       "    <tr>\n",
       "      <th>2</th>\n",
       "      <td>2</td>\n",
       "      <td>5.3</td>\n",
       "      <td>121.0</td>\n",
       "      <td>0</td>\n",
       "    </tr>\n",
       "    <tr>\n",
       "      <th>3</th>\n",
       "      <td>3</td>\n",
       "      <td>7.4</td>\n",
       "      <td>132.0</td>\n",
       "      <td>1</td>\n",
       "    </tr>\n",
       "    <tr>\n",
       "      <th>4</th>\n",
       "      <td>4</td>\n",
       "      <td>5.8</td>\n",
       "      <td>142.0</td>\n",
       "      <td>0</td>\n",
       "    </tr>\n",
       "    <tr>\n",
       "      <th>...</th>\n",
       "      <td>...</td>\n",
       "      <td>...</td>\n",
       "      <td>...</td>\n",
       "      <td>...</td>\n",
       "    </tr>\n",
       "    <tr>\n",
       "      <th>95</th>\n",
       "      <td>95</td>\n",
       "      <td>4.3</td>\n",
       "      <td>200.0</td>\n",
       "      <td>0</td>\n",
       "    </tr>\n",
       "    <tr>\n",
       "      <th>96</th>\n",
       "      <td>96</td>\n",
       "      <td>4.4</td>\n",
       "      <td>42.0</td>\n",
       "      <td>0</td>\n",
       "    </tr>\n",
       "    <tr>\n",
       "      <th>97</th>\n",
       "      <td>97</td>\n",
       "      <td>6.7</td>\n",
       "      <td>182.0</td>\n",
       "      <td>1</td>\n",
       "    </tr>\n",
       "    <tr>\n",
       "      <th>98</th>\n",
       "      <td>98</td>\n",
       "      <td>6.3</td>\n",
       "      <td>103.0</td>\n",
       "      <td>1</td>\n",
       "    </tr>\n",
       "    <tr>\n",
       "      <th>99</th>\n",
       "      <td>99</td>\n",
       "      <td>6.2</td>\n",
       "      <td>113.0</td>\n",
       "      <td>1</td>\n",
       "    </tr>\n",
       "  </tbody>\n",
       "</table>\n",
       "<p>100 rows × 4 columns</p>\n",
       "</div>"
      ]
     },
     "execution_count": 3,
     "metadata": {},
     "output_type": "execute_result"
    }
   ],
   "execution_count": 3
  },
  {
   "metadata": {
    "ExecuteTime": {
     "end_time": "2024-07-19T09:41:59.532125Z",
     "start_time": "2024-07-19T09:41:59.527600Z"
    }
   },
   "cell_type": "code",
   "source": "df = df.iloc[:,1:]",
   "id": "12f53ca3198d9b3f",
   "outputs": [],
   "execution_count": 5
  },
  {
   "metadata": {
    "ExecuteTime": {
     "end_time": "2024-07-19T09:42:04.167567Z",
     "start_time": "2024-07-19T09:42:04.157947Z"
    }
   },
   "cell_type": "code",
   "source": "df",
   "id": "b1a37df7de4e2449",
   "outputs": [
    {
     "data": {
      "text/plain": [
       "    cgpa     iq  placement\n",
       "0    6.8  123.0          1\n",
       "1    5.9  106.0          0\n",
       "2    5.3  121.0          0\n",
       "3    7.4  132.0          1\n",
       "4    5.8  142.0          0\n",
       "..   ...    ...        ...\n",
       "95   4.3  200.0          0\n",
       "96   4.4   42.0          0\n",
       "97   6.7  182.0          1\n",
       "98   6.3  103.0          1\n",
       "99   6.2  113.0          1\n",
       "\n",
       "[100 rows x 3 columns]"
      ],
      "text/html": [
       "<div>\n",
       "<style scoped>\n",
       "    .dataframe tbody tr th:only-of-type {\n",
       "        vertical-align: middle;\n",
       "    }\n",
       "\n",
       "    .dataframe tbody tr th {\n",
       "        vertical-align: top;\n",
       "    }\n",
       "\n",
       "    .dataframe thead th {\n",
       "        text-align: right;\n",
       "    }\n",
       "</style>\n",
       "<table border=\"1\" class=\"dataframe\">\n",
       "  <thead>\n",
       "    <tr style=\"text-align: right;\">\n",
       "      <th></th>\n",
       "      <th>cgpa</th>\n",
       "      <th>iq</th>\n",
       "      <th>placement</th>\n",
       "    </tr>\n",
       "  </thead>\n",
       "  <tbody>\n",
       "    <tr>\n",
       "      <th>0</th>\n",
       "      <td>6.8</td>\n",
       "      <td>123.0</td>\n",
       "      <td>1</td>\n",
       "    </tr>\n",
       "    <tr>\n",
       "      <th>1</th>\n",
       "      <td>5.9</td>\n",
       "      <td>106.0</td>\n",
       "      <td>0</td>\n",
       "    </tr>\n",
       "    <tr>\n",
       "      <th>2</th>\n",
       "      <td>5.3</td>\n",
       "      <td>121.0</td>\n",
       "      <td>0</td>\n",
       "    </tr>\n",
       "    <tr>\n",
       "      <th>3</th>\n",
       "      <td>7.4</td>\n",
       "      <td>132.0</td>\n",
       "      <td>1</td>\n",
       "    </tr>\n",
       "    <tr>\n",
       "      <th>4</th>\n",
       "      <td>5.8</td>\n",
       "      <td>142.0</td>\n",
       "      <td>0</td>\n",
       "    </tr>\n",
       "    <tr>\n",
       "      <th>...</th>\n",
       "      <td>...</td>\n",
       "      <td>...</td>\n",
       "      <td>...</td>\n",
       "    </tr>\n",
       "    <tr>\n",
       "      <th>95</th>\n",
       "      <td>4.3</td>\n",
       "      <td>200.0</td>\n",
       "      <td>0</td>\n",
       "    </tr>\n",
       "    <tr>\n",
       "      <th>96</th>\n",
       "      <td>4.4</td>\n",
       "      <td>42.0</td>\n",
       "      <td>0</td>\n",
       "    </tr>\n",
       "    <tr>\n",
       "      <th>97</th>\n",
       "      <td>6.7</td>\n",
       "      <td>182.0</td>\n",
       "      <td>1</td>\n",
       "    </tr>\n",
       "    <tr>\n",
       "      <th>98</th>\n",
       "      <td>6.3</td>\n",
       "      <td>103.0</td>\n",
       "      <td>1</td>\n",
       "    </tr>\n",
       "    <tr>\n",
       "      <th>99</th>\n",
       "      <td>6.2</td>\n",
       "      <td>113.0</td>\n",
       "      <td>1</td>\n",
       "    </tr>\n",
       "  </tbody>\n",
       "</table>\n",
       "<p>100 rows × 3 columns</p>\n",
       "</div>"
      ]
     },
     "execution_count": 6,
     "metadata": {},
     "output_type": "execute_result"
    }
   ],
   "execution_count": 6
  },
  {
   "metadata": {
    "ExecuteTime": {
     "end_time": "2024-07-19T09:42:17.243059Z",
     "start_time": "2024-07-19T09:42:17.239503Z"
    }
   },
   "cell_type": "code",
   "source": "df.shape",
   "id": "457769e3a90b31cb",
   "outputs": [
    {
     "data": {
      "text/plain": [
       "(100, 3)"
      ]
     },
     "execution_count": 7,
     "metadata": {},
     "output_type": "execute_result"
    }
   ],
   "execution_count": 7
  },
  {
   "metadata": {
    "ExecuteTime": {
     "end_time": "2024-07-19T09:44:45.477215Z",
     "start_time": "2024-07-19T09:44:45.224607Z"
    }
   },
   "cell_type": "code",
   "source": "# import matplotlib.pyplot as plt",
   "id": "94d9139f2a5723a5",
   "outputs": [],
   "execution_count": 15
  },
  {
   "metadata": {
    "ExecuteTime": {
     "end_time": "2024-07-19T09:45:42.777586Z",
     "start_time": "2024-07-19T09:45:42.637872Z"
    }
   },
   "cell_type": "code",
   "source": "# plt.scatter(df['cgpa'],df['iq'],c=df['placement'])",
   "id": "f77961659f707085",
   "outputs": [
    {
     "data": {
      "text/plain": [
       "<matplotlib.collections.PathCollection at 0x2c72d251710>"
      ]
     },
     "execution_count": 16,
     "metadata": {},
     "output_type": "execute_result"
    },
    {
     "data": {
      "text/plain": [
       "<Figure size 640x480 with 1 Axes>"
      ],
      "image/png": "[encoded data removed]"
     },
     "metadata": {},
     "output_type": "display_data"
    }
   ],
   "execution_count": 16
  },
  {
   "metadata": {
    "ExecuteTime": {
     "end_time": "2024-07-19T09:43:43.795902Z",
     "start_time": "2024-07-19T09:43:43.791600Z"
    }
   },
   "cell_type": "code",
   "source": [
    "X = df.iloc[:,:2]\n",
    "y = df.iloc[:,-1]"
   ],
   "id": "eda8411eed39de76",
   "outputs": [],
   "execution_count": 11
  },
  {
   "metadata": {
    "ExecuteTime": {
     "end_time": "2024-07-19T09:43:47.718607Z",
     "start_time": "2024-07-19T09:43:47.711209Z"
    }
   },
   "cell_type": "code",
   "source": "X",
   "id": "355cd25438181ca8",
   "outputs": [
    {
     "data": {
      "text/plain": [
       "    cgpa     iq\n",
       "0    6.8  123.0\n",
       "1    5.9  106.0\n",
       "2    5.3  121.0\n",
       "3    7.4  132.0\n",
       "4    5.8  142.0\n",
       "..   ...    ...\n",
       "95   4.3  200.0\n",
       "96   4.4   42.0\n",
       "97   6.7  182.0\n",
       "98   6.3  103.0\n",
       "99   6.2  113.0\n",
       "\n",
       "[100 rows x 2 columns]"
      ],
      "text/html": [
       "<div>\n",
       "<style scoped>\n",
       "    .dataframe tbody tr th:only-of-type {\n",
       "        vertical-align: middle;\n",
       "    }\n",
       "\n",
       "    .dataframe tbody tr th {\n",
       "        vertical-align: top;\n",
       "    }\n",
       "\n",
       "    .dataframe thead th {\n",
       "        text-align: right;\n",
       "    }\n",
       "</style>\n",
       "<table border=\"1\" class=\"dataframe\">\n",
       "  <thead>\n",
       "    <tr style=\"text-align: right;\">\n",
       "      <th></th>\n",
       "      <th>cgpa</th>\n",
       "      <th>iq</th>\n",
       "    </tr>\n",
       "  </thead>\n",
       "  <tbody>\n",
       "    <tr>\n",
       "      <th>0</th>\n",
       "      <td>6.8</td>\n",
       "      <td>123.0</td>\n",
       "    </tr>\n",
       "    <tr>\n",
       "      <th>1</th>\n",
       "      <td>5.9</td>\n",
       "      <td>106.0</td>\n",
       "    </tr>\n",
       "    <tr>\n",
       "      <th>2</th>\n",
       "      <td>5.3</td>\n",
       "      <td>121.0</td>\n",
       "    </tr>\n",
       "    <tr>\n",
       "      <th>3</th>\n",
       "      <td>7.4</td>\n",
       "      <td>132.0</td>\n",
       "    </tr>\n",
       "    <tr>\n",
       "      <th>4</th>\n",
       "      <td>5.8</td>\n",
       "      <td>142.0</td>\n",
       "    </tr>\n",
       "    <tr>\n",
       "      <th>...</th>\n",
       "      <td>...</td>\n",
       "      <td>...</td>\n",
       "    </tr>\n",
       "    <tr>\n",
       "      <th>95</th>\n",
       "      <td>4.3</td>\n",
       "      <td>200.0</td>\n",
       "    </tr>\n",
       "    <tr>\n",
       "      <th>96</th>\n",
       "      <td>4.4</td>\n",
       "      <td>42.0</td>\n",
       "    </tr>\n",
       "    <tr>\n",
       "      <th>97</th>\n",
       "      <td>6.7</td>\n",
       "      <td>182.0</td>\n",
       "    </tr>\n",
       "    <tr>\n",
       "      <th>98</th>\n",
       "      <td>6.3</td>\n",
       "      <td>103.0</td>\n",
       "    </tr>\n",
       "    <tr>\n",
       "      <th>99</th>\n",
       "      <td>6.2</td>\n",
       "      <td>113.0</td>\n",
       "    </tr>\n",
       "  </tbody>\n",
       "</table>\n",
       "<p>100 rows × 2 columns</p>\n",
       "</div>"
      ]
     },
     "execution_count": 12,
     "metadata": {},
     "output_type": "execute_result"
    }
   ],
   "execution_count": 12
  },
  {
   "metadata": {
    "ExecuteTime": {
     "end_time": "2024-07-19T09:43:48.910125Z",
     "start_time": "2024-07-19T09:43:48.904806Z"
    }
   },
   "cell_type": "code",
   "source": "y",
   "id": "c880461848e52745",
   "outputs": [
    {
     "data": {
      "text/plain": [
       "0     1\n",
       "1     0\n",
       "2     0\n",
       "3     1\n",
       "4     0\n",
       "     ..\n",
       "95    0\n",
       "96    0\n",
       "97    1\n",
       "98    1\n",
       "99    1\n",
       "Name: placement, Length: 100, dtype: int64"
      ]
     },
     "execution_count": 13,
     "metadata": {},
     "output_type": "execute_result"
    }
   ],
   "execution_count": 13
  },
  {
   "metadata": {
    "ExecuteTime": {
     "end_time": "2024-07-19T09:47:33.394215Z",
     "start_time": "2024-07-19T09:47:32.404666Z"
    }
   },
   "cell_type": "code",
   "source": [
    "from sklearn.model_selection import train_test_split\n",
    "\n",
    "X_train,X_test,y_train,y_test = train_test_split(X,y,test_size=0.1)"
   ],
   "id": "95c92523e70613bd",
   "outputs": [],
   "execution_count": 17
  },
  {
   "metadata": {
    "ExecuteTime": {
     "end_time": "2024-07-19T09:48:08.491183Z",
     "start_time": "2024-07-19T09:48:08.487605Z"
    }
   },
   "cell_type": "code",
   "source": "y_test.shape",
   "id": "b10556669a905ef0",
   "outputs": [
    {
     "data": {
      "text/plain": [
       "(10,)"
      ]
     },
     "execution_count": 22,
     "metadata": {},
     "output_type": "execute_result"
    }
   ],
   "execution_count": 22
  },
  {
   "metadata": {
    "ExecuteTime": {
     "end_time": "2024-07-19T09:49:33.712132Z",
     "start_time": "2024-07-19T09:49:33.709124Z"
    }
   },
   "cell_type": "code",
   "source": [
    "from sklearn.preprocessing import StandardScaler\n",
    "\n",
    "scaler = StandardScaler()"
   ],
   "id": "c4fb04942decad87",
   "outputs": [],
   "execution_count": 23
  },
  {
   "metadata": {
    "ExecuteTime": {
     "end_time": "2024-07-19T09:50:27.054142Z",
     "start_time": "2024-07-19T09:50:27.047800Z"
    }
   },
   "cell_type": "code",
   "source": [
    "X_train = scaler.fit_transform(X_train)\n",
    "\n",
    "X_train"
   ],
   "id": "f2116b7a5936423f",
   "outputs": [
    {
     "data": {
      "text/plain": [
       "array([[ 1.38082958e+00,  6.62384422e-02],\n",
       "       [ 1.12174412e+00, -2.38176526e-01],\n",
       "       [-6.91854155e-01, -3.90384011e-01],\n",
       "       [ 7.76296826e-01, -7.45534807e-01],\n",
       "       [-5.19130510e-01,  3.45285497e-01],\n",
       "       [-9.59575805e-04, -3.52332139e-02],\n",
       "       [-1.12366327e+00, -1.11336956e-01],\n",
       "       [ 1.12174412e+00,  2.94549669e-01],\n",
       "       [-8.64577800e-01, -8.72374377e-01],\n",
       "       [ 1.71764069e-01, -3.14280268e-01],\n",
       "       [-6.91854155e-01,  9.03379606e-01],\n",
       "       [ 6.03573181e-01,  7.25804207e-01],\n",
       "       [ 4.30849536e-01, -8.97742291e-01],\n",
       "       [-9.59575805e-04, -1.50657223e+00],\n",
       "       [ 3.44487714e-01, -2.38176526e-01],\n",
       "       [ 1.12174412e+00, -9.99213948e-01],\n",
       "       [ 9.49020471e-01, -1.96319468e+00],\n",
       "       [ 3.44487714e-01,  3.96021325e-01],\n",
       "       [-2.16000514e+00,  2.72986942e+00],\n",
       "       [-7.78215978e-01, -1.50657223e+00],\n",
       "       [-8.64577800e-01, -1.58267597e+00],\n",
       "       [-1.46911056e+00,  1.89272825e+00],\n",
       "       [-2.60045043e-01,  1.10632292e+00],\n",
       "       [-7.78215978e-01,  1.28389832e+00],\n",
       "       [-1.38274873e+00, -2.11540217e+00],\n",
       "       [ 1.55355323e+00, -2.88912354e-01],\n",
       "       [ 8.54022466e-02,  7.76540035e-01],\n",
       "       [-9.50939622e-01, -1.63341180e+00],\n",
       "       [ 5.17211359e-01, -1.36704870e-01],\n",
       "       [-1.12366327e+00, -9.73846034e-01],\n",
       "       [-9.50939622e-01,  2.18445926e-01],\n",
       "       [-2.60045043e-01,  3.70653411e-01],\n",
       "       [ 7.76296826e-01,  3.45285497e-01],\n",
       "       [-5.19130510e-01, -2.88912354e-01],\n",
       "       [ 8.62658648e-01,  1.86736034e+00],\n",
       "       [-9.50939622e-01,  7.51172121e-01],\n",
       "       [ 1.72627687e+00, -1.17678935e+00],\n",
       "       [-8.73213982e-02, -4.91855667e-01],\n",
       "       [ 8.62658648e-01, -1.55730806e+00],\n",
       "       [ 1.12174412e+00, -1.91245885e+00],\n",
       "       [ 4.30849536e-01,  8.78011692e-01],\n",
       "       [-1.03730144e+00,  1.10632292e+00],\n",
       "       [-9.50939622e-01,  6.49700465e-01],\n",
       "       [ 4.30849536e-01,  1.16974270e-01],\n",
       "       [-1.03730144e+00,  3.96021325e-01],\n",
       "       [ 1.98536234e+00,  1.08095500e+00],\n",
       "       [-6.91854155e-01,  2.50155819e+00],\n",
       "       [-1.72819602e+00, -6.44063151e-01],\n",
       "       [ 8.54022466e-02, -1.53194014e+00],\n",
       "       [ 1.29446776e+00,  1.16974270e-01],\n",
       "       [-2.33272878e+00,  1.46147371e+00],\n",
       "       [ 6.89935004e-01, -3.39648182e-01],\n",
       "       [-6.91854155e-01, -8.97742291e-01],\n",
       "       [ 1.29446776e+00, -1.63341180e+00],\n",
       "       [-5.19130510e-01, -4.66487753e-01],\n",
       "       [-5.19130510e-01,  2.43813841e-01],\n",
       "       [ 7.76296826e-01,  3.19917583e-01],\n",
       "       [-1.21002509e+00,  5.22860895e-01],\n",
       "       [ 1.29446776e+00,  8.27275864e-01],\n",
       "       [ 8.54022466e-02, -5.67959409e-01],\n",
       "       [ 1.38082958e+00, -9.23110205e-01],\n",
       "       [-9.50939622e-01,  1.79125660e+00],\n",
       "       [-1.38274873e+00,  5.98964637e-01],\n",
       "       [-6.91854155e-01,  1.67710098e-01],\n",
       "       [ 8.54022466e-02,  1.67710098e-01],\n",
       "       [-1.81455785e+00, -4.15751925e-01],\n",
       "       [ 2.15808598e+00, -1.36704870e-01],\n",
       "       [ 6.89935004e-01,  3.96021325e-01],\n",
       "       [ 8.62658648e-01,  1.25853040e+00],\n",
       "       [-6.05492333e-01, -2.88912354e-01],\n",
       "       [ 6.89935004e-01, -6.06011280e-02],\n",
       "       [-1.03730144e+00,  9.54115434e-01],\n",
       "       [-2.60045043e-01,  4.46757153e-01],\n",
       "       [ 8.54022466e-02, -1.12605352e+00],\n",
       "       [ 6.03573181e-01,  1.43610580e+00],\n",
       "       [-1.03730144e+00, -3.39648182e-01],\n",
       "       [-1.73683221e-01,  4.21389239e-01],\n",
       "       [-9.59575805e-04, -2.03929842e+00],\n",
       "       [-9.50939622e-01, -1.36704870e-01],\n",
       "       [-1.73683221e-01,  1.03021918e+00],\n",
       "       [ 8.62658648e-01, -3.39648182e-01],\n",
       "       [ 2.58125891e-01, -5.67959409e-01],\n",
       "       [ 1.20810594e+00,  1.67710098e-01],\n",
       "       [-7.78215978e-01,  6.62384422e-02],\n",
       "       [-8.64577800e-01, -1.87440698e-01],\n",
       "       [ 1.81263869e+00,  1.03021918e+00],\n",
       "       [ 1.81263869e+00,  5.98964637e-01],\n",
       "       [-9.59575805e-04, -5.93327323e-01],\n",
       "       [ 8.62658648e-01,  3.45285497e-01],\n",
       "       [ 2.58125891e-01,  4.08705282e-02]])"
      ]
     },
     "execution_count": 25,
     "metadata": {},
     "output_type": "execute_result"
    }
   ],
   "execution_count": 25
  },
  {
   "metadata": {
    "ExecuteTime": {
     "end_time": "2024-07-19T09:50:36.539742Z",
     "start_time": "2024-07-19T09:50:36.535238Z"
    }
   },
   "cell_type": "code",
   "source": [
    "X_test = scaler.transform(X_test)\n",
    "\n",
    "X_test"
   ],
   "id": "52b2257334d24935",
   "outputs": [
    {
     "data": {
      "text/plain": [
       "array([[ 4.30849536e-01, -2.24224174e+00],\n",
       "       [ 6.89935004e-01, -8.97742291e-01],\n",
       "       [ 9.49020471e-01,  6.49700465e-01],\n",
       "       [ 2.58125891e-01,  6.62384422e-02],\n",
       "       [-2.60045043e-01,  1.67710098e-01],\n",
       "       [-9.59575805e-04,  5.98964637e-01],\n",
       "       [-1.12366327e+00, -1.86172303e+00],\n",
       "       [-1.72819602e+00, -1.27826100e+00],\n",
       "       [-6.05492333e-01, -1.11336956e-01],\n",
       "       [ 5.17211359e-01,  3.19917583e-01]])"
      ]
     },
     "execution_count": 26,
     "metadata": {},
     "output_type": "execute_result"
    }
   ],
   "execution_count": 26
  },
  {
   "metadata": {
    "ExecuteTime": {
     "end_time": "2024-07-19T09:51:15.902430Z",
     "start_time": "2024-07-19T09:51:15.836883Z"
    }
   },
   "cell_type": "code",
   "source": [
    "from sklearn.linear_model import LogisticRegression\n",
    "\n",
    "lr = LogisticRegression()"
   ],
   "id": "a45583a040beea5d",
   "outputs": [],
   "execution_count": 27
  },
  {
   "metadata": {
    "ExecuteTime": {
     "end_time": "2024-07-19T09:52:48.737270Z",
     "start_time": "2024-07-19T09:52:48.718854Z"
    }
   },
   "cell_type": "code",
   "source": "lr.fit(X_train,y_train)",
   "id": "358502b458da1508",
   "outputs": [
    {
     "data": {
      "text/plain": [
       "LogisticRegression()"
      ],
      "text/html": [
       "<style>#sk-container-id-1 {color: black;background-color: white;}#sk-container-id-1 pre{padding: 0;}#sk-container-id-1 div.sk-toggleable {background-color: white;}#sk-container-id-1 label.sk-toggleable__label {cursor: pointer;display: block;width: 100%;margin-bottom: 0;padding: 0.3em;box-sizing: border-box;text-align: center;}#sk-container-id-1 label.sk-toggleable__label-arrow:before {content: \"▸\";float: left;margin-right: 0.25em;color: #696969;}#sk-container-id-1 label.sk-toggleable__label-arrow:hover:before {color: black;}#sk-container-id-1 div.sk-estimator:hover label.sk-toggleable__label-arrow:before {color: black;}#sk-container-id-1 div.sk-toggleable__content {max-height: 0;max-width: 0;overflow: hidden;text-align: left;background-color: #f0f8ff;}#sk-container-id-1 div.sk-toggleable__content pre {margin: 0.2em;color: black;border-radius: 0.25em;background-color: #f0f8ff;}#sk-container-id-1 input.sk-toggleable__control:checked~div.sk-toggleable__content {max-height: 200px;max-width: 100%;overflow: auto;}#sk-container-id-1 input.sk-toggleable__control:checked~label.sk-toggleable__label-arrow:before {content: \"▾\";}#sk-container-id-1 div.sk-estimator input.sk-toggleable__control:checked~label.sk-toggleable__label {background-color: #d4ebff;}#sk-container-id-1 div.sk-label input.sk-toggleable__control:checked~label.sk-toggleable__label {background-color: #d4ebff;}#sk-container-id-1 input.sk-hidden--visually {border: 0;clip: rect(1px 1px 1px 1px);clip: rect(1px, 1px, 1px, 1px);height: 1px;margin: -1px;overflow: hidden;padding: 0;position: absolute;width: 1px;}#sk-container-id-1 div.sk-estimator {font-family: monospace;background-color: #f0f8ff;border: 1px dotted black;border-radius: 0.25em;box-sizing: border-box;margin-bottom: 0.5em;}#sk-container-id-1 div.sk-estimator:hover {background-color: #d4ebff;}#sk-container-id-1 div.sk-parallel-item::after {content: \"\";width: 100%;border-bottom: 1px solid gray;flex-grow: 1;}#sk-container-id-1 div.sk-label:hover label.sk-toggleable__label {background-color: #d4ebff;}#sk-container-id-1 div.sk-serial::before {content: \"\";position: absolute;border-left: 1px solid gray;box-sizing: border-box;top: 0;bottom: 0;left: 50%;z-index: 0;}#sk-container-id-1 div.sk-serial {display: flex;flex-direction: column;align-items: center;background-color: white;padding-right: 0.2em;padding-left: 0.2em;position: relative;}#sk-container-id-1 div.sk-item {position: relative;z-index: 1;}#sk-container-id-1 div.sk-parallel {display: flex;align-items: stretch;justify-content: center;background-color: white;position: relative;}#sk-container-id-1 div.sk-item::before, #sk-container-id-1 div.sk-parallel-item::before {content: \"\";position: absolute;border-left: 1px solid gray;box-sizing: border-box;top: 0;bottom: 0;left: 50%;z-index: -1;}#sk-container-id-1 div.sk-parallel-item {display: flex;flex-direction: column;z-index: 1;position: relative;background-color: white;}#sk-container-id-1 div.sk-parallel-item:first-child::after {align-self: flex-end;width: 50%;}#sk-container-id-1 div.sk-parallel-item:last-child::after {align-self: flex-start;width: 50%;}#sk-container-id-1 div.sk-parallel-item:only-child::after {width: 0;}#sk-container-id-1 div.sk-dashed-wrapped {border: 1px dashed gray;margin: 0 0.4em 0.5em 0.4em;box-sizing: border-box;padding-bottom: 0.4em;background-color: white;}#sk-container-id-1 div.sk-label label {font-family: monospace;font-weight: bold;display: inline-block;line-height: 1.2em;}#sk-container-id-1 div.sk-label-container {text-align: center;}#sk-container-id-1 div.sk-container {/* jupyter's `normalize.less` sets `[hidden] { display: none; }` but bootstrap.min.css set `[hidden] { display: none !important; }` so we also need the `!important` here to be able to override the default hidden behavior on the sphinx rendered scikit-learn.org. See: https://github.com/scikit-learn/scikit-learn/issues/21755 */display: inline-block !important;position: relative;}#sk-container-id-1 div.sk-text-repr-fallback {display: none;}</style><div id=\"sk-container-id-1\" class=\"sk-top-container\"><div class=\"sk-text-repr-fallback\"><pre>LogisticRegression()</pre><b>In a Jupyter environment, please rerun this cell to show the HTML representation or trust the notebook. <br />On GitHub, the HTML representation is unable to render, please try loading this page with nbviewer.org.</b></div><div class=\"sk-container\" hidden><div class=\"sk-item\"><div class=\"sk-estimator sk-toggleable\"><input class=\"sk-toggleable__control sk-hidden--visually\" id=\"sk-estimator-id-1\" type=\"checkbox\" checked><label for=\"sk-estimator-id-1\" class=\"sk-toggleable__label sk-toggleable__label-arrow\">LogisticRegression</label><div class=\"sk-toggleable__content\"><pre>LogisticRegression()</pre></div></div></div></div></div>"
      ]
     },
     "execution_count": 28,
     "metadata": {},
     "output_type": "execute_result"
    }
   ],
   "execution_count": 28
  },
  {
   "metadata": {
    "ExecuteTime": {
     "end_time": "2024-07-19T09:53:20.437917Z",
     "start_time": "2024-07-19T09:53:20.433593Z"
    }
   },
   "cell_type": "code",
   "source": [
    "y_pred = lr.predict(X_test)\n",
    "y_pred"
   ],
   "id": "79dae0ea2c371f7",
   "outputs": [
    {
     "data": {
      "text/plain": [
       "array([1, 1, 1, 1, 0, 0, 0, 0, 0, 1], dtype=int64)"
      ]
     },
     "execution_count": 30,
     "metadata": {},
     "output_type": "execute_result"
    }
   ],
   "execution_count": 30
  },
  {
   "metadata": {
    "ExecuteTime": {
     "end_time": "2024-07-19T09:53:31.707547Z",
     "start_time": "2024-07-19T09:53:31.703782Z"
    }
   },
   "cell_type": "code",
   "source": "y_test",
   "id": "7d9c505e9f7f3133",
   "outputs": [
    {
     "data": {
      "text/plain": [
       "82    1\n",
       "35    1\n",
       "21    1\n",
       "63    1\n",
       "87    1\n",
       "33    0\n",
       "94    0\n",
       "68    0\n",
       "2     0\n",
       "48    1\n",
       "Name: placement, dtype: int64"
      ]
     },
     "execution_count": 31,
     "metadata": {},
     "output_type": "execute_result"
    }
   ],
   "execution_count": 31
  },
  {
   "metadata": {
    "ExecuteTime": {
     "end_time": "2024-07-19T09:54:19.156159Z",
     "start_time": "2024-07-19T09:54:19.151515Z"
    }
   },
   "cell_type": "code",
   "source": [
    "from sklearn.metrics import accuracy_score\n",
    "\n",
    "accuracy_score(y_test,y_pred)"
   ],
   "id": "45ab955a489a022",
   "outputs": [
    {
     "data": {
      "text/plain": [
       "0.9"
      ]
     },
     "execution_count": 32,
     "metadata": {},
     "output_type": "execute_result"
    }
   ],
   "execution_count": 32
  },
  {
   "metadata": {
    "ExecuteTime": {
     "end_time": "2024-07-19T09:57:34.969664Z",
     "start_time": "2024-07-19T09:57:34.817932Z"
    }
   },
   "cell_type": "code",
   "source": [
    "# from mlxtend.plotting import plot_decision_regions\n",
    "# \n",
    "# plot_decision_regions(X_train,y_train.values,clf=lr,legend=2)"
   ],
   "id": "e7417dafce782528",
   "outputs": [
    {
     "data": {
      "text/plain": [
       "<Axes: >"
      ]
     },
     "execution_count": 34,
     "metadata": {},
     "output_type": "execute_result"
    },
    {
     "data": {
      "text/plain": [
       "<Figure size 640x480 with 1 Axes>"
      ],
      "image/png": "[encoded data removed]"
     },
     "metadata": {},
     "output_type": "display_data"
    }
   ],
   "execution_count": 34
  },
  {
   "metadata": {
    "ExecuteTime": {
     "end_time": "2024-07-19T10:00:55.516218Z",
     "start_time": "2024-07-19T10:00:55.512233Z"
    }
   },
   "cell_type": "code",
   "source": [
    "import pickle\n",
    "pickle.dump(lr,open(\"model.pkl\",'wb'))"
   ],
   "id": "211f33e366285925",
   "outputs": [],
   "execution_count": 35
  },
  {
   "metadata": {},
   "cell_type": "code",
   "outputs": [],
   "execution_count": null,
   "source": "",
   "id": "3dcd1051ac1ad50d"
  }
 ],
 "metadata": {
  "kernelspec": {
   "display_name": "Python 3",
   "language": "python",
   "name": "python3"
  },
  "language_info": {
   "codemirror_mode": {
    "name": "ipython",
    "version": 2
   },
   "file_extension": ".py",
   "mimetype": "text/x-python",
   "name": "python",
   "nbconvert_exporter": "python",
   "pygments_lexer": "ipython2",
   "version": "2.7.6"
  }
 },
 "nbformat": 4,
 "nbformat_minor": 5
}
