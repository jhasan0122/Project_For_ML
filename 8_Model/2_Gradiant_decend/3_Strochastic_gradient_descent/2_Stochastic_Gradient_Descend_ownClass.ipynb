{
 "cells": [
  {
   "cell_type": "code",
   "id": "initial_id",
   "metadata": {
    "collapsed": true,
    "ExecuteTime": {
     "end_time": "2024-08-15T07:16:42.042155Z",
     "start_time": "2024-08-15T07:16:42.039096Z"
    }
   },
   "source": [
    "from sklearn.datasets import load_diabetes\n",
    "\n",
    "import numpy as np\n",
    "from sklearn.linear_model import LinearRegression\n",
    "from sklearn.metrics import r2_score\n",
    "from sklearn.model_selection import train_test_split\n",
    "\n",
    "import time"
   ],
   "outputs": [],
   "execution_count": 35
  },
  {
   "metadata": {
    "ExecuteTime": {
     "end_time": "2024-08-15T07:16:42.053568Z",
     "start_time": "2024-08-15T07:16:42.043156Z"
    }
   },
   "cell_type": "code",
   "source": "X,y = load_diabetes(return_X_y=True)",
   "id": "c137f37a49c164e3",
   "outputs": [],
   "execution_count": 36
  },
  {
   "metadata": {
    "ExecuteTime": {
     "end_time": "2024-08-15T07:16:42.060574Z",
     "start_time": "2024-08-15T07:16:42.054639Z"
    }
   },
   "cell_type": "code",
   "source": [
    "X_train, X_test, y_train, y_test = train_test_split(X, y, test_size=0.2, random_state=2)\n",
    "reg = LinearRegression()\n",
    "reg.fit(X_train, y_train)"
   ],
   "id": "92fb59404be1a9a2",
   "outputs": [
    {
     "data": {
      "text/plain": [
       "LinearRegression()"
      ],
      "text/html": [
       "<style>#sk-container-id-4 {color: black;background-color: white;}#sk-container-id-4 pre{padding: 0;}#sk-container-id-4 div.sk-toggleable {background-color: white;}#sk-container-id-4 label.sk-toggleable__label {cursor: pointer;display: block;width: 100%;margin-bottom: 0;padding: 0.3em;box-sizing: border-box;text-align: center;}#sk-container-id-4 label.sk-toggleable__label-arrow:before {content: \"▸\";float: left;margin-right: 0.25em;color: #696969;}#sk-container-id-4 label.sk-toggleable__label-arrow:hover:before {color: black;}#sk-container-id-4 div.sk-estimator:hover label.sk-toggleable__label-arrow:before {color: black;}#sk-container-id-4 div.sk-toggleable__content {max-height: 0;max-width: 0;overflow: hidden;text-align: left;background-color: #f0f8ff;}#sk-container-id-4 div.sk-toggleable__content pre {margin: 0.2em;color: black;border-radius: 0.25em;background-color: #f0f8ff;}#sk-container-id-4 input.sk-toggleable__control:checked~div.sk-toggleable__content {max-height: 200px;max-width: 100%;overflow: auto;}#sk-container-id-4 input.sk-toggleable__control:checked~label.sk-toggleable__label-arrow:before {content: \"▾\";}#sk-container-id-4 div.sk-estimator input.sk-toggleable__control:checked~label.sk-toggleable__label {background-color: #d4ebff;}#sk-container-id-4 div.sk-label input.sk-toggleable__control:checked~label.sk-toggleable__label {background-color: #d4ebff;}#sk-container-id-4 input.sk-hidden--visually {border: 0;clip: rect(1px 1px 1px 1px);clip: rect(1px, 1px, 1px, 1px);height: 1px;margin: -1px;overflow: hidden;padding: 0;position: absolute;width: 1px;}#sk-container-id-4 div.sk-estimator {font-family: monospace;background-color: #f0f8ff;border: 1px dotted black;border-radius: 0.25em;box-sizing: border-box;margin-bottom: 0.5em;}#sk-container-id-4 div.sk-estimator:hover {background-color: #d4ebff;}#sk-container-id-4 div.sk-parallel-item::after {content: \"\";width: 100%;border-bottom: 1px solid gray;flex-grow: 1;}#sk-container-id-4 div.sk-label:hover label.sk-toggleable__label {background-color: #d4ebff;}#sk-container-id-4 div.sk-serial::before {content: \"\";position: absolute;border-left: 1px solid gray;box-sizing: border-box;top: 0;bottom: 0;left: 50%;z-index: 0;}#sk-container-id-4 div.sk-serial {display: flex;flex-direction: column;align-items: center;background-color: white;padding-right: 0.2em;padding-left: 0.2em;position: relative;}#sk-container-id-4 div.sk-item {position: relative;z-index: 1;}#sk-container-id-4 div.sk-parallel {display: flex;align-items: stretch;justify-content: center;background-color: white;position: relative;}#sk-container-id-4 div.sk-item::before, #sk-container-id-4 div.sk-parallel-item::before {content: \"\";position: absolute;border-left: 1px solid gray;box-sizing: border-box;top: 0;bottom: 0;left: 50%;z-index: -1;}#sk-container-id-4 div.sk-parallel-item {display: flex;flex-direction: column;z-index: 1;position: relative;background-color: white;}#sk-container-id-4 div.sk-parallel-item:first-child::after {align-self: flex-end;width: 50%;}#sk-container-id-4 div.sk-parallel-item:last-child::after {align-self: flex-start;width: 50%;}#sk-container-id-4 div.sk-parallel-item:only-child::after {width: 0;}#sk-container-id-4 div.sk-dashed-wrapped {border: 1px dashed gray;margin: 0 0.4em 0.5em 0.4em;box-sizing: border-box;padding-bottom: 0.4em;background-color: white;}#sk-container-id-4 div.sk-label label {font-family: monospace;font-weight: bold;display: inline-block;line-height: 1.2em;}#sk-container-id-4 div.sk-label-container {text-align: center;}#sk-container-id-4 div.sk-container {/* jupyter's `normalize.less` sets `[hidden] { display: none; }` but bootstrap.min.css set `[hidden] { display: none !important; }` so we also need the `!important` here to be able to override the default hidden behavior on the sphinx rendered scikit-learn.org. See: https://github.com/scikit-learn/scikit-learn/issues/21755 */display: inline-block !important;position: relative;}#sk-container-id-4 div.sk-text-repr-fallback {display: none;}</style><div id=\"sk-container-id-4\" class=\"sk-top-container\"><div class=\"sk-text-repr-fallback\"><pre>LinearRegression()</pre><b>In a Jupyter environment, please rerun this cell to show the HTML representation or trust the notebook. <br />On GitHub, the HTML representation is unable to render, please try loading this page with nbviewer.org.</b></div><div class=\"sk-container\" hidden><div class=\"sk-item\"><div class=\"sk-estimator sk-toggleable\"><input class=\"sk-toggleable__control sk-hidden--visually\" id=\"sk-estimator-id-4\" type=\"checkbox\" checked><label for=\"sk-estimator-id-4\" class=\"sk-toggleable__label sk-toggleable__label-arrow\">LinearRegression</label><div class=\"sk-toggleable__content\"><pre>LinearRegression()</pre></div></div></div></div></div>"
      ]
     },
     "execution_count": 37,
     "metadata": {},
     "output_type": "execute_result"
    }
   ],
   "execution_count": 37
  },
  {
   "metadata": {
    "ExecuteTime": {
     "end_time": "2024-08-15T07:16:42.064301Z",
     "start_time": "2024-08-15T07:16:42.061575Z"
    }
   },
   "cell_type": "code",
   "source": [
    "print(reg.intercept_)\n",
    "print(reg.coef_)"
   ],
   "id": "22d1c6100c813823",
   "outputs": [
    {
     "name": "stdout",
     "output_type": "stream",
     "text": [
      "151.88331005254167\n",
      "[  -9.15865318 -205.45432163  516.69374454  340.61999905 -895.5520019\n",
      "  561.22067904  153.89310954  126.73139688  861.12700152   52.42112238]\n"
     ]
    }
   ],
   "execution_count": 38
  },
  {
   "metadata": {
    "ExecuteTime": {
     "end_time": "2024-08-15T07:16:42.070258Z",
     "start_time": "2024-08-15T07:16:42.065302Z"
    }
   },
   "cell_type": "code",
   "source": [
    "y_pred = reg.predict(X_test)\n",
    "r2_score(y_test,y_pred)"
   ],
   "id": "b9384730f2f247d2",
   "outputs": [
    {
     "data": {
      "text/plain": [
       "0.4399338661568968"
      ]
     },
     "execution_count": 39,
     "metadata": {},
     "output_type": "execute_result"
    }
   ],
   "execution_count": 39
  },
  {
   "metadata": {},
   "cell_type": "markdown",
   "source": "# Batch Gradient Descend",
   "id": "33b12702286295ca"
  },
  {
   "metadata": {
    "ExecuteTime": {
     "end_time": "2024-08-15T07:16:42.100374Z",
     "start_time": "2024-08-15T07:16:42.095418Z"
    }
   },
   "cell_type": "code",
   "source": [
    "class BatchGradientDescend:\n",
    "    def __init__(self,learning_rate=0.01,epochs=1000):\n",
    "        self.intercept_ = None\n",
    "        self.coef_ = None\n",
    "        \n",
    "        self.lr = learning_rate\n",
    "        self.epochs = epochs\n",
    "    \n",
    "    def fit(self,X_train,y_train):\n",
    "        self.intercept_ = 0\n",
    "        self.coef_ = np.ones(X_train.shape[1])     #initialize with row number of one\n",
    "        \n",
    "        for i in range(self.epochs):\n",
    "            y_hat = self.intercept_ + np.dot(X_train , self.coef_) # y^ = B0 + [x11 x12 x13] [B1 B2 B3]\n",
    "            \n",
    "            intercept_der = -2 * np.mean(y_train - y_hat)\n",
    "            self.intercept_ -= (self.lr * intercept_der)\n",
    "            \n",
    "            coef_der = (-2/X_train.shape[0]) * np.dot((y_train - y_hat),X_train) \n",
    "            \n",
    "            self.coef_ -= (self.lr * coef_der)\n",
    "        print(self.intercept_,self.coef_)\n",
    "    \n",
    "    def predict(self,X_test):\n",
    "        return self.intercept_ + np.dot(X_test, self.coef_)"
   ],
   "id": "5012ff164aa30542",
   "outputs": [],
   "execution_count": 40
  },
  {
   "metadata": {
    "ExecuteTime": {
     "end_time": "2024-08-15T07:16:42.115723Z",
     "start_time": "2024-08-15T07:16:42.112422Z"
    }
   },
   "cell_type": "code",
   "source": "bgd = BatchGradientDescend(epochs=1000, learning_rate=0.5)",
   "id": "165a4570375ac511",
   "outputs": [],
   "execution_count": 41
  },
  {
   "metadata": {
    "ExecuteTime": {
     "end_time": "2024-08-15T07:16:42.144352Z",
     "start_time": "2024-08-15T07:16:42.124899Z"
    }
   },
   "cell_type": "code",
   "source": [
    "start = time.time()\n",
    "bgd.fit(X_train, y_train)\n",
    "print(\"Time taken : \",(time.time() - start)*1000,\"ms\")"
   ],
   "id": "309583c459bc150e",
   "outputs": [
    {
     "name": "stdout",
     "output_type": "stream",
     "text": [
      "152.01351687661833 [  14.38990585 -173.7235727   491.54898524  323.91524824  -39.32648042\n",
      " -116.01061213 -194.04077415  103.38135565  451.63448787   97.57218278]\n",
      "Time taken :  16.377687454223633 ms\n"
     ]
    }
   ],
   "execution_count": 42
  },
  {
   "metadata": {
    "ExecuteTime": {
     "end_time": "2024-08-15T07:16:42.150002Z",
     "start_time": "2024-08-15T07:16:42.145408Z"
    }
   },
   "cell_type": "code",
   "source": [
    "y_pred = bgd.predict(X_test)\n",
    "r2_score(y_test, y_pred)"
   ],
   "id": "96f2124251c3d0d2",
   "outputs": [
    {
     "data": {
      "text/plain": [
       "0.4534503034722803"
      ]
     },
     "execution_count": 43,
     "metadata": {},
     "output_type": "execute_result"
    }
   ],
   "execution_count": 43
  },
  {
   "metadata": {
    "ExecuteTime": {
     "end_time": "2024-08-15T07:16:42.156911Z",
     "start_time": "2024-08-15T07:16:42.151007Z"
    }
   },
   "cell_type": "code",
   "source": [
    "class StochasticGradientDescendRegressor:\n",
    "    def __init__(self,learning_rate = 0.01,epochs =100):\n",
    "        self.intercept_ = None\n",
    "        self.coef_ = None\n",
    "        \n",
    "        self.lr = learning_rate\n",
    "        self.epochs = epochs\n",
    "    \n",
    "    def fit(self,X_train,y_train):\n",
    "        self.intercept_ = 0\n",
    "        self.coef_ = np.ones(X_train.shape[1])\n",
    "        \n",
    "        for i in range(self.epochs):\n",
    "            for j in range(X_train.shape[0]):\n",
    "                idx = np.random.randint(0,X_train.shape[0])\n",
    "                \n",
    "                y_hat = self.intercept_ + np.dot(X_train[idx] , self.coef_)\n",
    "                \n",
    "                intercept_der = -2 * (y_train[idx] - y_hat)\n",
    "                self.intercept_ -= (self.lr * intercept_der)\n",
    "                \n",
    "                coef_der = -2 * np.dot((y_train[idx] - y_hat) , X_train[idx])\n",
    "                self.coef_ -= (self.lr * coef_der)\n",
    "                \n",
    "            print(self.intercept_,self.coef_)\n",
    "            \n",
    "    def predict(self,X_test):\n",
    "        return self.intercept_ + np.dot(X_test,self.coef_)"
   ],
   "id": "a92d8cd3af8ae522",
   "outputs": [],
   "execution_count": 44
  },
  {
   "metadata": {
    "ExecuteTime": {
     "end_time": "2024-08-15T07:16:42.161174Z",
     "start_time": "2024-08-15T07:16:42.157912Z"
    }
   },
   "cell_type": "code",
   "source": "sgdr = StochasticGradientDescendRegressor(learning_rate=0.01,epochs=50)",
   "id": "c71acd28fe26d0a6",
   "outputs": [],
   "execution_count": 45
  },
  {
   "metadata": {
    "ExecuteTime": {
     "end_time": "2024-08-15T07:16:42.366064Z",
     "start_time": "2024-08-15T07:16:42.164504Z"
    }
   },
   "cell_type": "code",
   "source": [
    "start = time.time()\n",
    "sgdr.fit(X_train,y_train)\n",
    "print(\"Time taken: \",(time.time() - start)*1000,\"ms\")"
   ],
   "id": "1f06456d94c0335a",
   "outputs": [
    {
     "name": "stdout",
     "output_type": "stream",
     "text": [
      "138.88389110174768 [ 8.44556863  2.35846899 15.14178968 14.37313068  4.07255739  2.51821046\n",
      " -7.82557764  9.47880831 14.92600683 10.4204816 ]\n",
      "150.47192109932107 [ 14.17678731   2.03387431  27.75252996  25.13309142   8.88391091\n",
      "   5.5930547  -15.38780586  17.85013954  28.8727871   19.47808059]\n",
      "150.17989061034038 [ 19.45453371   4.57138098  42.18863892  36.72467434  13.3753215\n",
      "   9.56788449 -25.30411327  28.31120672  42.27132904  26.99587241]\n",
      "165.70200859135332 [ 23.55399606   4.84531257  53.75193174  46.69361024  19.01429746\n",
      "  14.0621282  -32.58701683  36.89160919  54.65425585  35.22832994]\n",
      "144.0664510207465 [ 26.1040444    5.36258518  64.92901494  54.42893836  22.43584719\n",
      "  16.26534271 -39.37228618  44.1574776   66.19720913  40.89597627]\n",
      "154.5833082630344 [ 29.93559756   4.93345292  77.78636206  64.9912537   24.1558213\n",
      "  17.31393051 -47.16704132  50.8599366   77.39150885  49.03189805]\n",
      "160.0687517677294 [ 33.64655727   5.07849972  89.29788465  75.27564592  26.02757293\n",
      "  18.3983723  -53.7266494   56.55986381  87.57118955  55.99189056]\n",
      "149.41918837066794 [ 38.54279377   3.67418538 100.6677512   85.59760906  27.16460718\n",
      "  18.79060595 -60.44072469  61.62972385  97.38703964  61.33797031]\n",
      "150.02352582960867 [ 41.60252651   2.50778978 111.04558279  91.2530581   27.99478378\n",
      "  18.4036255  -66.89563314  67.19133281 107.06955632  66.30330469]\n",
      "148.7796770449963 [ 44.80416769   1.78885855 120.85650892  98.37538966  30.20467825\n",
      "  19.42024409 -71.29252948  71.59036936 115.90926395  71.99434944]\n",
      "146.47752529549663 [ 46.41023349   0.13233479 130.76764579 105.34377821  31.23998494\n",
      "  19.50831731 -76.87545441  76.40336312 124.84260809  77.08579732]\n",
      "157.92137567611974 [ 48.4568271   -1.25540047 142.57793725 113.0601349   32.98876586\n",
      "  19.8492607  -82.34916284  80.55268926 135.0879463   83.1842352 ]\n",
      "153.02537576555596 [ 51.14553394  -4.20248406 149.60461629 119.16688812  33.96291707\n",
      "  19.2030238  -86.66631517  83.3762808  144.09634743  85.25942698]\n",
      "152.05811842299929 [ 53.13042953  -4.04559918 159.72698096 127.57488043  37.21205878\n",
      "  21.71124145 -91.50562788  88.85005046 152.17801278  91.08984805]\n",
      "152.61261693208925 [ 55.80415524  -2.0999806  166.73043263 133.14800005  39.53782407\n",
      "  22.82857553 -95.92060429  93.79813446 161.06096847  94.88182373]\n",
      "147.72090970291978 [ 56.98256649  -2.75975157 176.30924673 139.47162131  41.59633948\n",
      "  23.88278129 -99.50663136  97.50922441 168.62097548  97.11956072]\n",
      "152.2908323472318 [  57.11970837   -3.73228827  184.9603724   143.60897028   43.12811173\n",
      "   24.94512976 -105.44684766  103.02810135  176.90461683  100.40076736]\n",
      "146.816144009028 [  57.56439566   -4.30827069  192.98152361  148.63919739   42.28705518\n",
      "   23.12993172 -109.88113987  105.90738927  184.09557175  104.06588442]\n",
      "139.1069086402765 [  58.34188148   -5.5641903   199.80033757  153.39324698   43.61287052\n",
      "   23.21644729 -112.67005539  108.70566181  190.72513746  106.63089281]\n",
      "151.40762169695765 [  60.32518489   -6.62816515  206.17234084  157.31913337   40.97089641\n",
      "   19.70172502 -116.39116984  109.61458026  196.2017843   108.4599551 ]\n",
      "146.87867921568466 [  61.38208172   -9.20827183  213.33175416  162.84782666   42.05352358\n",
      "   19.3966752  -119.56018488  111.57707681  202.78489346  110.52194777]\n",
      "155.23904762474623 [  62.52242228  -10.69007209  219.18382323  166.60613776   43.63942885\n",
      "   19.4190917  -122.27179999  114.70639314  209.56921256  112.94535211]\n",
      "159.26023368699748 [  62.66302476  -11.56049957  227.3236952   171.54444456   45.07215606\n",
      "   20.53562983 -125.86055949  117.89675992  215.24031349  114.96725866]\n",
      "144.99031094811122 [  64.05908303  -12.70859029  233.84882731  175.32990175   44.98027943\n",
      "   19.26161062 -128.36124022  118.52365574  220.94644874  116.80867039]\n",
      "153.85993630473118 [  64.44460006  -15.07937179  242.1161524   181.18093072   42.7751525\n",
      "   15.37646935 -130.57139099  117.93236984  227.00517661  118.51467089]\n",
      "146.99777170268774 [  64.56383491  -15.19199895  247.55945847  183.84118412   42.79601417\n",
      "   13.94874898 -132.59714985  119.60805685  232.73773996  121.61108356]\n",
      "153.74757111770265 [  64.40872662  -16.59734437  252.35030271  188.01920076   41.49807503\n",
      "   11.39217783 -134.64850562  119.94259446  237.76395449  122.44641716]\n",
      "146.91195834752946 [  65.00491111  -18.21458457  260.04817788  191.48079204   39.81681945\n",
      "    8.99614701 -136.68988074  120.49513305  241.3184693   125.28764854]\n",
      "148.81317376149894 [  64.16641123  -20.40045366  265.45086223  193.36406886   39.54734982\n",
      "    7.47494842 -139.04419265  121.77237395  246.82712592  126.60969612]\n",
      "149.75285556976985 [  62.62093256  -22.49348595  270.64470269  196.55301406   39.00501708\n",
      "    6.76841426 -142.50446368  123.6638534   251.44687522  127.35895383]\n",
      "157.94921580684831 [  61.24258998  -24.00481024  276.87192884  200.65367989   37.43652918\n",
      "    4.16807768 -144.96161154  124.36028528  256.73928185  129.6637751 ]\n",
      "147.6130438722997 [  61.78963626  -25.52693092  282.39060496  202.79120982   37.54713961\n",
      "    4.22313729 -147.41235933  126.49104575  259.89071995  130.05357409]\n",
      "153.7960388349486 [  61.77191448  -28.11336515  287.15199879  205.48822919   35.97196868\n",
      "    2.06124428 -149.37539946  126.74058528  263.55090518  130.21571128]\n",
      "156.00914159261896 [  61.29742456  -29.79390878  293.06077693  208.59682632   33.60110963\n",
      "   -1.5852337  -150.79053514  125.88879022  267.64965305  130.71928804]\n",
      "163.47138423373252 [  60.04548735  -32.88666664  299.39984137  211.97092257   32.26206875\n",
      "   -3.49213427 -154.54065481  127.61679454  272.97606094  131.01116797]\n",
      "160.4715674107716 [  61.35708137  -34.69198287  304.89993848  214.08172482   30.19656654\n",
      "   -5.88038896 -157.44233951  128.60318833  276.72143498  132.05655156]\n",
      "144.47207900885073 [  61.00043653  -35.6141891   307.03962618  215.84876237   30.23197863\n",
      "   -6.36869546 -159.09623698  129.7202397   280.0557417   132.43036164]\n",
      "143.2170766240774 [  61.70847344  -37.22129838  312.73932483  219.24304379   29.00374338\n",
      "   -8.32631743 -160.05468361  129.27469734  283.43601028  134.20893961]\n",
      "141.82380986062512 [  61.38703064  -38.03454619  315.04774992  222.2563371    26.88857672\n",
      "  -11.5259229  -160.39534983  128.14627712  286.05277506  134.28247545]\n",
      "155.7089342268219 [  60.5736713   -40.65641873  318.77261037  225.16528971   26.00767358\n",
      "  -13.47175981 -161.15321585  128.41854121  289.40305624  132.26292704]\n",
      "148.1429655106188 [  57.8327133   -43.40068658  322.14071709  226.55464825   24.84000923\n",
      "  -15.5276577  -161.66600248  128.00863854  292.54566916  133.21791994]\n",
      "147.09681202775778 [  57.61199307  -44.19889828  326.52938245  229.11404642   24.22747518\n",
      "  -16.09022977 -165.17317503  130.63111089  296.6894677   133.97073899]\n",
      "158.7737354328128 [  56.750626    -46.4690997   330.18180778  231.0515061    23.77604691\n",
      "  -17.44924542 -165.94703935  130.87944664  299.55682387  133.80793415]\n",
      "156.77675280692375 [  56.75851277  -48.8321722   335.27950103  235.11609738   23.92924491\n",
      "  -17.87119492 -167.72853515  132.29949353  303.16875819  134.38529836]\n",
      "156.82244418852477 [  56.52320879  -50.27240223  338.30887817  237.5917945    23.31405152\n",
      "  -19.27018294 -169.00839753  132.89954323  306.73378852  134.17637785]\n",
      "147.21029737304914 [  56.23542871  -51.56576878  342.95965622  240.35535784   23.10988545\n",
      "  -20.30357462 -169.53898847  133.12305818  310.27991448  134.86638017]\n",
      "154.40775196294257 [  56.23884637  -53.11643866  346.79410999  242.89963413   20.8722633\n",
      "  -23.7723495  -170.30317552  132.10673192  313.51620369  135.81333088]\n",
      "154.25117614374588 [  56.04319092  -53.33242745  348.59832281  245.54758895   19.29867146\n",
      "  -25.39863985 -172.23238354  132.10440844  315.4385153   136.57313331]\n",
      "152.4922926854318 [  55.93093046  -56.30524886  351.40298235  247.24889205   18.33462769\n",
      "  -27.12441809 -173.36580836  132.03475976  318.69093793  137.34864719]\n",
      "151.70054792772962 [  55.63684488  -57.69076763  355.39307555  250.97353686   16.63238208\n",
      "  -28.24308456 -175.27292035  132.21131576  319.87711526  136.23085726]\n",
      "Time taken:  198.84634017944336 ms\n"
     ]
    }
   ],
   "execution_count": 46
  },
  {
   "metadata": {
    "ExecuteTime": {
     "end_time": "2024-08-15T07:16:42.369199Z",
     "start_time": "2024-08-15T07:16:42.367068Z"
    }
   },
   "cell_type": "code",
   "source": "",
   "id": "835afbad59fe269b",
   "outputs": [],
   "execution_count": 46
  }
 ],
 "metadata": {
  "kernelspec": {
   "display_name": "Python 3",
   "language": "python",
   "name": "python3"
  },
  "language_info": {
   "codemirror_mode": {
    "name": "ipython",
    "version": 2
   },
   "file_extension": ".py",
   "mimetype": "text/x-python",
   "name": "python",
   "nbconvert_exporter": "python",
   "pygments_lexer": "ipython2",
   "version": "2.7.6"
  }
 },
 "nbformat": 4,
 "nbformat_minor": 5
}
