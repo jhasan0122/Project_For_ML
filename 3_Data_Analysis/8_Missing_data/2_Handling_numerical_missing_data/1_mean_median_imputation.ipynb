{
 "cells": [
  {
   "cell_type": "code",
   "id": "initial_id",
   "metadata": {
    "collapsed": true,
    "ExecuteTime": {
     "end_time": "2024-07-21T16:47:44.031558Z",
     "start_time": "2024-07-21T16:47:44.028233Z"
    }
   },
   "source": [
    "import pandas as pd\n",
    "import numpy as np\n",
    "\n",
    "import matplotlib.pyplot as plt\n",
    "import seaborn as sns\n",
    "\n",
    "from sklearn.model_selection import train_test_split\n",
    "from sklearn.impute import SimpleImputer\n",
    "from sklearn.compose import ColumnTransformer\n"
   ],
   "outputs": [],
   "execution_count": 34
  },
  {
   "metadata": {
    "ExecuteTime": {
     "end_time": "2024-07-21T16:47:44.118688Z",
     "start_time": "2024-07-21T16:47:44.109895Z"
    }
   },
   "cell_type": "code",
   "source": [
    "df = pd.read_csv('titanic_toy.csv')\n",
    "df"
   ],
   "id": "536eca25724b15cf",
   "outputs": [
    {
     "data": {
      "text/plain": [
       "      Age     Fare  Family  Survived\n",
       "0    22.0   7.2500       1         0\n",
       "1    38.0  71.2833       1         1\n",
       "2    26.0   7.9250       0         1\n",
       "3    35.0  53.1000       1         1\n",
       "4    35.0   8.0500       0         0\n",
       "..    ...      ...     ...       ...\n",
       "886  27.0  13.0000       0         0\n",
       "887  19.0  30.0000       0         1\n",
       "888   NaN  23.4500       3         0\n",
       "889  26.0      NaN       0         1\n",
       "890  32.0   7.7500       0         0\n",
       "\n",
       "[891 rows x 4 columns]"
      ],
      "text/html": [
       "<div>\n",
       "<style scoped>\n",
       "    .dataframe tbody tr th:only-of-type {\n",
       "        vertical-align: middle;\n",
       "    }\n",
       "\n",
       "    .dataframe tbody tr th {\n",
       "        vertical-align: top;\n",
       "    }\n",
       "\n",
       "    .dataframe thead th {\n",
       "        text-align: right;\n",
       "    }\n",
       "</style>\n",
       "<table border=\"1\" class=\"dataframe\">\n",
       "  <thead>\n",
       "    <tr style=\"text-align: right;\">\n",
       "      <th></th>\n",
       "      <th>Age</th>\n",
       "      <th>Fare</th>\n",
       "      <th>Family</th>\n",
       "      <th>Survived</th>\n",
       "    </tr>\n",
       "  </thead>\n",
       "  <tbody>\n",
       "    <tr>\n",
       "      <th>0</th>\n",
       "      <td>22.0</td>\n",
       "      <td>7.2500</td>\n",
       "      <td>1</td>\n",
       "      <td>0</td>\n",
       "    </tr>\n",
       "    <tr>\n",
       "      <th>1</th>\n",
       "      <td>38.0</td>\n",
       "      <td>71.2833</td>\n",
       "      <td>1</td>\n",
       "      <td>1</td>\n",
       "    </tr>\n",
       "    <tr>\n",
       "      <th>2</th>\n",
       "      <td>26.0</td>\n",
       "      <td>7.9250</td>\n",
       "      <td>0</td>\n",
       "      <td>1</td>\n",
       "    </tr>\n",
       "    <tr>\n",
       "      <th>3</th>\n",
       "      <td>35.0</td>\n",
       "      <td>53.1000</td>\n",
       "      <td>1</td>\n",
       "      <td>1</td>\n",
       "    </tr>\n",
       "    <tr>\n",
       "      <th>4</th>\n",
       "      <td>35.0</td>\n",
       "      <td>8.0500</td>\n",
       "      <td>0</td>\n",
       "      <td>0</td>\n",
       "    </tr>\n",
       "    <tr>\n",
       "      <th>...</th>\n",
       "      <td>...</td>\n",
       "      <td>...</td>\n",
       "      <td>...</td>\n",
       "      <td>...</td>\n",
       "    </tr>\n",
       "    <tr>\n",
       "      <th>886</th>\n",
       "      <td>27.0</td>\n",
       "      <td>13.0000</td>\n",
       "      <td>0</td>\n",
       "      <td>0</td>\n",
       "    </tr>\n",
       "    <tr>\n",
       "      <th>887</th>\n",
       "      <td>19.0</td>\n",
       "      <td>30.0000</td>\n",
       "      <td>0</td>\n",
       "      <td>1</td>\n",
       "    </tr>\n",
       "    <tr>\n",
       "      <th>888</th>\n",
       "      <td>NaN</td>\n",
       "      <td>23.4500</td>\n",
       "      <td>3</td>\n",
       "      <td>0</td>\n",
       "    </tr>\n",
       "    <tr>\n",
       "      <th>889</th>\n",
       "      <td>26.0</td>\n",
       "      <td>NaN</td>\n",
       "      <td>0</td>\n",
       "      <td>1</td>\n",
       "    </tr>\n",
       "    <tr>\n",
       "      <th>890</th>\n",
       "      <td>32.0</td>\n",
       "      <td>7.7500</td>\n",
       "      <td>0</td>\n",
       "      <td>0</td>\n",
       "    </tr>\n",
       "  </tbody>\n",
       "</table>\n",
       "<p>891 rows × 4 columns</p>\n",
       "</div>"
      ]
     },
     "execution_count": 35,
     "metadata": {},
     "output_type": "execute_result"
    }
   ],
   "execution_count": 35
  },
  {
   "metadata": {
    "ExecuteTime": {
     "end_time": "2024-07-21T16:47:44.160440Z",
     "start_time": "2024-07-21T16:47:44.153794Z"
    }
   },
   "cell_type": "code",
   "source": "df.info()",
   "id": "d71ebe1ddc38a8dd",
   "outputs": [
    {
     "name": "stdout",
     "output_type": "stream",
     "text": [
      "<class 'pandas.core.frame.DataFrame'>\n",
      "RangeIndex: 891 entries, 0 to 890\n",
      "Data columns (total 4 columns):\n",
      " #   Column    Non-Null Count  Dtype  \n",
      "---  ------    --------------  -----  \n",
      " 0   Age       714 non-null    float64\n",
      " 1   Fare      846 non-null    float64\n",
      " 2   Family    891 non-null    int64  \n",
      " 3   Survived  891 non-null    int64  \n",
      "dtypes: float64(2), int64(2)\n",
      "memory usage: 28.0 KB\n"
     ]
    }
   ],
   "execution_count": 36
  },
  {
   "metadata": {
    "ExecuteTime": {
     "end_time": "2024-07-21T16:47:44.218500Z",
     "start_time": "2024-07-21T16:47:44.212600Z"
    }
   },
   "cell_type": "code",
   "source": "df.isnull().mean()*100",
   "id": "961ce1e694f087bd",
   "outputs": [
    {
     "data": {
      "text/plain": [
       "Age         19.865320\n",
       "Fare         5.050505\n",
       "Family       0.000000\n",
       "Survived     0.000000\n",
       "dtype: float64"
      ]
     },
     "execution_count": 37,
     "metadata": {},
     "output_type": "execute_result"
    }
   ],
   "execution_count": 37
  },
  {
   "metadata": {
    "ExecuteTime": {
     "end_time": "2024-07-21T16:47:44.239592Z",
     "start_time": "2024-07-21T16:47:44.234651Z"
    }
   },
   "cell_type": "code",
   "source": [
    "imputable_col = [x for x in df.columns if df[x].isnull().mean() >= 0.05]\n",
    "imputable_col"
   ],
   "id": "51206c046a87630a",
   "outputs": [
    {
     "data": {
      "text/plain": [
       "['Age', 'Fare']"
      ]
     },
     "execution_count": 38,
     "metadata": {},
     "output_type": "execute_result"
    }
   ],
   "execution_count": 38
  },
  {
   "metadata": {
    "ExecuteTime": {
     "end_time": "2024-07-21T16:47:44.324771Z",
     "start_time": "2024-07-21T16:47:44.315799Z"
    }
   },
   "cell_type": "code",
   "source": "df",
   "id": "13384d4baf538974",
   "outputs": [
    {
     "data": {
      "text/plain": [
       "      Age     Fare  Family  Survived\n",
       "0    22.0   7.2500       1         0\n",
       "1    38.0  71.2833       1         1\n",
       "2    26.0   7.9250       0         1\n",
       "3    35.0  53.1000       1         1\n",
       "4    35.0   8.0500       0         0\n",
       "..    ...      ...     ...       ...\n",
       "886  27.0  13.0000       0         0\n",
       "887  19.0  30.0000       0         1\n",
       "888   NaN  23.4500       3         0\n",
       "889  26.0      NaN       0         1\n",
       "890  32.0   7.7500       0         0\n",
       "\n",
       "[891 rows x 4 columns]"
      ],
      "text/html": [
       "<div>\n",
       "<style scoped>\n",
       "    .dataframe tbody tr th:only-of-type {\n",
       "        vertical-align: middle;\n",
       "    }\n",
       "\n",
       "    .dataframe tbody tr th {\n",
       "        vertical-align: top;\n",
       "    }\n",
       "\n",
       "    .dataframe thead th {\n",
       "        text-align: right;\n",
       "    }\n",
       "</style>\n",
       "<table border=\"1\" class=\"dataframe\">\n",
       "  <thead>\n",
       "    <tr style=\"text-align: right;\">\n",
       "      <th></th>\n",
       "      <th>Age</th>\n",
       "      <th>Fare</th>\n",
       "      <th>Family</th>\n",
       "      <th>Survived</th>\n",
       "    </tr>\n",
       "  </thead>\n",
       "  <tbody>\n",
       "    <tr>\n",
       "      <th>0</th>\n",
       "      <td>22.0</td>\n",
       "      <td>7.2500</td>\n",
       "      <td>1</td>\n",
       "      <td>0</td>\n",
       "    </tr>\n",
       "    <tr>\n",
       "      <th>1</th>\n",
       "      <td>38.0</td>\n",
       "      <td>71.2833</td>\n",
       "      <td>1</td>\n",
       "      <td>1</td>\n",
       "    </tr>\n",
       "    <tr>\n",
       "      <th>2</th>\n",
       "      <td>26.0</td>\n",
       "      <td>7.9250</td>\n",
       "      <td>0</td>\n",
       "      <td>1</td>\n",
       "    </tr>\n",
       "    <tr>\n",
       "      <th>3</th>\n",
       "      <td>35.0</td>\n",
       "      <td>53.1000</td>\n",
       "      <td>1</td>\n",
       "      <td>1</td>\n",
       "    </tr>\n",
       "    <tr>\n",
       "      <th>4</th>\n",
       "      <td>35.0</td>\n",
       "      <td>8.0500</td>\n",
       "      <td>0</td>\n",
       "      <td>0</td>\n",
       "    </tr>\n",
       "    <tr>\n",
       "      <th>...</th>\n",
       "      <td>...</td>\n",
       "      <td>...</td>\n",
       "      <td>...</td>\n",
       "      <td>...</td>\n",
       "    </tr>\n",
       "    <tr>\n",
       "      <th>886</th>\n",
       "      <td>27.0</td>\n",
       "      <td>13.0000</td>\n",
       "      <td>0</td>\n",
       "      <td>0</td>\n",
       "    </tr>\n",
       "    <tr>\n",
       "      <th>887</th>\n",
       "      <td>19.0</td>\n",
       "      <td>30.0000</td>\n",
       "      <td>0</td>\n",
       "      <td>1</td>\n",
       "    </tr>\n",
       "    <tr>\n",
       "      <th>888</th>\n",
       "      <td>NaN</td>\n",
       "      <td>23.4500</td>\n",
       "      <td>3</td>\n",
       "      <td>0</td>\n",
       "    </tr>\n",
       "    <tr>\n",
       "      <th>889</th>\n",
       "      <td>26.0</td>\n",
       "      <td>NaN</td>\n",
       "      <td>0</td>\n",
       "      <td>1</td>\n",
       "    </tr>\n",
       "    <tr>\n",
       "      <th>890</th>\n",
       "      <td>32.0</td>\n",
       "      <td>7.7500</td>\n",
       "      <td>0</td>\n",
       "      <td>0</td>\n",
       "    </tr>\n",
       "  </tbody>\n",
       "</table>\n",
       "<p>891 rows × 4 columns</p>\n",
       "</div>"
      ]
     },
     "execution_count": 39,
     "metadata": {},
     "output_type": "execute_result"
    }
   ],
   "execution_count": 39
  },
  {
   "metadata": {
    "ExecuteTime": {
     "end_time": "2024-07-21T16:47:44.345382Z",
     "start_time": "2024-07-21T16:47:44.341994Z"
    }
   },
   "cell_type": "code",
   "source": [
    "X = df.iloc[:,:-1]\n",
    "y = df.iloc[:,-1]"
   ],
   "id": "1d8f2f5584550d0",
   "outputs": [],
   "execution_count": 40
  },
  {
   "metadata": {
    "ExecuteTime": {
     "end_time": "2024-07-21T16:47:44.380348Z",
     "start_time": "2024-07-21T16:47:44.375698Z"
    }
   },
   "cell_type": "code",
   "source": "X_train, X_test, y_train, y_test = train_test_split(X,y,test_size=0.2,random_state=2)",
   "id": "e089729b95249350",
   "outputs": [],
   "execution_count": 41
  },
  {
   "metadata": {},
   "cell_type": "markdown",
   "source": "# Using Pandas",
   "id": "d4a32683b680f690"
  },
  {
   "metadata": {},
   "cell_type": "markdown",
   "source": "### fillna",
   "id": "ff0eef8e3e9f2741"
  },
  {
   "metadata": {
    "ExecuteTime": {
     "end_time": "2024-07-21T16:47:44.425272Z",
     "start_time": "2024-07-21T16:47:44.420312Z"
    }
   },
   "cell_type": "code",
   "source": [
    "age_mean = df['Age'].mean()\n",
    "age_median = df['Age'].median()\n",
    "\n",
    "fare_mean = df['Fare'].mean()\n",
    "fare_median = df['Fare'].median()\n",
    "print(age_mean,age_median,fare_mean,fare_median)"
   ],
   "id": "a21d329cfc7a91b9",
   "outputs": [
    {
     "name": "stdout",
     "output_type": "stream",
     "text": [
      "29.69911764705882 28.0 32.279338297872336 14.4542\n"
     ]
    }
   ],
   "execution_count": 42
  },
  {
   "metadata": {
    "ExecuteTime": {
     "end_time": "2024-07-21T16:47:44.454913Z",
     "start_time": "2024-07-21T16:47:44.440383Z"
    }
   },
   "cell_type": "code",
   "source": [
    "X_train['Age_mean'] = df['Age'].fillna(age_mean)\n",
    "X_train['Age_median'] = df['Age'].fillna(age_median)\n",
    "\n",
    "X_train['Fare_mean'] = df['Fare'].fillna(fare_mean)\n",
    "X_train['Fare_median'] = df['Fare'].fillna(fare_median)\n",
    "\n",
    "X_train"
   ],
   "id": "73a8db1253fb7b88",
   "outputs": [
    {
     "data": {
      "text/plain": [
       "      Age      Fare  Family   Age_mean  Age_median  Fare_mean  Fare_median\n",
       "30   40.0   27.7208       0  40.000000        40.0    27.7208      27.7208\n",
       "10    4.0   16.7000       2   4.000000         4.0    16.7000      16.7000\n",
       "873  47.0    9.0000       0  47.000000        47.0     9.0000       9.0000\n",
       "182   9.0   31.3875       6   9.000000         9.0    31.3875      31.3875\n",
       "876  20.0    9.8458       0  20.000000        20.0     9.8458       9.8458\n",
       "..    ...       ...     ...        ...         ...        ...          ...\n",
       "534  30.0    8.6625       0  30.000000        30.0     8.6625       8.6625\n",
       "584   NaN    8.7125       0  29.699118        28.0     8.7125       8.7125\n",
       "493  71.0   49.5042       0  71.000000        71.0    49.5042      49.5042\n",
       "527   NaN  221.7792       0  29.699118        28.0   221.7792     221.7792\n",
       "168   NaN   25.9250       0  29.699118        28.0    25.9250      25.9250\n",
       "\n",
       "[712 rows x 7 columns]"
      ],
      "text/html": [
       "<div>\n",
       "<style scoped>\n",
       "    .dataframe tbody tr th:only-of-type {\n",
       "        vertical-align: middle;\n",
       "    }\n",
       "\n",
       "    .dataframe tbody tr th {\n",
       "        vertical-align: top;\n",
       "    }\n",
       "\n",
       "    .dataframe thead th {\n",
       "        text-align: right;\n",
       "    }\n",
       "</style>\n",
       "<table border=\"1\" class=\"dataframe\">\n",
       "  <thead>\n",
       "    <tr style=\"text-align: right;\">\n",
       "      <th></th>\n",
       "      <th>Age</th>\n",
       "      <th>Fare</th>\n",
       "      <th>Family</th>\n",
       "      <th>Age_mean</th>\n",
       "      <th>Age_median</th>\n",
       "      <th>Fare_mean</th>\n",
       "      <th>Fare_median</th>\n",
       "    </tr>\n",
       "  </thead>\n",
       "  <tbody>\n",
       "    <tr>\n",
       "      <th>30</th>\n",
       "      <td>40.0</td>\n",
       "      <td>27.7208</td>\n",
       "      <td>0</td>\n",
       "      <td>40.000000</td>\n",
       "      <td>40.0</td>\n",
       "      <td>27.7208</td>\n",
       "      <td>27.7208</td>\n",
       "    </tr>\n",
       "    <tr>\n",
       "      <th>10</th>\n",
       "      <td>4.0</td>\n",
       "      <td>16.7000</td>\n",
       "      <td>2</td>\n",
       "      <td>4.000000</td>\n",
       "      <td>4.0</td>\n",
       "      <td>16.7000</td>\n",
       "      <td>16.7000</td>\n",
       "    </tr>\n",
       "    <tr>\n",
       "      <th>873</th>\n",
       "      <td>47.0</td>\n",
       "      <td>9.0000</td>\n",
       "      <td>0</td>\n",
       "      <td>47.000000</td>\n",
       "      <td>47.0</td>\n",
       "      <td>9.0000</td>\n",
       "      <td>9.0000</td>\n",
       "    </tr>\n",
       "    <tr>\n",
       "      <th>182</th>\n",
       "      <td>9.0</td>\n",
       "      <td>31.3875</td>\n",
       "      <td>6</td>\n",
       "      <td>9.000000</td>\n",
       "      <td>9.0</td>\n",
       "      <td>31.3875</td>\n",
       "      <td>31.3875</td>\n",
       "    </tr>\n",
       "    <tr>\n",
       "      <th>876</th>\n",
       "      <td>20.0</td>\n",
       "      <td>9.8458</td>\n",
       "      <td>0</td>\n",
       "      <td>20.000000</td>\n",
       "      <td>20.0</td>\n",
       "      <td>9.8458</td>\n",
       "      <td>9.8458</td>\n",
       "    </tr>\n",
       "    <tr>\n",
       "      <th>...</th>\n",
       "      <td>...</td>\n",
       "      <td>...</td>\n",
       "      <td>...</td>\n",
       "      <td>...</td>\n",
       "      <td>...</td>\n",
       "      <td>...</td>\n",
       "      <td>...</td>\n",
       "    </tr>\n",
       "    <tr>\n",
       "      <th>534</th>\n",
       "      <td>30.0</td>\n",
       "      <td>8.6625</td>\n",
       "      <td>0</td>\n",
       "      <td>30.000000</td>\n",
       "      <td>30.0</td>\n",
       "      <td>8.6625</td>\n",
       "      <td>8.6625</td>\n",
       "    </tr>\n",
       "    <tr>\n",
       "      <th>584</th>\n",
       "      <td>NaN</td>\n",
       "      <td>8.7125</td>\n",
       "      <td>0</td>\n",
       "      <td>29.699118</td>\n",
       "      <td>28.0</td>\n",
       "      <td>8.7125</td>\n",
       "      <td>8.7125</td>\n",
       "    </tr>\n",
       "    <tr>\n",
       "      <th>493</th>\n",
       "      <td>71.0</td>\n",
       "      <td>49.5042</td>\n",
       "      <td>0</td>\n",
       "      <td>71.000000</td>\n",
       "      <td>71.0</td>\n",
       "      <td>49.5042</td>\n",
       "      <td>49.5042</td>\n",
       "    </tr>\n",
       "    <tr>\n",
       "      <th>527</th>\n",
       "      <td>NaN</td>\n",
       "      <td>221.7792</td>\n",
       "      <td>0</td>\n",
       "      <td>29.699118</td>\n",
       "      <td>28.0</td>\n",
       "      <td>221.7792</td>\n",
       "      <td>221.7792</td>\n",
       "    </tr>\n",
       "    <tr>\n",
       "      <th>168</th>\n",
       "      <td>NaN</td>\n",
       "      <td>25.9250</td>\n",
       "      <td>0</td>\n",
       "      <td>29.699118</td>\n",
       "      <td>28.0</td>\n",
       "      <td>25.9250</td>\n",
       "      <td>25.9250</td>\n",
       "    </tr>\n",
       "  </tbody>\n",
       "</table>\n",
       "<p>712 rows × 7 columns</p>\n",
       "</div>"
      ]
     },
     "execution_count": 43,
     "metadata": {},
     "output_type": "execute_result"
    }
   ],
   "execution_count": 43
  },
  {
   "metadata": {},
   "cell_type": "markdown",
   "source": "### check variance",
   "id": "41bc3af880afceae"
  },
  {
   "metadata": {
    "ExecuteTime": {
     "end_time": "2024-07-21T16:47:44.511466Z",
     "start_time": "2024-07-21T16:47:44.506005Z"
    }
   },
   "cell_type": "code",
   "source": [
    "print('Original Age variable variance: ', X_train['Age'].var())\n",
    "print('Age Variance after median imputation: ', X_train['Age_median'].var())\n",
    "print('Age Variance after mean imputation: ', X_train['Age_mean'].var())\n",
    "\n",
    "print('Original Fare variable variance: ', X_train['Fare'].var())\n",
    "print('Fare Variance after median imputation: ', X_train['Fare_median'].var())\n",
    "print('Fare Variance after mean imputation: ', X_train['Fare_mean'].var())"
   ],
   "id": "47d6e9bcc4206744",
   "outputs": [
    {
     "name": "stdout",
     "output_type": "stream",
     "text": [
      "Original Age variable variance:  204.3495133904614\n",
      "Age Variance after median imputation:  162.33852985330878\n",
      "Age Variance after mean imputation:  161.813866455868\n",
      "Original Fare variable variance:  2448.197913706318\n",
      "Fare Variance after median imputation:  2340.098181126126\n",
      "Fare Variance after mean imputation:  2324.2440261087\n"
     ]
    }
   ],
   "execution_count": 44
  },
  {
   "metadata": {},
   "cell_type": "markdown",
   "source": "# check distribution",
   "id": "fd0a3337928c464e"
  },
  {
   "metadata": {
    "ExecuteTime": {
     "end_time": "2024-07-21T16:47:44.808648Z",
     "start_time": "2024-07-21T16:47:44.560683Z"
    }
   },
   "cell_type": "code",
   "source": [
    "fig = plt.figure()\n",
    "ax = fig.add_subplot(111)\n",
    "\n",
    "# original variable distribution\n",
    "X_train['Age'].plot(kind='kde', ax=ax)\n",
    "\n",
    "# variable imputed with the median\n",
    "X_train['Age_median'].plot(kind='kde', ax=ax, color='red')\n",
    "\n",
    "# variable imputed with the mean\n",
    "X_train['Age_mean'].plot(kind='kde', ax=ax, color='green')\n",
    "\n",
    "# add legends\n",
    "lines, labels = ax.get_legend_handles_labels()\n",
    "ax.legend(lines, labels, loc='best')"
   ],
   "id": "2a92a54379a66d02",
   "outputs": [
    {
     "data": {
      "text/plain": [
       "<matplotlib.legend.Legend at 0x259c94f72d0>"
      ]
     },
     "execution_count": 45,
     "metadata": {},
     "output_type": "execute_result"
    },
    {
     "data": {
      "text/plain": [
       "<Figure size 640x480 with 1 Axes>"
      ],
      "image/png": "[encoded data removed]"
     },
     "metadata": {},
     "output_type": "display_data"
    }
   ],
   "execution_count": 45
  },
  {
   "metadata": {
    "ExecuteTime": {
     "end_time": "2024-07-21T16:47:45.057654Z",
     "start_time": "2024-07-21T16:47:44.809872Z"
    }
   },
   "cell_type": "code",
   "source": [
    "fig = plt.figure()\n",
    "ax = fig.add_subplot(111)\n",
    "\n",
    "# original variable distribution\n",
    "X_train['Fare'].plot(kind='kde', ax=ax)\n",
    "\n",
    "# variable imputed with the median\n",
    "X_train['Fare_median'].plot(kind='kde', ax=ax, color='red')\n",
    "\n",
    "# variable imputed with the mean\n",
    "X_train['Fare_mean'].plot(kind='kde', ax=ax, color='green')\n",
    "\n",
    "# add legends\n",
    "lines, labels = ax.get_legend_handles_labels()\n",
    "ax.legend(lines, labels, loc='best')"
   ],
   "id": "9c34959966095221",
   "outputs": [
    {
     "data": {
      "text/plain": [
       "<matplotlib.legend.Legend at 0x259cb07c410>"
      ]
     },
     "execution_count": 46,
     "metadata": {},
     "output_type": "execute_result"
    },
    {
     "data": {
      "text/plain": [
       "<Figure size 640x480 with 1 Axes>"
      ],
      "image/png": "[encoded data removed]"
     },
     "metadata": {},
     "output_type": "display_data"
    }
   ],
   "execution_count": 46
  },
  {
   "metadata": {},
   "cell_type": "markdown",
   "source": "## check covariance",
   "id": "a5d50669f8f20177"
  },
  {
   "metadata": {
    "ExecuteTime": {
     "end_time": "2024-07-21T16:47:45.068128Z",
     "start_time": "2024-07-21T16:47:45.058655Z"
    }
   },
   "cell_type": "code",
   "source": "X_train.cov()",
   "id": "30bc5c2a1a79fa36",
   "outputs": [
    {
     "data": {
      "text/plain": [
       "                    Age         Fare     Family    Age_mean  Age_median  \\\n",
       "Age          204.349513    70.719262  -6.498901  204.349513  204.349513   \n",
       "Fare          70.719262  2448.197914  17.258917   55.800924   59.661820   \n",
       "Family        -6.498901    17.258917   2.735252   -5.143296   -5.088278   \n",
       "Age_mean     204.349513    55.800924  -5.143296  161.813866  161.838181   \n",
       "Age_median   204.349513    59.661820  -5.088278  161.838181  162.338530   \n",
       "Fare_mean     66.631558  2448.197914  16.386748   52.948856   56.613065   \n",
       "Fare_median   64.858451  2448.197914  16.476326   51.541608   55.142638   \n",
       "\n",
       "               Fare_mean  Fare_median  \n",
       "Age            66.631558    64.858451  \n",
       "Fare         2448.197914  2448.197914  \n",
       "Family         16.386748    16.476326  \n",
       "Age_mean       52.948856    51.541608  \n",
       "Age_median     56.613065    55.142638  \n",
       "Fare_mean    2324.244026  2324.533881  \n",
       "Fare_median  2324.533881  2340.098181  "
      ],
      "text/html": [
       "<div>\n",
       "<style scoped>\n",
       "    .dataframe tbody tr th:only-of-type {\n",
       "        vertical-align: middle;\n",
       "    }\n",
       "\n",
       "    .dataframe tbody tr th {\n",
       "        vertical-align: top;\n",
       "    }\n",
       "\n",
       "    .dataframe thead th {\n",
       "        text-align: right;\n",
       "    }\n",
       "</style>\n",
       "<table border=\"1\" class=\"dataframe\">\n",
       "  <thead>\n",
       "    <tr style=\"text-align: right;\">\n",
       "      <th></th>\n",
       "      <th>Age</th>\n",
       "      <th>Fare</th>\n",
       "      <th>Family</th>\n",
       "      <th>Age_mean</th>\n",
       "      <th>Age_median</th>\n",
       "      <th>Fare_mean</th>\n",
       "      <th>Fare_median</th>\n",
       "    </tr>\n",
       "  </thead>\n",
       "  <tbody>\n",
       "    <tr>\n",
       "      <th>Age</th>\n",
       "      <td>204.349513</td>\n",
       "      <td>70.719262</td>\n",
       "      <td>-6.498901</td>\n",
       "      <td>204.349513</td>\n",
       "      <td>204.349513</td>\n",
       "      <td>66.631558</td>\n",
       "      <td>64.858451</td>\n",
       "    </tr>\n",
       "    <tr>\n",
       "      <th>Fare</th>\n",
       "      <td>70.719262</td>\n",
       "      <td>2448.197914</td>\n",
       "      <td>17.258917</td>\n",
       "      <td>55.800924</td>\n",
       "      <td>59.661820</td>\n",
       "      <td>2448.197914</td>\n",
       "      <td>2448.197914</td>\n",
       "    </tr>\n",
       "    <tr>\n",
       "      <th>Family</th>\n",
       "      <td>-6.498901</td>\n",
       "      <td>17.258917</td>\n",
       "      <td>2.735252</td>\n",
       "      <td>-5.143296</td>\n",
       "      <td>-5.088278</td>\n",
       "      <td>16.386748</td>\n",
       "      <td>16.476326</td>\n",
       "    </tr>\n",
       "    <tr>\n",
       "      <th>Age_mean</th>\n",
       "      <td>204.349513</td>\n",
       "      <td>55.800924</td>\n",
       "      <td>-5.143296</td>\n",
       "      <td>161.813866</td>\n",
       "      <td>161.838181</td>\n",
       "      <td>52.948856</td>\n",
       "      <td>51.541608</td>\n",
       "    </tr>\n",
       "    <tr>\n",
       "      <th>Age_median</th>\n",
       "      <td>204.349513</td>\n",
       "      <td>59.661820</td>\n",
       "      <td>-5.088278</td>\n",
       "      <td>161.838181</td>\n",
       "      <td>162.338530</td>\n",
       "      <td>56.613065</td>\n",
       "      <td>55.142638</td>\n",
       "    </tr>\n",
       "    <tr>\n",
       "      <th>Fare_mean</th>\n",
       "      <td>66.631558</td>\n",
       "      <td>2448.197914</td>\n",
       "      <td>16.386748</td>\n",
       "      <td>52.948856</td>\n",
       "      <td>56.613065</td>\n",
       "      <td>2324.244026</td>\n",
       "      <td>2324.533881</td>\n",
       "    </tr>\n",
       "    <tr>\n",
       "      <th>Fare_median</th>\n",
       "      <td>64.858451</td>\n",
       "      <td>2448.197914</td>\n",
       "      <td>16.476326</td>\n",
       "      <td>51.541608</td>\n",
       "      <td>55.142638</td>\n",
       "      <td>2324.533881</td>\n",
       "      <td>2340.098181</td>\n",
       "    </tr>\n",
       "  </tbody>\n",
       "</table>\n",
       "</div>"
      ]
     },
     "execution_count": 47,
     "metadata": {},
     "output_type": "execute_result"
    }
   ],
   "execution_count": 47
  },
  {
   "metadata": {},
   "cell_type": "markdown",
   "source": "## check correlation",
   "id": "886fbd5e927bdd24"
  },
  {
   "metadata": {
    "ExecuteTime": {
     "end_time": "2024-07-21T16:47:45.076902Z",
     "start_time": "2024-07-21T16:47:45.069129Z"
    }
   },
   "cell_type": "code",
   "source": "X_train.corr()",
   "id": "9410ac9d1e3ea57f",
   "outputs": [
    {
     "data": {
      "text/plain": [
       "                  Age      Fare    Family  Age_mean  Age_median  Fare_mean  \\\n",
       "Age          1.000000  0.092644 -0.299113  1.000000    1.000000   0.090109   \n",
       "Fare         0.092644  1.000000  0.208268  0.088382    0.094361   1.000000   \n",
       "Family      -0.299113  0.208268  1.000000 -0.244475   -0.241469   0.205520   \n",
       "Age_mean     1.000000  0.088382 -0.244475  1.000000    0.998533   0.086339   \n",
       "Age_median   1.000000  0.094361 -0.241469  0.998533    1.000000   0.092165   \n",
       "Fare_mean    0.090109  1.000000  0.205520  0.086339    0.092165   1.000000   \n",
       "Fare_median  0.087355  1.000000  0.205942  0.083759    0.089466   0.996731   \n",
       "\n",
       "             Fare_median  \n",
       "Age             0.087355  \n",
       "Fare            1.000000  \n",
       "Family          0.205942  \n",
       "Age_mean        0.083759  \n",
       "Age_median      0.089466  \n",
       "Fare_mean       0.996731  \n",
       "Fare_median     1.000000  "
      ],
      "text/html": [
       "<div>\n",
       "<style scoped>\n",
       "    .dataframe tbody tr th:only-of-type {\n",
       "        vertical-align: middle;\n",
       "    }\n",
       "\n",
       "    .dataframe tbody tr th {\n",
       "        vertical-align: top;\n",
       "    }\n",
       "\n",
       "    .dataframe thead th {\n",
       "        text-align: right;\n",
       "    }\n",
       "</style>\n",
       "<table border=\"1\" class=\"dataframe\">\n",
       "  <thead>\n",
       "    <tr style=\"text-align: right;\">\n",
       "      <th></th>\n",
       "      <th>Age</th>\n",
       "      <th>Fare</th>\n",
       "      <th>Family</th>\n",
       "      <th>Age_mean</th>\n",
       "      <th>Age_median</th>\n",
       "      <th>Fare_mean</th>\n",
       "      <th>Fare_median</th>\n",
       "    </tr>\n",
       "  </thead>\n",
       "  <tbody>\n",
       "    <tr>\n",
       "      <th>Age</th>\n",
       "      <td>1.000000</td>\n",
       "      <td>0.092644</td>\n",
       "      <td>-0.299113</td>\n",
       "      <td>1.000000</td>\n",
       "      <td>1.000000</td>\n",
       "      <td>0.090109</td>\n",
       "      <td>0.087355</td>\n",
       "    </tr>\n",
       "    <tr>\n",
       "      <th>Fare</th>\n",
       "      <td>0.092644</td>\n",
       "      <td>1.000000</td>\n",
       "      <td>0.208268</td>\n",
       "      <td>0.088382</td>\n",
       "      <td>0.094361</td>\n",
       "      <td>1.000000</td>\n",
       "      <td>1.000000</td>\n",
       "    </tr>\n",
       "    <tr>\n",
       "      <th>Family</th>\n",
       "      <td>-0.299113</td>\n",
       "      <td>0.208268</td>\n",
       "      <td>1.000000</td>\n",
       "      <td>-0.244475</td>\n",
       "      <td>-0.241469</td>\n",
       "      <td>0.205520</td>\n",
       "      <td>0.205942</td>\n",
       "    </tr>\n",
       "    <tr>\n",
       "      <th>Age_mean</th>\n",
       "      <td>1.000000</td>\n",
       "      <td>0.088382</td>\n",
       "      <td>-0.244475</td>\n",
       "      <td>1.000000</td>\n",
       "      <td>0.998533</td>\n",
       "      <td>0.086339</td>\n",
       "      <td>0.083759</td>\n",
       "    </tr>\n",
       "    <tr>\n",
       "      <th>Age_median</th>\n",
       "      <td>1.000000</td>\n",
       "      <td>0.094361</td>\n",
       "      <td>-0.241469</td>\n",
       "      <td>0.998533</td>\n",
       "      <td>1.000000</td>\n",
       "      <td>0.092165</td>\n",
       "      <td>0.089466</td>\n",
       "    </tr>\n",
       "    <tr>\n",
       "      <th>Fare_mean</th>\n",
       "      <td>0.090109</td>\n",
       "      <td>1.000000</td>\n",
       "      <td>0.205520</td>\n",
       "      <td>0.086339</td>\n",
       "      <td>0.092165</td>\n",
       "      <td>1.000000</td>\n",
       "      <td>0.996731</td>\n",
       "    </tr>\n",
       "    <tr>\n",
       "      <th>Fare_median</th>\n",
       "      <td>0.087355</td>\n",
       "      <td>1.000000</td>\n",
       "      <td>0.205942</td>\n",
       "      <td>0.083759</td>\n",
       "      <td>0.089466</td>\n",
       "      <td>0.996731</td>\n",
       "      <td>1.000000</td>\n",
       "    </tr>\n",
       "  </tbody>\n",
       "</table>\n",
       "</div>"
      ]
     },
     "execution_count": 48,
     "metadata": {},
     "output_type": "execute_result"
    }
   ],
   "execution_count": 48
  },
  {
   "metadata": {},
   "cell_type": "markdown",
   "source": "## check boxplot for outlier",
   "id": "be143c7be9b5407a"
  },
  {
   "metadata": {
    "ExecuteTime": {
     "end_time": "2024-07-21T16:47:45.290065Z",
     "start_time": "2024-07-21T16:47:45.078904Z"
    }
   },
   "cell_type": "code",
   "source": "X_train[['Age', 'Age_median', 'Age_mean']].boxplot()",
   "id": "efd18035e3f5dd8c",
   "outputs": [
    {
     "data": {
      "text/plain": [
       "<Axes: >"
      ]
     },
     "execution_count": 49,
     "metadata": {},
     "output_type": "execute_result"
    },
    {
     "data": {
      "text/plain": [
       "<Figure size 640x480 with 1 Axes>"
      ],
      "image/png": "[encoded data removed]"
     },
     "metadata": {},
     "output_type": "display_data"
    }
   ],
   "execution_count": 49
  },
  {
   "metadata": {
    "ExecuteTime": {
     "end_time": "2024-07-21T16:47:45.400214Z",
     "start_time": "2024-07-21T16:47:45.291067Z"
    }
   },
   "cell_type": "code",
   "source": "X_train[['Fare', 'Fare_median', 'Fare_mean']].boxplot()",
   "id": "9216407c233c028c",
   "outputs": [
    {
     "data": {
      "text/plain": [
       "<Axes: >"
      ]
     },
     "execution_count": 50,
     "metadata": {},
     "output_type": "execute_result"
    },
    {
     "data": {
      "text/plain": [
       "<Figure size 640x480 with 1 Axes>"
      ],
      "image/png": "[encoded data removed]"
     },
     "metadata": {},
     "output_type": "display_data"
    }
   ],
   "execution_count": 50
  },
  {
   "metadata": {},
   "cell_type": "markdown",
   "source": "# Using Sklearn",
   "id": "69c08821ad862d58"
  },
  {
   "metadata": {
    "ExecuteTime": {
     "end_time": "2024-07-21T16:47:45.405602Z",
     "start_time": "2024-07-21T16:47:45.401277Z"
    }
   },
   "cell_type": "code",
   "source": "X_train, X_test, y_train, y_test = train_test_split(X,y,test_size=0.2,random_state=2)",
   "id": "39a206d08259e2be",
   "outputs": [],
   "execution_count": 51
  },
  {
   "metadata": {
    "ExecuteTime": {
     "end_time": "2024-07-21T16:47:45.414822Z",
     "start_time": "2024-07-21T16:47:45.406654Z"
    }
   },
   "cell_type": "code",
   "source": "X_train",
   "id": "329807b52de66631",
   "outputs": [
    {
     "data": {
      "text/plain": [
       "      Age      Fare  Family\n",
       "30   40.0   27.7208       0\n",
       "10    4.0   16.7000       2\n",
       "873  47.0    9.0000       0\n",
       "182   9.0   31.3875       6\n",
       "876  20.0    9.8458       0\n",
       "..    ...       ...     ...\n",
       "534  30.0    8.6625       0\n",
       "584   NaN    8.7125       0\n",
       "493  71.0   49.5042       0\n",
       "527   NaN  221.7792       0\n",
       "168   NaN   25.9250       0\n",
       "\n",
       "[712 rows x 3 columns]"
      ],
      "text/html": [
       "<div>\n",
       "<style scoped>\n",
       "    .dataframe tbody tr th:only-of-type {\n",
       "        vertical-align: middle;\n",
       "    }\n",
       "\n",
       "    .dataframe tbody tr th {\n",
       "        vertical-align: top;\n",
       "    }\n",
       "\n",
       "    .dataframe thead th {\n",
       "        text-align: right;\n",
       "    }\n",
       "</style>\n",
       "<table border=\"1\" class=\"dataframe\">\n",
       "  <thead>\n",
       "    <tr style=\"text-align: right;\">\n",
       "      <th></th>\n",
       "      <th>Age</th>\n",
       "      <th>Fare</th>\n",
       "      <th>Family</th>\n",
       "    </tr>\n",
       "  </thead>\n",
       "  <tbody>\n",
       "    <tr>\n",
       "      <th>30</th>\n",
       "      <td>40.0</td>\n",
       "      <td>27.7208</td>\n",
       "      <td>0</td>\n",
       "    </tr>\n",
       "    <tr>\n",
       "      <th>10</th>\n",
       "      <td>4.0</td>\n",
       "      <td>16.7000</td>\n",
       "      <td>2</td>\n",
       "    </tr>\n",
       "    <tr>\n",
       "      <th>873</th>\n",
       "      <td>47.0</td>\n",
       "      <td>9.0000</td>\n",
       "      <td>0</td>\n",
       "    </tr>\n",
       "    <tr>\n",
       "      <th>182</th>\n",
       "      <td>9.0</td>\n",
       "      <td>31.3875</td>\n",
       "      <td>6</td>\n",
       "    </tr>\n",
       "    <tr>\n",
       "      <th>876</th>\n",
       "      <td>20.0</td>\n",
       "      <td>9.8458</td>\n",
       "      <td>0</td>\n",
       "    </tr>\n",
       "    <tr>\n",
       "      <th>...</th>\n",
       "      <td>...</td>\n",
       "      <td>...</td>\n",
       "      <td>...</td>\n",
       "    </tr>\n",
       "    <tr>\n",
       "      <th>534</th>\n",
       "      <td>30.0</td>\n",
       "      <td>8.6625</td>\n",
       "      <td>0</td>\n",
       "    </tr>\n",
       "    <tr>\n",
       "      <th>584</th>\n",
       "      <td>NaN</td>\n",
       "      <td>8.7125</td>\n",
       "      <td>0</td>\n",
       "    </tr>\n",
       "    <tr>\n",
       "      <th>493</th>\n",
       "      <td>71.0</td>\n",
       "      <td>49.5042</td>\n",
       "      <td>0</td>\n",
       "    </tr>\n",
       "    <tr>\n",
       "      <th>527</th>\n",
       "      <td>NaN</td>\n",
       "      <td>221.7792</td>\n",
       "      <td>0</td>\n",
       "    </tr>\n",
       "    <tr>\n",
       "      <th>168</th>\n",
       "      <td>NaN</td>\n",
       "      <td>25.9250</td>\n",
       "      <td>0</td>\n",
       "    </tr>\n",
       "  </tbody>\n",
       "</table>\n",
       "<p>712 rows × 3 columns</p>\n",
       "</div>"
      ]
     },
     "execution_count": 52,
     "metadata": {},
     "output_type": "execute_result"
    }
   ],
   "execution_count": 52
  },
  {
   "metadata": {
    "ExecuteTime": {
     "end_time": "2024-07-21T16:47:45.418649Z",
     "start_time": "2024-07-21T16:47:45.415824Z"
    }
   },
   "cell_type": "code",
   "source": [
    "trf = ColumnTransformer(transformers=[\n",
    "    ('imp1',SimpleImputer(strategy='mean'),[0]),\n",
    "    ('imp2',SimpleImputer(strategy='median'),[1])\n",
    "],remainder='passthrough')"
   ],
   "id": "c7a9ed0902b3027b",
   "outputs": [],
   "execution_count": 53
  },
  {
   "metadata": {
    "ExecuteTime": {
     "end_time": "2024-07-21T16:48:06.582619Z",
     "start_time": "2024-07-21T16:48:06.570592Z"
    }
   },
   "cell_type": "code",
   "source": [
    "X_train= trf.fit_transform(X_train)\n",
    "X_test= trf.fit_transform(X_test)"
   ],
   "id": "1bcb189be7620e15",
   "outputs": [],
   "execution_count": 55
  },
  {
   "metadata": {
    "ExecuteTime": {
     "end_time": "2024-07-21T16:48:07.710672Z",
     "start_time": "2024-07-21T16:48:07.705979Z"
    }
   },
   "cell_type": "code",
   "source": "X_train",
   "id": "bea444182c13b3d0",
   "outputs": [
    {
     "data": {
      "text/plain": [
       "array([[ 40.        ,  27.7208    ,   0.        ],\n",
       "       [  4.        ,  16.7       ,   2.        ],\n",
       "       [ 47.        ,   9.        ,   0.        ],\n",
       "       ...,\n",
       "       [ 71.        ,  49.5042    ,   0.        ],\n",
       "       [ 29.78590426, 221.7792    ,   0.        ],\n",
       "       [ 29.78590426,  25.925     ,   0.        ]])"
      ]
     },
     "execution_count": 56,
     "metadata": {},
     "output_type": "execute_result"
    }
   ],
   "execution_count": 56
  },
  {
   "metadata": {},
   "cell_type": "code",
   "source": "",
   "id": "fc2df59029a9fb82",
   "outputs": [],
   "execution_count": null
  }
 ],
 "metadata": {
  "kernelspec": {
   "display_name": "Python 3",
   "language": "python",
   "name": "python3"
  },
  "language_info": {
   "codemirror_mode": {
    "name": "ipython",
    "version": 2
   },
   "file_extension": ".py",
   "mimetype": "text/x-python",
   "name": "python",
   "nbconvert_exporter": "python",
   "pygments_lexer": "ipython2",
   "version": "2.7.6"
  }
 },
 "nbformat": 4,
 "nbformat_minor": 5
}
