{
 "cells": [
  {
   "cell_type": "code",
   "id": "initial_id",
   "metadata": {
    "collapsed": true,
    "ExecuteTime": {
     "end_time": "2024-07-22T03:06:27.005301Z",
     "start_time": "2024-07-22T03:06:26.608542Z"
    }
   },
   "source": [
    "import pandas as pd\n",
    "import  numpy as np "
   ],
   "outputs": [],
   "execution_count": 1
  },
  {
   "metadata": {
    "ExecuteTime": {
     "end_time": "2024-07-22T03:07:19.080319Z",
     "start_time": "2024-07-22T03:07:18.417368Z"
    }
   },
   "cell_type": "code",
   "source": [
    "from sklearn.model_selection import train_test_split\n",
    "from sklearn.impute import SimpleImputer\n",
    "from sklearn.compose import ColumnTransformer"
   ],
   "id": "456c22c2b80d21d7",
   "outputs": [],
   "execution_count": 2
  },
  {
   "metadata": {
    "ExecuteTime": {
     "end_time": "2024-07-22T03:08:40.196604Z",
     "start_time": "2024-07-22T03:08:40.182611Z"
    }
   },
   "cell_type": "code",
   "source": [
    "df = pd.read_csv('train.csv',usecols=['GarageQual','FireplaceQu','SalePrice'])\n",
    "df"
   ],
   "id": "a205a88e729d5e5b",
   "outputs": [
    {
     "data": {
      "text/plain": [
       "     FireplaceQu GarageQual  SalePrice\n",
       "0            NaN         TA     208500\n",
       "1             TA         TA     181500\n",
       "2             TA         TA     223500\n",
       "3             Gd         TA     140000\n",
       "4             TA         TA     250000\n",
       "...          ...        ...        ...\n",
       "1455          TA         TA     175000\n",
       "1456          TA         TA     210000\n",
       "1457          Gd         TA     266500\n",
       "1458         NaN         TA     142125\n",
       "1459         NaN         TA     147500\n",
       "\n",
       "[1460 rows x 3 columns]"
      ],
      "text/html": [
       "<div>\n",
       "<style scoped>\n",
       "    .dataframe tbody tr th:only-of-type {\n",
       "        vertical-align: middle;\n",
       "    }\n",
       "\n",
       "    .dataframe tbody tr th {\n",
       "        vertical-align: top;\n",
       "    }\n",
       "\n",
       "    .dataframe thead th {\n",
       "        text-align: right;\n",
       "    }\n",
       "</style>\n",
       "<table border=\"1\" class=\"dataframe\">\n",
       "  <thead>\n",
       "    <tr style=\"text-align: right;\">\n",
       "      <th></th>\n",
       "      <th>FireplaceQu</th>\n",
       "      <th>GarageQual</th>\n",
       "      <th>SalePrice</th>\n",
       "    </tr>\n",
       "  </thead>\n",
       "  <tbody>\n",
       "    <tr>\n",
       "      <th>0</th>\n",
       "      <td>NaN</td>\n",
       "      <td>TA</td>\n",
       "      <td>208500</td>\n",
       "    </tr>\n",
       "    <tr>\n",
       "      <th>1</th>\n",
       "      <td>TA</td>\n",
       "      <td>TA</td>\n",
       "      <td>181500</td>\n",
       "    </tr>\n",
       "    <tr>\n",
       "      <th>2</th>\n",
       "      <td>TA</td>\n",
       "      <td>TA</td>\n",
       "      <td>223500</td>\n",
       "    </tr>\n",
       "    <tr>\n",
       "      <th>3</th>\n",
       "      <td>Gd</td>\n",
       "      <td>TA</td>\n",
       "      <td>140000</td>\n",
       "    </tr>\n",
       "    <tr>\n",
       "      <th>4</th>\n",
       "      <td>TA</td>\n",
       "      <td>TA</td>\n",
       "      <td>250000</td>\n",
       "    </tr>\n",
       "    <tr>\n",
       "      <th>...</th>\n",
       "      <td>...</td>\n",
       "      <td>...</td>\n",
       "      <td>...</td>\n",
       "    </tr>\n",
       "    <tr>\n",
       "      <th>1455</th>\n",
       "      <td>TA</td>\n",
       "      <td>TA</td>\n",
       "      <td>175000</td>\n",
       "    </tr>\n",
       "    <tr>\n",
       "      <th>1456</th>\n",
       "      <td>TA</td>\n",
       "      <td>TA</td>\n",
       "      <td>210000</td>\n",
       "    </tr>\n",
       "    <tr>\n",
       "      <th>1457</th>\n",
       "      <td>Gd</td>\n",
       "      <td>TA</td>\n",
       "      <td>266500</td>\n",
       "    </tr>\n",
       "    <tr>\n",
       "      <th>1458</th>\n",
       "      <td>NaN</td>\n",
       "      <td>TA</td>\n",
       "      <td>142125</td>\n",
       "    </tr>\n",
       "    <tr>\n",
       "      <th>1459</th>\n",
       "      <td>NaN</td>\n",
       "      <td>TA</td>\n",
       "      <td>147500</td>\n",
       "    </tr>\n",
       "  </tbody>\n",
       "</table>\n",
       "<p>1460 rows × 3 columns</p>\n",
       "</div>"
      ]
     },
     "execution_count": 4,
     "metadata": {},
     "output_type": "execute_result"
    }
   ],
   "execution_count": 4
  },
  {
   "metadata": {
    "ExecuteTime": {
     "end_time": "2024-07-22T03:09:06.145415Z",
     "start_time": "2024-07-22T03:09:06.140883Z"
    }
   },
   "cell_type": "code",
   "source": "df.isnull().mean()*100",
   "id": "9f82d105c940f6a1",
   "outputs": [
    {
     "data": {
      "text/plain": [
       "FireplaceQu    47.260274\n",
       "GarageQual      5.547945\n",
       "SalePrice       0.000000\n",
       "dtype: float64"
      ]
     },
     "execution_count": 5,
     "metadata": {},
     "output_type": "execute_result"
    }
   ],
   "execution_count": 5
  },
  {
   "metadata": {
    "ExecuteTime": {
     "end_time": "2024-07-22T03:10:31.800408Z",
     "start_time": "2024-07-22T03:10:31.330578Z"
    }
   },
   "cell_type": "code",
   "source": "df['GarageQual'].value_counts().sort_values(ascending=False).plot.bar()",
   "id": "8fa53778b8bf12b6",
   "outputs": [
    {
     "data": {
      "text/plain": [
       "<Axes: xlabel='GarageQual'>"
      ]
     },
     "execution_count": 7,
     "metadata": {},
     "output_type": "execute_result"
    },
    {
     "data": {
      "text/plain": [
       "<Figure size 640x480 with 1 Axes>"
      ],
      "image/png": "[encoded data removed]"
     },
     "metadata": {},
     "output_type": "display_data"
    }
   ],
   "execution_count": 7
  },
  {
   "metadata": {
    "ExecuteTime": {
     "end_time": "2024-07-22T03:12:01.848783Z",
     "start_time": "2024-07-22T03:12:01.844362Z"
    }
   },
   "cell_type": "code",
   "source": "df['GarageQual'] = df['GarageQual'].fillna('Missing')",
   "id": "817373450fb00880",
   "outputs": [],
   "execution_count": 8
  },
  {
   "metadata": {
    "ExecuteTime": {
     "end_time": "2024-07-22T03:12:07.065458Z",
     "start_time": "2024-07-22T03:12:06.972165Z"
    }
   },
   "cell_type": "code",
   "source": "df['GarageQual'].value_counts().sort_values(ascending=False).plot.bar()",
   "id": "6928b1cf11207c0e",
   "outputs": [
    {
     "data": {
      "text/plain": [
       "<Axes: xlabel='GarageQual'>"
      ]
     },
     "execution_count": 9,
     "metadata": {},
     "output_type": "execute_result"
    },
    {
     "data": {
      "text/plain": [
       "<Figure size 640x480 with 1 Axes>"
      ],
      "image/png": "[encoded data removed]"
     },
     "metadata": {},
     "output_type": "display_data"
    }
   ],
   "execution_count": 9
  },
  {
   "metadata": {},
   "cell_type": "markdown",
   "source": "# Using SKlearn",
   "id": "56db824eed778af6"
  },
  {
   "metadata": {
    "ExecuteTime": {
     "end_time": "2024-07-22T03:12:52.276954Z",
     "start_time": "2024-07-22T03:12:52.264442Z"
    }
   },
   "cell_type": "code",
   "source": [
    "df = pd.read_csv('train.csv',usecols=['GarageQual','FireplaceQu','SalePrice'])\n",
    "df"
   ],
   "id": "83cced6d3945d6a9",
   "outputs": [
    {
     "data": {
      "text/plain": [
       "     FireplaceQu GarageQual  SalePrice\n",
       "0            NaN         TA     208500\n",
       "1             TA         TA     181500\n",
       "2             TA         TA     223500\n",
       "3             Gd         TA     140000\n",
       "4             TA         TA     250000\n",
       "...          ...        ...        ...\n",
       "1455          TA         TA     175000\n",
       "1456          TA         TA     210000\n",
       "1457          Gd         TA     266500\n",
       "1458         NaN         TA     142125\n",
       "1459         NaN         TA     147500\n",
       "\n",
       "[1460 rows x 3 columns]"
      ],
      "text/html": [
       "<div>\n",
       "<style scoped>\n",
       "    .dataframe tbody tr th:only-of-type {\n",
       "        vertical-align: middle;\n",
       "    }\n",
       "\n",
       "    .dataframe tbody tr th {\n",
       "        vertical-align: top;\n",
       "    }\n",
       "\n",
       "    .dataframe thead th {\n",
       "        text-align: right;\n",
       "    }\n",
       "</style>\n",
       "<table border=\"1\" class=\"dataframe\">\n",
       "  <thead>\n",
       "    <tr style=\"text-align: right;\">\n",
       "      <th></th>\n",
       "      <th>FireplaceQu</th>\n",
       "      <th>GarageQual</th>\n",
       "      <th>SalePrice</th>\n",
       "    </tr>\n",
       "  </thead>\n",
       "  <tbody>\n",
       "    <tr>\n",
       "      <th>0</th>\n",
       "      <td>NaN</td>\n",
       "      <td>TA</td>\n",
       "      <td>208500</td>\n",
       "    </tr>\n",
       "    <tr>\n",
       "      <th>1</th>\n",
       "      <td>TA</td>\n",
       "      <td>TA</td>\n",
       "      <td>181500</td>\n",
       "    </tr>\n",
       "    <tr>\n",
       "      <th>2</th>\n",
       "      <td>TA</td>\n",
       "      <td>TA</td>\n",
       "      <td>223500</td>\n",
       "    </tr>\n",
       "    <tr>\n",
       "      <th>3</th>\n",
       "      <td>Gd</td>\n",
       "      <td>TA</td>\n",
       "      <td>140000</td>\n",
       "    </tr>\n",
       "    <tr>\n",
       "      <th>4</th>\n",
       "      <td>TA</td>\n",
       "      <td>TA</td>\n",
       "      <td>250000</td>\n",
       "    </tr>\n",
       "    <tr>\n",
       "      <th>...</th>\n",
       "      <td>...</td>\n",
       "      <td>...</td>\n",
       "      <td>...</td>\n",
       "    </tr>\n",
       "    <tr>\n",
       "      <th>1455</th>\n",
       "      <td>TA</td>\n",
       "      <td>TA</td>\n",
       "      <td>175000</td>\n",
       "    </tr>\n",
       "    <tr>\n",
       "      <th>1456</th>\n",
       "      <td>TA</td>\n",
       "      <td>TA</td>\n",
       "      <td>210000</td>\n",
       "    </tr>\n",
       "    <tr>\n",
       "      <th>1457</th>\n",
       "      <td>Gd</td>\n",
       "      <td>TA</td>\n",
       "      <td>266500</td>\n",
       "    </tr>\n",
       "    <tr>\n",
       "      <th>1458</th>\n",
       "      <td>NaN</td>\n",
       "      <td>TA</td>\n",
       "      <td>142125</td>\n",
       "    </tr>\n",
       "    <tr>\n",
       "      <th>1459</th>\n",
       "      <td>NaN</td>\n",
       "      <td>TA</td>\n",
       "      <td>147500</td>\n",
       "    </tr>\n",
       "  </tbody>\n",
       "</table>\n",
       "<p>1460 rows × 3 columns</p>\n",
       "</div>"
      ]
     },
     "execution_count": 10,
     "metadata": {},
     "output_type": "execute_result"
    }
   ],
   "execution_count": 10
  },
  {
   "metadata": {
    "ExecuteTime": {
     "end_time": "2024-07-22T03:14:06.324676Z",
     "start_time": "2024-07-22T03:14:06.319519Z"
    }
   },
   "cell_type": "code",
   "source": "X_train, X_test, y_train, y_test = train_test_split(df.iloc[:,:-1],df.iloc[:,-1],test_size=0.2,random_state=2)",
   "id": "f8bf5267681f9984",
   "outputs": [],
   "execution_count": 11
  },
  {
   "metadata": {
    "ExecuteTime": {
     "end_time": "2024-07-22T03:18:14.939677Z",
     "start_time": "2024-07-22T03:18:14.935889Z"
    }
   },
   "cell_type": "code",
   "source": [
    "trf = ColumnTransformer(transformers=[\n",
    "    ('imp',SimpleImputer(strategy='constant',fill_value='Missing'),[0,1])\n",
    "],remainder='passthrough')"
   ],
   "id": "c10182a03ee44814",
   "outputs": [],
   "execution_count": 15
  },
  {
   "metadata": {
    "ExecuteTime": {
     "end_time": "2024-07-22T03:19:07.686878Z",
     "start_time": "2024-07-22T03:19:07.678892Z"
    }
   },
   "cell_type": "code",
   "source": [
    "X_train = trf.fit_transform(X_train)\n",
    "X_test = trf.fit_transform(X_test)"
   ],
   "id": "ecaa492257491efe",
   "outputs": [],
   "execution_count": 16
  },
  {
   "metadata": {
    "ExecuteTime": {
     "end_time": "2024-07-22T03:19:09.488772Z",
     "start_time": "2024-07-22T03:19:09.484750Z"
    }
   },
   "cell_type": "code",
   "source": "X_train",
   "id": "f186f5844b066dee",
   "outputs": [
    {
     "data": {
      "text/plain": [
       "array([['TA', 'TA'],\n",
       "       ['Missing', 'TA'],\n",
       "       ['Fa', 'TA'],\n",
       "       ...,\n",
       "       ['Fa', 'TA'],\n",
       "       ['Gd', 'TA'],\n",
       "       ['Missing', 'TA']], dtype=object)"
      ]
     },
     "execution_count": 17,
     "metadata": {},
     "output_type": "execute_result"
    }
   ],
   "execution_count": 17
  },
  {
   "metadata": {
    "ExecuteTime": {
     "end_time": "2024-07-22T03:19:20.363892Z",
     "start_time": "2024-07-22T03:19:20.357374Z"
    }
   },
   "cell_type": "code",
   "source": "X_test",
   "id": "e6b744325d0a5aa8",
   "outputs": [
    {
     "data": {
      "text/plain": [
       "array([['TA', 'TA'],\n",
       "       ['TA', 'TA'],\n",
       "       ['Gd', 'TA'],\n",
       "       ['Gd', 'TA'],\n",
       "       ['Gd', 'TA'],\n",
       "       ['Missing', 'TA'],\n",
       "       ['Missing', 'TA'],\n",
       "       ['Missing', 'TA'],\n",
       "       ['Missing', 'Missing'],\n",
       "       ['Gd', 'TA'],\n",
       "       ['TA', 'TA'],\n",
       "       ['Gd', 'TA'],\n",
       "       ['Missing', 'TA'],\n",
       "       ['Missing', 'TA'],\n",
       "       ['Missing', 'TA'],\n",
       "       ['TA', 'TA'],\n",
       "       ['TA', 'TA'],\n",
       "       ['Gd', 'TA'],\n",
       "       ['Gd', 'Fa'],\n",
       "       ['TA', 'TA'],\n",
       "       ['Ex', 'TA'],\n",
       "       ['Missing', 'TA'],\n",
       "       ['Gd', 'TA'],\n",
       "       ['TA', 'TA'],\n",
       "       ['Gd', 'TA'],\n",
       "       ['TA', 'TA'],\n",
       "       ['TA', 'TA'],\n",
       "       ['Ex', 'TA'],\n",
       "       ['Missing', 'TA'],\n",
       "       ['Ex', 'TA'],\n",
       "       ['Ex', 'TA'],\n",
       "       ['Missing', 'TA'],\n",
       "       ['TA', 'TA'],\n",
       "       ['Missing', 'Missing'],\n",
       "       ['TA', 'TA'],\n",
       "       ['Missing', 'TA'],\n",
       "       ['Gd', 'TA'],\n",
       "       ['TA', 'TA'],\n",
       "       ['Gd', 'TA'],\n",
       "       ['Ex', 'TA'],\n",
       "       ['Missing', 'TA'],\n",
       "       ['TA', 'TA'],\n",
       "       ['Missing', 'TA'],\n",
       "       ['Missing', 'TA'],\n",
       "       ['Missing', 'Fa'],\n",
       "       ['Gd', 'TA'],\n",
       "       ['Missing', 'TA'],\n",
       "       ['TA', 'TA'],\n",
       "       ['Missing', 'Missing'],\n",
       "       ['TA', 'TA'],\n",
       "       ['Fa', 'TA'],\n",
       "       ['Missing', 'Fa'],\n",
       "       ['Missing', 'TA'],\n",
       "       ['TA', 'TA'],\n",
       "       ['Missing', 'TA'],\n",
       "       ['Gd', 'TA'],\n",
       "       ['Missing', 'TA'],\n",
       "       ['TA', 'TA'],\n",
       "       ['Gd', 'TA'],\n",
       "       ['Missing', 'TA'],\n",
       "       ['Missing', 'TA'],\n",
       "       ['Missing', 'TA'],\n",
       "       ['Gd', 'TA'],\n",
       "       ['TA', 'TA'],\n",
       "       ['Gd', 'TA'],\n",
       "       ['Missing', 'Gd'],\n",
       "       ['TA', 'TA'],\n",
       "       ['Missing', 'Missing'],\n",
       "       ['Missing', 'TA'],\n",
       "       ['TA', 'TA'],\n",
       "       ['Gd', 'TA'],\n",
       "       ['Missing', 'TA'],\n",
       "       ['Gd', 'Ex'],\n",
       "       ['Missing', 'TA'],\n",
       "       ['Missing', 'TA'],\n",
       "       ['TA', 'TA'],\n",
       "       ['TA', 'TA'],\n",
       "       ['Gd', 'TA'],\n",
       "       ['Missing', 'TA'],\n",
       "       ['Missing', 'TA'],\n",
       "       ['Gd', 'TA'],\n",
       "       ['Missing', 'TA'],\n",
       "       ['TA', 'Gd'],\n",
       "       ['TA', 'TA'],\n",
       "       ['TA', 'TA'],\n",
       "       ['Missing', 'TA'],\n",
       "       ['Gd', 'TA'],\n",
       "       ['TA', 'TA'],\n",
       "       ['Gd', 'TA'],\n",
       "       ['TA', 'TA'],\n",
       "       ['TA', 'TA'],\n",
       "       ['Missing', 'TA'],\n",
       "       ['TA', 'TA'],\n",
       "       ['Missing', 'TA'],\n",
       "       ['TA', 'TA'],\n",
       "       ['TA', 'TA'],\n",
       "       ['Missing', 'TA'],\n",
       "       ['Fa', 'TA'],\n",
       "       ['Gd', 'TA'],\n",
       "       ['TA', 'TA'],\n",
       "       ['Missing', 'TA'],\n",
       "       ['Missing', 'TA'],\n",
       "       ['TA', 'TA'],\n",
       "       ['Missing', 'TA'],\n",
       "       ['Missing', 'TA'],\n",
       "       ['Missing', 'TA'],\n",
       "       ['Missing', 'TA'],\n",
       "       ['Missing', 'TA'],\n",
       "       ['Missing', 'TA'],\n",
       "       ['Missing', 'TA'],\n",
       "       ['Gd', 'TA'],\n",
       "       ['TA', 'TA'],\n",
       "       ['TA', 'TA'],\n",
       "       ['Missing', 'TA'],\n",
       "       ['Ex', 'TA'],\n",
       "       ['Ex', 'TA'],\n",
       "       ['Missing', 'Missing'],\n",
       "       ['Gd', 'TA'],\n",
       "       ['Missing', 'TA'],\n",
       "       ['Missing', 'TA'],\n",
       "       ['Gd', 'TA'],\n",
       "       ['Missing', 'TA'],\n",
       "       ['Gd', 'TA'],\n",
       "       ['TA', 'TA'],\n",
       "       ['TA', 'TA'],\n",
       "       ['Gd', 'TA'],\n",
       "       ['Gd', 'TA'],\n",
       "       ['Missing', 'TA'],\n",
       "       ['Gd', 'TA'],\n",
       "       ['Fa', 'TA'],\n",
       "       ['Gd', 'TA'],\n",
       "       ['Missing', 'TA'],\n",
       "       ['Gd', 'Gd'],\n",
       "       ['Gd', 'Fa'],\n",
       "       ['Missing', 'Missing'],\n",
       "       ['Missing', 'TA'],\n",
       "       ['Gd', 'TA'],\n",
       "       ['Missing', 'TA'],\n",
       "       ['Missing', 'TA'],\n",
       "       ['TA', 'TA'],\n",
       "       ['Gd', 'TA'],\n",
       "       ['Missing', 'TA'],\n",
       "       ['Missing', 'TA'],\n",
       "       ['Missing', 'TA'],\n",
       "       ['Missing', 'Fa'],\n",
       "       ['Missing', 'TA'],\n",
       "       ['TA', 'TA'],\n",
       "       ['Missing', 'TA'],\n",
       "       ['TA', 'TA'],\n",
       "       ['Missing', 'TA'],\n",
       "       ['Missing', 'TA'],\n",
       "       ['Gd', 'TA'],\n",
       "       ['Missing', 'TA'],\n",
       "       ['Gd', 'TA'],\n",
       "       ['Gd', 'TA'],\n",
       "       ['Missing', 'Missing'],\n",
       "       ['Missing', 'Missing'],\n",
       "       ['Missing', 'Missing'],\n",
       "       ['Gd', 'TA'],\n",
       "       ['Missing', 'TA'],\n",
       "       ['TA', 'TA'],\n",
       "       ['Missing', 'TA'],\n",
       "       ['Po', 'TA'],\n",
       "       ['Missing', 'TA'],\n",
       "       ['Missing', 'Missing'],\n",
       "       ['Gd', 'TA'],\n",
       "       ['Missing', 'TA'],\n",
       "       ['Gd', 'TA'],\n",
       "       ['Gd', 'TA'],\n",
       "       ['Gd', 'Fa'],\n",
       "       ['Fa', 'TA'],\n",
       "       ['TA', 'TA'],\n",
       "       ['Gd', 'TA'],\n",
       "       ['Gd', 'TA'],\n",
       "       ['Missing', 'TA'],\n",
       "       ['TA', 'TA'],\n",
       "       ['Missing', 'TA'],\n",
       "       ['TA', 'TA'],\n",
       "       ['Missing', 'TA'],\n",
       "       ['Missing', 'TA'],\n",
       "       ['Missing', 'TA'],\n",
       "       ['Gd', 'TA'],\n",
       "       ['Missing', 'TA'],\n",
       "       ['Missing', 'TA'],\n",
       "       ['Gd', 'TA'],\n",
       "       ['Gd', 'TA'],\n",
       "       ['Missing', 'TA'],\n",
       "       ['Gd', 'TA'],\n",
       "       ['Missing', 'Po'],\n",
       "       ['Missing', 'Po'],\n",
       "       ['Gd', 'TA'],\n",
       "       ['Gd', 'TA'],\n",
       "       ['Missing', 'TA'],\n",
       "       ['Missing', 'TA'],\n",
       "       ['Gd', 'TA'],\n",
       "       ['Missing', 'TA'],\n",
       "       ['Missing', 'TA'],\n",
       "       ['Missing', 'TA'],\n",
       "       ['Missing', 'TA'],\n",
       "       ['Gd', 'Fa'],\n",
       "       ['TA', 'TA'],\n",
       "       ['Gd', 'TA'],\n",
       "       ['Ex', 'TA'],\n",
       "       ['TA', 'TA'],\n",
       "       ['Missing', 'TA'],\n",
       "       ['Missing', 'TA'],\n",
       "       ['Gd', 'TA'],\n",
       "       ['Gd', 'TA'],\n",
       "       ['Po', 'TA'],\n",
       "       ['Gd', 'TA'],\n",
       "       ['TA', 'TA'],\n",
       "       ['Missing', 'TA'],\n",
       "       ['Missing', 'TA'],\n",
       "       ['TA', 'TA'],\n",
       "       ['Missing', 'TA'],\n",
       "       ['Missing', 'TA'],\n",
       "       ['Ex', 'TA'],\n",
       "       ['Missing', 'Missing'],\n",
       "       ['Missing', 'TA'],\n",
       "       ['Missing', 'TA'],\n",
       "       ['TA', 'TA'],\n",
       "       ['Gd', 'TA'],\n",
       "       ['Missing', 'TA'],\n",
       "       ['TA', 'TA'],\n",
       "       ['Missing', 'TA'],\n",
       "       ['Gd', 'TA'],\n",
       "       ['Gd', 'TA'],\n",
       "       ['Missing', 'Missing'],\n",
       "       ['Fa', 'TA'],\n",
       "       ['Missing', 'TA'],\n",
       "       ['Gd', 'TA'],\n",
       "       ['Gd', 'TA'],\n",
       "       ['Missing', 'TA'],\n",
       "       ['Missing', 'TA'],\n",
       "       ['Missing', 'TA'],\n",
       "       ['Gd', 'TA'],\n",
       "       ['Gd', 'TA'],\n",
       "       ['Gd', 'TA'],\n",
       "       ['Gd', 'TA'],\n",
       "       ['TA', 'TA'],\n",
       "       ['Missing', 'Missing'],\n",
       "       ['Gd', 'TA'],\n",
       "       ['Gd', 'TA'],\n",
       "       ['TA', 'TA'],\n",
       "       ['Missing', 'Missing'],\n",
       "       ['Missing', 'Missing'],\n",
       "       ['TA', 'TA'],\n",
       "       ['Missing', 'TA'],\n",
       "       ['Missing', 'TA'],\n",
       "       ['Missing', 'TA'],\n",
       "       ['Missing', 'TA'],\n",
       "       ['Missing', 'TA'],\n",
       "       ['Missing', 'TA'],\n",
       "       ['TA', 'TA'],\n",
       "       ['Missing', 'TA'],\n",
       "       ['Fa', 'TA'],\n",
       "       ['Fa', 'TA'],\n",
       "       ['Missing', 'TA'],\n",
       "       ['TA', 'TA'],\n",
       "       ['Gd', 'TA'],\n",
       "       ['TA', 'TA'],\n",
       "       ['Gd', 'TA'],\n",
       "       ['Missing', 'TA'],\n",
       "       ['Missing', 'TA'],\n",
       "       ['Fa', 'TA'],\n",
       "       ['Missing', 'TA'],\n",
       "       ['Gd', 'TA'],\n",
       "       ['Missing', 'TA'],\n",
       "       ['TA', 'TA'],\n",
       "       ['Missing', 'TA'],\n",
       "       ['Missing', 'TA'],\n",
       "       ['Gd', 'TA'],\n",
       "       ['Missing', 'TA'],\n",
       "       ['Missing', 'Missing'],\n",
       "       ['Missing', 'TA'],\n",
       "       ['TA', 'TA'],\n",
       "       ['Gd', 'TA'],\n",
       "       ['Missing', 'TA'],\n",
       "       ['Po', 'TA'],\n",
       "       ['TA', 'Ex'],\n",
       "       ['Gd', 'TA'],\n",
       "       ['Missing', 'TA'],\n",
       "       ['TA', 'TA'],\n",
       "       ['Missing', 'TA'],\n",
       "       ['Gd', 'TA'],\n",
       "       ['Missing', 'TA'],\n",
       "       ['Gd', 'TA'],\n",
       "       ['Gd', 'TA'],\n",
       "       ['Gd', 'TA'],\n",
       "       ['Missing', 'TA'],\n",
       "       ['Missing', 'TA'],\n",
       "       ['TA', 'TA']], dtype=object)"
      ]
     },
     "execution_count": 18,
     "metadata": {},
     "output_type": "execute_result"
    }
   ],
   "execution_count": 18
  },
  {
   "metadata": {},
   "cell_type": "code",
   "outputs": [],
   "execution_count": null,
   "source": "",
   "id": "5dd69fe46b16ea3a"
  }
 ],
 "metadata": {
  "kernelspec": {
   "display_name": "Python 3",
   "language": "python",
   "name": "python3"
  },
  "language_info": {
   "codemirror_mode": {
    "name": "ipython",
    "version": 2
   },
   "file_extension": ".py",
   "mimetype": "text/x-python",
   "name": "python",
   "nbconvert_exporter": "python",
   "pygments_lexer": "ipython2",
   "version": "2.7.6"
  }
 },
 "nbformat": 4,
 "nbformat_minor": 5
}
