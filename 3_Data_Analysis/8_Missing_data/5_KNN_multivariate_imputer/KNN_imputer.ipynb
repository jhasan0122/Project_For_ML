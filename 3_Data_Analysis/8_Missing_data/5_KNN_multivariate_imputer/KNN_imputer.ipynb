{
 "cells": [
  {
   "cell_type": "code",
   "id": "initial_id",
   "metadata": {
    "collapsed": true,
    "ExecuteTime": {
     "end_time": "2024-07-22T15:35:10.050650Z",
     "start_time": "2024-07-22T15:35:09.028482Z"
    }
   },
   "source": [
    "import pandas as pd\n",
    "import numpy as np\n",
    "\n",
    "from sklearn.model_selection import train_test_split\n",
    "from sklearn.impute import SimpleImputer,KNNImputer\n",
    "\n",
    "from sklearn.linear_model import LogisticRegression\n",
    "from sklearn.metrics import accuracy_score"
   ],
   "outputs": [],
   "execution_count": 1
  },
  {
   "metadata": {
    "ExecuteTime": {
     "end_time": "2024-07-22T15:38:52.484090Z",
     "start_time": "2024-07-22T15:38:52.472561Z"
    }
   },
   "cell_type": "code",
   "source": [
    "df = pd.read_csv('train.csv',usecols=['Survived','Pclass','Age','Fare'])\n",
    "df"
   ],
   "id": "597b1bfaeaad2645",
   "outputs": [
    {
     "data": {
      "text/plain": [
       "     Survived  Pclass   Age     Fare\n",
       "0           0       3  22.0   7.2500\n",
       "1           1       1  38.0  71.2833\n",
       "2           1       3  26.0   7.9250\n",
       "3           1       1  35.0  53.1000\n",
       "4           0       3  35.0   8.0500\n",
       "..        ...     ...   ...      ...\n",
       "886         0       2  27.0  13.0000\n",
       "887         1       1  19.0  30.0000\n",
       "888         0       3   NaN  23.4500\n",
       "889         1       1  26.0  30.0000\n",
       "890         0       3  32.0   7.7500\n",
       "\n",
       "[891 rows x 4 columns]"
      ],
      "text/html": [
       "<div>\n",
       "<style scoped>\n",
       "    .dataframe tbody tr th:only-of-type {\n",
       "        vertical-align: middle;\n",
       "    }\n",
       "\n",
       "    .dataframe tbody tr th {\n",
       "        vertical-align: top;\n",
       "    }\n",
       "\n",
       "    .dataframe thead th {\n",
       "        text-align: right;\n",
       "    }\n",
       "</style>\n",
       "<table border=\"1\" class=\"dataframe\">\n",
       "  <thead>\n",
       "    <tr style=\"text-align: right;\">\n",
       "      <th></th>\n",
       "      <th>Survived</th>\n",
       "      <th>Pclass</th>\n",
       "      <th>Age</th>\n",
       "      <th>Fare</th>\n",
       "    </tr>\n",
       "  </thead>\n",
       "  <tbody>\n",
       "    <tr>\n",
       "      <th>0</th>\n",
       "      <td>0</td>\n",
       "      <td>3</td>\n",
       "      <td>22.0</td>\n",
       "      <td>7.2500</td>\n",
       "    </tr>\n",
       "    <tr>\n",
       "      <th>1</th>\n",
       "      <td>1</td>\n",
       "      <td>1</td>\n",
       "      <td>38.0</td>\n",
       "      <td>71.2833</td>\n",
       "    </tr>\n",
       "    <tr>\n",
       "      <th>2</th>\n",
       "      <td>1</td>\n",
       "      <td>3</td>\n",
       "      <td>26.0</td>\n",
       "      <td>7.9250</td>\n",
       "    </tr>\n",
       "    <tr>\n",
       "      <th>3</th>\n",
       "      <td>1</td>\n",
       "      <td>1</td>\n",
       "      <td>35.0</td>\n",
       "      <td>53.1000</td>\n",
       "    </tr>\n",
       "    <tr>\n",
       "      <th>4</th>\n",
       "      <td>0</td>\n",
       "      <td>3</td>\n",
       "      <td>35.0</td>\n",
       "      <td>8.0500</td>\n",
       "    </tr>\n",
       "    <tr>\n",
       "      <th>...</th>\n",
       "      <td>...</td>\n",
       "      <td>...</td>\n",
       "      <td>...</td>\n",
       "      <td>...</td>\n",
       "    </tr>\n",
       "    <tr>\n",
       "      <th>886</th>\n",
       "      <td>0</td>\n",
       "      <td>2</td>\n",
       "      <td>27.0</td>\n",
       "      <td>13.0000</td>\n",
       "    </tr>\n",
       "    <tr>\n",
       "      <th>887</th>\n",
       "      <td>1</td>\n",
       "      <td>1</td>\n",
       "      <td>19.0</td>\n",
       "      <td>30.0000</td>\n",
       "    </tr>\n",
       "    <tr>\n",
       "      <th>888</th>\n",
       "      <td>0</td>\n",
       "      <td>3</td>\n",
       "      <td>NaN</td>\n",
       "      <td>23.4500</td>\n",
       "    </tr>\n",
       "    <tr>\n",
       "      <th>889</th>\n",
       "      <td>1</td>\n",
       "      <td>1</td>\n",
       "      <td>26.0</td>\n",
       "      <td>30.0000</td>\n",
       "    </tr>\n",
       "    <tr>\n",
       "      <th>890</th>\n",
       "      <td>0</td>\n",
       "      <td>3</td>\n",
       "      <td>32.0</td>\n",
       "      <td>7.7500</td>\n",
       "    </tr>\n",
       "  </tbody>\n",
       "</table>\n",
       "<p>891 rows × 4 columns</p>\n",
       "</div>"
      ]
     },
     "execution_count": 9,
     "metadata": {},
     "output_type": "execute_result"
    }
   ],
   "execution_count": 9
  },
  {
   "metadata": {
    "ExecuteTime": {
     "end_time": "2024-07-22T15:39:16.232930Z",
     "start_time": "2024-07-22T15:39:16.227815Z"
    }
   },
   "cell_type": "code",
   "source": "df.isnull().mean() * 100",
   "id": "4997fc24bb13c447",
   "outputs": [
    {
     "data": {
      "text/plain": [
       "Survived     0.00000\n",
       "Pclass       0.00000\n",
       "Age         19.86532\n",
       "Fare         0.00000\n",
       "dtype: float64"
      ]
     },
     "execution_count": 10,
     "metadata": {},
     "output_type": "execute_result"
    }
   ],
   "execution_count": 10
  },
  {
   "metadata": {
    "ExecuteTime": {
     "end_time": "2024-07-22T15:39:42.541296Z",
     "start_time": "2024-07-22T15:39:42.537939Z"
    }
   },
   "cell_type": "code",
   "source": [
    "X = df.drop(columns=['Survived'])\n",
    "y = df['Survived']"
   ],
   "id": "fa9d1ec184b62d12",
   "outputs": [],
   "execution_count": 11
  },
  {
   "metadata": {
    "ExecuteTime": {
     "end_time": "2024-07-22T15:39:43.008518Z",
     "start_time": "2024-07-22T15:39:43.003715Z"
    }
   },
   "cell_type": "code",
   "source": "X_train,X_test,y_train,y_test = train_test_split(X,y,test_size=0.2,random_state=2)",
   "id": "e467d642b4f95242",
   "outputs": [],
   "execution_count": 12
  },
  {
   "metadata": {
    "ExecuteTime": {
     "end_time": "2024-07-22T15:40:28.684314Z",
     "start_time": "2024-07-22T15:40:28.677044Z"
    }
   },
   "cell_type": "code",
   "source": "X_train",
   "id": "dc2dcf23f56f30cb",
   "outputs": [
    {
     "data": {
      "text/plain": [
       "     Pclass   Age      Fare\n",
       "30        1  40.0   27.7208\n",
       "10        3   4.0   16.7000\n",
       "873       3  47.0    9.0000\n",
       "182       3   9.0   31.3875\n",
       "876       3  20.0    9.8458\n",
       "..      ...   ...       ...\n",
       "534       3  30.0    8.6625\n",
       "584       3   NaN    8.7125\n",
       "493       1  71.0   49.5042\n",
       "527       1   NaN  221.7792\n",
       "168       1   NaN   25.9250\n",
       "\n",
       "[712 rows x 3 columns]"
      ],
      "text/html": [
       "<div>\n",
       "<style scoped>\n",
       "    .dataframe tbody tr th:only-of-type {\n",
       "        vertical-align: middle;\n",
       "    }\n",
       "\n",
       "    .dataframe tbody tr th {\n",
       "        vertical-align: top;\n",
       "    }\n",
       "\n",
       "    .dataframe thead th {\n",
       "        text-align: right;\n",
       "    }\n",
       "</style>\n",
       "<table border=\"1\" class=\"dataframe\">\n",
       "  <thead>\n",
       "    <tr style=\"text-align: right;\">\n",
       "      <th></th>\n",
       "      <th>Pclass</th>\n",
       "      <th>Age</th>\n",
       "      <th>Fare</th>\n",
       "    </tr>\n",
       "  </thead>\n",
       "  <tbody>\n",
       "    <tr>\n",
       "      <th>30</th>\n",
       "      <td>1</td>\n",
       "      <td>40.0</td>\n",
       "      <td>27.7208</td>\n",
       "    </tr>\n",
       "    <tr>\n",
       "      <th>10</th>\n",
       "      <td>3</td>\n",
       "      <td>4.0</td>\n",
       "      <td>16.7000</td>\n",
       "    </tr>\n",
       "    <tr>\n",
       "      <th>873</th>\n",
       "      <td>3</td>\n",
       "      <td>47.0</td>\n",
       "      <td>9.0000</td>\n",
       "    </tr>\n",
       "    <tr>\n",
       "      <th>182</th>\n",
       "      <td>3</td>\n",
       "      <td>9.0</td>\n",
       "      <td>31.3875</td>\n",
       "    </tr>\n",
       "    <tr>\n",
       "      <th>876</th>\n",
       "      <td>3</td>\n",
       "      <td>20.0</td>\n",
       "      <td>9.8458</td>\n",
       "    </tr>\n",
       "    <tr>\n",
       "      <th>...</th>\n",
       "      <td>...</td>\n",
       "      <td>...</td>\n",
       "      <td>...</td>\n",
       "    </tr>\n",
       "    <tr>\n",
       "      <th>534</th>\n",
       "      <td>3</td>\n",
       "      <td>30.0</td>\n",
       "      <td>8.6625</td>\n",
       "    </tr>\n",
       "    <tr>\n",
       "      <th>584</th>\n",
       "      <td>3</td>\n",
       "      <td>NaN</td>\n",
       "      <td>8.7125</td>\n",
       "    </tr>\n",
       "    <tr>\n",
       "      <th>493</th>\n",
       "      <td>1</td>\n",
       "      <td>71.0</td>\n",
       "      <td>49.5042</td>\n",
       "    </tr>\n",
       "    <tr>\n",
       "      <th>527</th>\n",
       "      <td>1</td>\n",
       "      <td>NaN</td>\n",
       "      <td>221.7792</td>\n",
       "    </tr>\n",
       "    <tr>\n",
       "      <th>168</th>\n",
       "      <td>1</td>\n",
       "      <td>NaN</td>\n",
       "      <td>25.9250</td>\n",
       "    </tr>\n",
       "  </tbody>\n",
       "</table>\n",
       "<p>712 rows × 3 columns</p>\n",
       "</div>"
      ]
     },
     "execution_count": 15,
     "metadata": {},
     "output_type": "execute_result"
    }
   ],
   "execution_count": 15
  },
  {
   "metadata": {},
   "cell_type": "markdown",
   "source": "# Mean imputer",
   "id": "1fdcd90ba65d86f8"
  },
  {
   "metadata": {
    "ExecuteTime": {
     "end_time": "2024-07-22T15:55:15.029044Z",
     "start_time": "2024-07-22T15:55:15.017196Z"
    }
   },
   "cell_type": "code",
   "source": [
    "mi = SimpleImputer(strategy='mean')\n",
    "\n",
    "X_train_mi = mi.fit_transform(X_train)\n",
    "X_test_mi = mi.transform(X_test)\n",
    "\n",
    "lr = LogisticRegression()\n",
    "\n",
    "lr.fit(X_train_mi,y_train)\n",
    "\n",
    "y_pred_mi = lr.predict(X_test_mi)\n",
    "\n",
    "print(accuracy_score(y_test,y_pred_mi))"
   ],
   "id": "b912167ecfb306de",
   "outputs": [
    {
     "name": "stdout",
     "output_type": "stream",
     "text": [
      "0.6927374301675978\n"
     ]
    }
   ],
   "execution_count": 20
  },
  {
   "metadata": {},
   "cell_type": "markdown",
   "source": "# KNN imputer",
   "id": "59547359208b0b17"
  },
  {
   "metadata": {
    "ExecuteTime": {
     "end_time": "2024-07-22T15:57:42.567445Z",
     "start_time": "2024-07-22T15:57:42.540829Z"
    }
   },
   "cell_type": "code",
   "source": [
    "knn = KNNImputer(n_neighbors=3,weights='distance')\n",
    "\n",
    "X_train_knn = knn.fit_transform(X_train)\n",
    "X_test_knn = knn.transform(X_test)\n",
    "\n",
    "lr = LogisticRegression()\n",
    "\n",
    "lr.fit(X_train_knn,y_train)\n",
    "\n",
    "y_pred_knn = lr.predict(X_test_knn)\n",
    "\n",
    "print(accuracy_score(y_test,y_pred_knn))"
   ],
   "id": "13a95f62aa8552db",
   "outputs": [
    {
     "name": "stdout",
     "output_type": "stream",
     "text": [
      "0.7150837988826816\n"
     ]
    }
   ],
   "execution_count": 21
  },
  {
   "metadata": {},
   "cell_type": "markdown",
   "source": "# Best KNN",
   "id": "a0169544d5820cf0"
  },
  {
   "metadata": {
    "ExecuteTime": {
     "end_time": "2024-07-22T16:06:50.478874Z",
     "start_time": "2024-07-22T16:06:50.474678Z"
    }
   },
   "cell_type": "code",
   "source": [
    "\n",
    "def bestKNNImuter(n):\n",
    "    nNeibour = [x for x in range(1,n+1)]\n",
    "    mini = 0\n",
    "    minK = 0\n",
    "    for neighbour in nNeibour:\n",
    "        knn = KNNImputer(n_neighbors=neighbour,weights='distance')\n",
    "        \n",
    "        X_train_trf = knn.fit_transform(X_train)\n",
    "        X_test_trf = knn.transform(X_test)\n",
    "        lr = LogisticRegression()\n",
    "        \n",
    "        lr.fit(X_train_trf,y_train)\n",
    "        \n",
    "        y_pred = lr.predict(X_test_trf)\n",
    "        acc = accuracy_score(y_test,y_pred)\n",
    "        print(acc,\" \",neighbour)\n",
    "        if acc > mini:\n",
    "            mini = acc\n",
    "            minK = neighbour\n",
    "    return minK , mini  \n"
   ],
   "id": "54c75d8485ea2c08",
   "outputs": [],
   "execution_count": 30
  },
  {
   "metadata": {
    "ExecuteTime": {
     "end_time": "2024-07-22T16:07:26.277244Z",
     "start_time": "2024-07-22T16:07:25.754537Z"
    }
   },
   "cell_type": "code",
   "source": [
    "bestForK, accuracy = bestKNNImuter(50)\n",
    "print(bestForK)\n",
    "accuracy"
   ],
   "id": "521b205c31745e08",
   "outputs": [
    {
     "name": "stdout",
     "output_type": "stream",
     "text": [
      "0.6871508379888268   1\n",
      "0.7150837988826816   2\n",
      "0.7150837988826816   3\n",
      "0.7094972067039106   4\n",
      "0.7094972067039106   5\n",
      "0.7039106145251397   6\n",
      "0.7039106145251397   7\n",
      "0.7039106145251397   8\n",
      "0.7039106145251397   9\n",
      "0.7039106145251397   10\n",
      "0.7039106145251397   11\n",
      "0.7039106145251397   12\n",
      "0.7039106145251397   13\n",
      "0.7039106145251397   14\n",
      "0.7039106145251397   15\n",
      "0.7039106145251397   16\n",
      "0.7039106145251397   17\n",
      "0.7039106145251397   18\n",
      "0.7039106145251397   19\n",
      "0.7039106145251397   20\n",
      "0.7039106145251397   21\n",
      "0.7039106145251397   22\n",
      "0.7039106145251397   23\n",
      "0.7039106145251397   24\n",
      "0.7039106145251397   25\n",
      "0.7039106145251397   26\n",
      "0.7039106145251397   27\n",
      "0.7039106145251397   28\n",
      "0.7039106145251397   29\n",
      "0.7039106145251397   30\n",
      "0.7039106145251397   31\n",
      "0.7039106145251397   32\n",
      "0.7039106145251397   33\n",
      "0.7039106145251397   34\n",
      "0.7039106145251397   35\n",
      "0.7039106145251397   36\n",
      "0.7039106145251397   37\n",
      "0.7039106145251397   38\n",
      "0.7039106145251397   39\n",
      "0.7039106145251397   40\n",
      "0.7039106145251397   41\n",
      "0.7039106145251397   42\n",
      "0.7039106145251397   43\n",
      "0.7039106145251397   44\n",
      "0.7039106145251397   45\n",
      "0.7039106145251397   46\n",
      "0.7039106145251397   47\n",
      "0.7039106145251397   48\n",
      "0.7039106145251397   49\n",
      "0.7039106145251397   50\n",
      "2\n"
     ]
    },
    {
     "data": {
      "text/plain": [
       "0.7150837988826816"
      ]
     },
     "execution_count": 32,
     "metadata": {},
     "output_type": "execute_result"
    }
   ],
   "execution_count": 32
  },
  {
   "metadata": {},
   "cell_type": "code",
   "outputs": [],
   "execution_count": null,
   "source": "",
   "id": "bdea29b229d57d03"
  }
 ],
 "metadata": {
  "kernelspec": {
   "display_name": "Python 3",
   "language": "python",
   "name": "python3"
  },
  "language_info": {
   "codemirror_mode": {
    "name": "ipython",
    "version": 2
   },
   "file_extension": ".py",
   "mimetype": "text/x-python",
   "name": "python",
   "nbconvert_exporter": "python",
   "pygments_lexer": "ipython2",
   "version": "2.7.6"
  }
 },
 "nbformat": 4,
 "nbformat_minor": 5
}
