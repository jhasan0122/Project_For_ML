{
 "cells": [
  {
   "cell_type": "code",
   "id": "initial_id",
   "metadata": {
    "collapsed": true,
    "ExecuteTime": {
     "end_time": "2024-07-20T06:16:28.307302Z",
     "start_time": "2024-07-20T06:16:28.304022Z"
    }
   },
   "source": [
    "import pandas as pd\n",
    "import numpy as np"
   ],
   "outputs": [],
   "execution_count": 112
  },
  {
   "metadata": {
    "ExecuteTime": {
     "end_time": "2024-07-20T06:16:28.393640Z",
     "start_time": "2024-07-20T06:16:28.379496Z"
    }
   },
   "cell_type": "code",
   "source": [
    "df =pd.read_csv('cars.csv')\n",
    "df"
   ],
   "id": "ce7306d43d3d8914",
   "outputs": [
    {
     "data": {
      "text/plain": [
       "        brand  km_driven    fuel                 owner  selling_price\n",
       "0      Maruti     145500  Diesel           First Owner         450000\n",
       "1       Skoda     120000  Diesel          Second Owner         370000\n",
       "2       Honda     140000  Petrol           Third Owner         158000\n",
       "3     Hyundai     127000  Diesel           First Owner         225000\n",
       "4      Maruti     120000  Petrol           First Owner         130000\n",
       "...       ...        ...     ...                   ...            ...\n",
       "8123  Hyundai     110000  Petrol           First Owner         320000\n",
       "8124  Hyundai     119000  Diesel  Fourth & Above Owner         135000\n",
       "8125   Maruti     120000  Diesel           First Owner         382000\n",
       "8126     Tata      25000  Diesel           First Owner         290000\n",
       "8127     Tata      25000  Diesel           First Owner         290000\n",
       "\n",
       "[8128 rows x 5 columns]"
      ],
      "text/html": [
       "<div>\n",
       "<style scoped>\n",
       "    .dataframe tbody tr th:only-of-type {\n",
       "        vertical-align: middle;\n",
       "    }\n",
       "\n",
       "    .dataframe tbody tr th {\n",
       "        vertical-align: top;\n",
       "    }\n",
       "\n",
       "    .dataframe thead th {\n",
       "        text-align: right;\n",
       "    }\n",
       "</style>\n",
       "<table border=\"1\" class=\"dataframe\">\n",
       "  <thead>\n",
       "    <tr style=\"text-align: right;\">\n",
       "      <th></th>\n",
       "      <th>brand</th>\n",
       "      <th>km_driven</th>\n",
       "      <th>fuel</th>\n",
       "      <th>owner</th>\n",
       "      <th>selling_price</th>\n",
       "    </tr>\n",
       "  </thead>\n",
       "  <tbody>\n",
       "    <tr>\n",
       "      <th>0</th>\n",
       "      <td>Maruti</td>\n",
       "      <td>145500</td>\n",
       "      <td>Diesel</td>\n",
       "      <td>First Owner</td>\n",
       "      <td>450000</td>\n",
       "    </tr>\n",
       "    <tr>\n",
       "      <th>1</th>\n",
       "      <td>Skoda</td>\n",
       "      <td>120000</td>\n",
       "      <td>Diesel</td>\n",
       "      <td>Second Owner</td>\n",
       "      <td>370000</td>\n",
       "    </tr>\n",
       "    <tr>\n",
       "      <th>2</th>\n",
       "      <td>Honda</td>\n",
       "      <td>140000</td>\n",
       "      <td>Petrol</td>\n",
       "      <td>Third Owner</td>\n",
       "      <td>158000</td>\n",
       "    </tr>\n",
       "    <tr>\n",
       "      <th>3</th>\n",
       "      <td>Hyundai</td>\n",
       "      <td>127000</td>\n",
       "      <td>Diesel</td>\n",
       "      <td>First Owner</td>\n",
       "      <td>225000</td>\n",
       "    </tr>\n",
       "    <tr>\n",
       "      <th>4</th>\n",
       "      <td>Maruti</td>\n",
       "      <td>120000</td>\n",
       "      <td>Petrol</td>\n",
       "      <td>First Owner</td>\n",
       "      <td>130000</td>\n",
       "    </tr>\n",
       "    <tr>\n",
       "      <th>...</th>\n",
       "      <td>...</td>\n",
       "      <td>...</td>\n",
       "      <td>...</td>\n",
       "      <td>...</td>\n",
       "      <td>...</td>\n",
       "    </tr>\n",
       "    <tr>\n",
       "      <th>8123</th>\n",
       "      <td>Hyundai</td>\n",
       "      <td>110000</td>\n",
       "      <td>Petrol</td>\n",
       "      <td>First Owner</td>\n",
       "      <td>320000</td>\n",
       "    </tr>\n",
       "    <tr>\n",
       "      <th>8124</th>\n",
       "      <td>Hyundai</td>\n",
       "      <td>119000</td>\n",
       "      <td>Diesel</td>\n",
       "      <td>Fourth &amp; Above Owner</td>\n",
       "      <td>135000</td>\n",
       "    </tr>\n",
       "    <tr>\n",
       "      <th>8125</th>\n",
       "      <td>Maruti</td>\n",
       "      <td>120000</td>\n",
       "      <td>Diesel</td>\n",
       "      <td>First Owner</td>\n",
       "      <td>382000</td>\n",
       "    </tr>\n",
       "    <tr>\n",
       "      <th>8126</th>\n",
       "      <td>Tata</td>\n",
       "      <td>25000</td>\n",
       "      <td>Diesel</td>\n",
       "      <td>First Owner</td>\n",
       "      <td>290000</td>\n",
       "    </tr>\n",
       "    <tr>\n",
       "      <th>8127</th>\n",
       "      <td>Tata</td>\n",
       "      <td>25000</td>\n",
       "      <td>Diesel</td>\n",
       "      <td>First Owner</td>\n",
       "      <td>290000</td>\n",
       "    </tr>\n",
       "  </tbody>\n",
       "</table>\n",
       "<p>8128 rows × 5 columns</p>\n",
       "</div>"
      ]
     },
     "execution_count": 113,
     "metadata": {},
     "output_type": "execute_result"
    }
   ],
   "execution_count": 113
  },
  {
   "metadata": {
    "ExecuteTime": {
     "end_time": "2024-07-20T06:16:28.420403Z",
     "start_time": "2024-07-20T06:16:28.415376Z"
    }
   },
   "cell_type": "code",
   "source": "df['owner'].value_counts()",
   "id": "5c320de65cf2eb73",
   "outputs": [
    {
     "data": {
      "text/plain": [
       "owner\n",
       "First Owner             5289\n",
       "Second Owner            2105\n",
       "Third Owner              555\n",
       "Fourth & Above Owner     174\n",
       "Test Drive Car             5\n",
       "Name: count, dtype: int64"
      ]
     },
     "execution_count": 114,
     "metadata": {},
     "output_type": "execute_result"
    }
   ],
   "execution_count": 114
  },
  {
   "metadata": {
    "ExecuteTime": {
     "end_time": "2024-07-20T06:16:28.458642Z",
     "start_time": "2024-07-20T06:16:28.453386Z"
    }
   },
   "cell_type": "code",
   "source": "df['owner'].unique()",
   "id": "c7d75014d9419a2b",
   "outputs": [
    {
     "data": {
      "text/plain": [
       "array(['First Owner', 'Second Owner', 'Third Owner',\n",
       "       'Fourth & Above Owner', 'Test Drive Car'], dtype=object)"
      ]
     },
     "execution_count": 115,
     "metadata": {},
     "output_type": "execute_result"
    }
   ],
   "execution_count": 115
  },
  {
   "metadata": {
    "ExecuteTime": {
     "end_time": "2024-07-20T06:16:28.480620Z",
     "start_time": "2024-07-20T06:16:28.476294Z"
    }
   },
   "cell_type": "code",
   "source": "df['owner'].nunique()",
   "id": "ff32ac11750f2435",
   "outputs": [
    {
     "data": {
      "text/plain": [
       "5"
      ]
     },
     "execution_count": 116,
     "metadata": {},
     "output_type": "execute_result"
    }
   ],
   "execution_count": 116
  },
  {
   "metadata": {
    "ExecuteTime": {
     "end_time": "2024-07-20T06:16:28.573981Z",
     "start_time": "2024-07-20T06:16:28.568916Z"
    }
   },
   "cell_type": "code",
   "source": "df['fuel'].nunique()",
   "id": "6e408efd83865087",
   "outputs": [
    {
     "data": {
      "text/plain": [
       "4"
      ]
     },
     "execution_count": 117,
     "metadata": {},
     "output_type": "execute_result"
    }
   ],
   "execution_count": 117
  },
  {
   "metadata": {
    "ExecuteTime": {
     "end_time": "2024-07-20T06:16:28.639281Z",
     "start_time": "2024-07-20T06:16:28.634759Z"
    }
   },
   "cell_type": "code",
   "source": "df['brand'].nunique()",
   "id": "f70f5bc8c9b00bb9",
   "outputs": [
    {
     "data": {
      "text/plain": [
       "32"
      ]
     },
     "execution_count": 118,
     "metadata": {},
     "output_type": "execute_result"
    }
   ],
   "execution_count": 118
  },
  {
   "metadata": {
    "ExecuteTime": {
     "end_time": "2024-07-20T06:16:28.670109Z",
     "start_time": "2024-07-20T06:16:28.665128Z"
    }
   },
   "cell_type": "code",
   "source": "df['brand'].value_counts()",
   "id": "71f37bf24ea87341",
   "outputs": [
    {
     "data": {
      "text/plain": [
       "brand\n",
       "Maruti           2448\n",
       "Hyundai          1415\n",
       "Mahindra          772\n",
       "Tata              734\n",
       "Toyota            488\n",
       "Honda             467\n",
       "Ford              397\n",
       "Chevrolet         230\n",
       "Renault           228\n",
       "Volkswagen        186\n",
       "BMW               120\n",
       "Skoda             105\n",
       "Nissan             81\n",
       "Jaguar             71\n",
       "Volvo              67\n",
       "Datsun             65\n",
       "Mercedes-Benz      54\n",
       "Fiat               47\n",
       "Audi               40\n",
       "Lexus              34\n",
       "Jeep               31\n",
       "Mitsubishi         14\n",
       "Force               6\n",
       "Land                6\n",
       "Isuzu               5\n",
       "Kia                 4\n",
       "Ambassador          4\n",
       "Daewoo              3\n",
       "MG                  3\n",
       "Ashok               1\n",
       "Opel                1\n",
       "Peugeot             1\n",
       "Name: count, dtype: int64"
      ]
     },
     "execution_count": 119,
     "metadata": {},
     "output_type": "execute_result"
    }
   ],
   "execution_count": 119
  },
  {
   "metadata": {
    "ExecuteTime": {
     "end_time": "2024-07-20T06:16:28.690354Z",
     "start_time": "2024-07-20T06:16:28.684221Z"
    }
   },
   "cell_type": "code",
   "source": [
    "from sklearn.model_selection import train_test_split\n",
    "\n",
    "X_train, X_test, y_train, y_test = train_test_split(df.iloc[:,:-1],df.iloc[:,-1],test_size=0.3,random_state=0)"
   ],
   "id": "26df540d858f4921",
   "outputs": [],
   "execution_count": 120
  },
  {
   "metadata": {
    "ExecuteTime": {
     "end_time": "2024-07-20T06:16:28.740072Z",
     "start_time": "2024-07-20T06:16:28.736514Z"
    }
   },
   "cell_type": "code",
   "source": "print(X_train.shape,X_test.shape,y_train.shape,y_test.shape,df.shape)",
   "id": "77adb8e79242735a",
   "outputs": [
    {
     "name": "stdout",
     "output_type": "stream",
     "text": [
      "(5689, 4) (2439, 4) (5689,) (2439,) (8128, 5)\n"
     ]
    }
   ],
   "execution_count": 121
  },
  {
   "metadata": {
    "ExecuteTime": {
     "end_time": "2024-07-20T06:16:28.772227Z",
     "start_time": "2024-07-20T06:16:28.765213Z"
    }
   },
   "cell_type": "code",
   "source": "X_train",
   "id": "d671c8a7b6514a90",
   "outputs": [
    {
     "data": {
      "text/plain": [
       "           brand  km_driven    fuel         owner\n",
       "5224        Tata      20000  Petrol   First Owner\n",
       "520       Maruti      30000  Petrol   First Owner\n",
       "36        Maruti      15000  Petrol   First Owner\n",
       "5782        Ford      53000  Diesel   First Owner\n",
       "6522   Chevrolet     120000  Diesel   First Owner\n",
       "...          ...        ...     ...           ...\n",
       "4931        Tata      70000  Diesel   Third Owner\n",
       "3264        Ford     100000  Diesel  Second Owner\n",
       "1653     Hyundai      90000  Petrol  Second Owner\n",
       "2607  Volkswagen      90000  Diesel   First Owner\n",
       "2732     Hyundai     110000  Petrol   First Owner\n",
       "\n",
       "[5689 rows x 4 columns]"
      ],
      "text/html": [
       "<div>\n",
       "<style scoped>\n",
       "    .dataframe tbody tr th:only-of-type {\n",
       "        vertical-align: middle;\n",
       "    }\n",
       "\n",
       "    .dataframe tbody tr th {\n",
       "        vertical-align: top;\n",
       "    }\n",
       "\n",
       "    .dataframe thead th {\n",
       "        text-align: right;\n",
       "    }\n",
       "</style>\n",
       "<table border=\"1\" class=\"dataframe\">\n",
       "  <thead>\n",
       "    <tr style=\"text-align: right;\">\n",
       "      <th></th>\n",
       "      <th>brand</th>\n",
       "      <th>km_driven</th>\n",
       "      <th>fuel</th>\n",
       "      <th>owner</th>\n",
       "    </tr>\n",
       "  </thead>\n",
       "  <tbody>\n",
       "    <tr>\n",
       "      <th>5224</th>\n",
       "      <td>Tata</td>\n",
       "      <td>20000</td>\n",
       "      <td>Petrol</td>\n",
       "      <td>First Owner</td>\n",
       "    </tr>\n",
       "    <tr>\n",
       "      <th>520</th>\n",
       "      <td>Maruti</td>\n",
       "      <td>30000</td>\n",
       "      <td>Petrol</td>\n",
       "      <td>First Owner</td>\n",
       "    </tr>\n",
       "    <tr>\n",
       "      <th>36</th>\n",
       "      <td>Maruti</td>\n",
       "      <td>15000</td>\n",
       "      <td>Petrol</td>\n",
       "      <td>First Owner</td>\n",
       "    </tr>\n",
       "    <tr>\n",
       "      <th>5782</th>\n",
       "      <td>Ford</td>\n",
       "      <td>53000</td>\n",
       "      <td>Diesel</td>\n",
       "      <td>First Owner</td>\n",
       "    </tr>\n",
       "    <tr>\n",
       "      <th>6522</th>\n",
       "      <td>Chevrolet</td>\n",
       "      <td>120000</td>\n",
       "      <td>Diesel</td>\n",
       "      <td>First Owner</td>\n",
       "    </tr>\n",
       "    <tr>\n",
       "      <th>...</th>\n",
       "      <td>...</td>\n",
       "      <td>...</td>\n",
       "      <td>...</td>\n",
       "      <td>...</td>\n",
       "    </tr>\n",
       "    <tr>\n",
       "      <th>4931</th>\n",
       "      <td>Tata</td>\n",
       "      <td>70000</td>\n",
       "      <td>Diesel</td>\n",
       "      <td>Third Owner</td>\n",
       "    </tr>\n",
       "    <tr>\n",
       "      <th>3264</th>\n",
       "      <td>Ford</td>\n",
       "      <td>100000</td>\n",
       "      <td>Diesel</td>\n",
       "      <td>Second Owner</td>\n",
       "    </tr>\n",
       "    <tr>\n",
       "      <th>1653</th>\n",
       "      <td>Hyundai</td>\n",
       "      <td>90000</td>\n",
       "      <td>Petrol</td>\n",
       "      <td>Second Owner</td>\n",
       "    </tr>\n",
       "    <tr>\n",
       "      <th>2607</th>\n",
       "      <td>Volkswagen</td>\n",
       "      <td>90000</td>\n",
       "      <td>Diesel</td>\n",
       "      <td>First Owner</td>\n",
       "    </tr>\n",
       "    <tr>\n",
       "      <th>2732</th>\n",
       "      <td>Hyundai</td>\n",
       "      <td>110000</td>\n",
       "      <td>Petrol</td>\n",
       "      <td>First Owner</td>\n",
       "    </tr>\n",
       "  </tbody>\n",
       "</table>\n",
       "<p>5689 rows × 4 columns</p>\n",
       "</div>"
      ]
     },
     "execution_count": 122,
     "metadata": {},
     "output_type": "execute_result"
    }
   ],
   "execution_count": 122
  },
  {
   "metadata": {},
   "cell_type": "markdown",
   "source": "# Encoding",
   "id": "c0280dc8103b48d"
  },
  {
   "metadata": {},
   "cell_type": "markdown",
   "source": "### brand -> Thresol(100) -> onehot",
   "id": "be0970c2423aa2ce"
  },
  {
   "metadata": {
    "ExecuteTime": {
     "end_time": "2024-07-20T06:20:18.386793Z",
     "start_time": "2024-07-20T06:20:18.381388Z"
    }
   },
   "cell_type": "code",
   "source": [
    "countArr = df['brand'].value_counts()\n",
    "countArr"
   ],
   "id": "bd52ad529f27daf8",
   "outputs": [
    {
     "data": {
      "text/plain": [
       "brand\n",
       "Maruti           746\n",
       "Hyundai          423\n",
       "Mahindra         232\n",
       "Tata             208\n",
       "Toyota           162\n",
       "Honda            132\n",
       "Ford             108\n",
       "Renault           80\n",
       "Chevrolet         65\n",
       "Volkswagen        59\n",
       "BMW               41\n",
       "Skoda             29\n",
       "Nissan            23\n",
       "Jaguar            22\n",
       "Mercedes-Benz     18\n",
       "Volvo             18\n",
       "Datsun            15\n",
       "Fiat              13\n",
       "Jeep              10\n",
       "Lexus             10\n",
       "Audi               9\n",
       "Mitsubishi         4\n",
       "Isuzu              4\n",
       "Ambassador         2\n",
       "Force              2\n",
       "Land               2\n",
       "Opel               1\n",
       "MG                 1\n",
       "Name: count, dtype: int64"
      ]
     },
     "execution_count": 131,
     "metadata": {},
     "output_type": "execute_result"
    }
   ],
   "execution_count": 131
  },
  {
   "metadata": {
    "ExecuteTime": {
     "end_time": "2024-07-20T06:16:28.801709Z",
     "start_time": "2024-07-20T06:16:28.798478Z"
    }
   },
   "cell_type": "code",
   "source": [
    "thresold = 100\n",
    "repl = countArr[countArr <= thresold].index"
   ],
   "id": "b1552a2dbddf2a09",
   "outputs": [],
   "execution_count": 124
  },
  {
   "metadata": {
    "ExecuteTime": {
     "end_time": "2024-07-20T06:16:28.836680Z",
     "start_time": "2024-07-20T06:16:28.828169Z"
    }
   },
   "cell_type": "code",
   "source": "brandDist = pd.get_dummies(df['brand'].replace(repl,\"uncommon\"))",
   "id": "8d5341e403b9e234",
   "outputs": [],
   "execution_count": 125
  },
  {
   "metadata": {
    "ExecuteTime": {
     "end_time": "2024-07-20T06:16:28.857602Z",
     "start_time": "2024-07-20T06:16:28.847008Z"
    }
   },
   "cell_type": "code",
   "source": "brandDist",
   "id": "55ac4bc9c07c7888",
   "outputs": [
    {
     "data": {
      "text/plain": [
       "        BMW  Chevrolet   Ford  Honda  Hyundai  Mahindra  Maruti  Renault  \\\n",
       "0     False      False  False  False    False     False    True    False   \n",
       "1     False      False  False  False    False     False   False    False   \n",
       "2     False      False  False   True    False     False   False    False   \n",
       "3     False      False  False  False     True     False   False    False   \n",
       "4     False      False  False  False    False     False    True    False   \n",
       "...     ...        ...    ...    ...      ...       ...     ...      ...   \n",
       "8123  False      False  False  False     True     False   False    False   \n",
       "8124  False      False  False  False     True     False   False    False   \n",
       "8125  False      False  False  False    False     False    True    False   \n",
       "8126  False      False  False  False    False     False   False    False   \n",
       "8127  False      False  False  False    False     False   False    False   \n",
       "\n",
       "      Skoda   Tata  Toyota  Volkswagen  uncommon  \n",
       "0     False  False   False       False     False  \n",
       "1      True  False   False       False     False  \n",
       "2     False  False   False       False     False  \n",
       "3     False  False   False       False     False  \n",
       "4     False  False   False       False     False  \n",
       "...     ...    ...     ...         ...       ...  \n",
       "8123  False  False   False       False     False  \n",
       "8124  False  False   False       False     False  \n",
       "8125  False  False   False       False     False  \n",
       "8126  False   True   False       False     False  \n",
       "8127  False   True   False       False     False  \n",
       "\n",
       "[8128 rows x 13 columns]"
      ],
      "text/html": [
       "<div>\n",
       "<style scoped>\n",
       "    .dataframe tbody tr th:only-of-type {\n",
       "        vertical-align: middle;\n",
       "    }\n",
       "\n",
       "    .dataframe tbody tr th {\n",
       "        vertical-align: top;\n",
       "    }\n",
       "\n",
       "    .dataframe thead th {\n",
       "        text-align: right;\n",
       "    }\n",
       "</style>\n",
       "<table border=\"1\" class=\"dataframe\">\n",
       "  <thead>\n",
       "    <tr style=\"text-align: right;\">\n",
       "      <th></th>\n",
       "      <th>BMW</th>\n",
       "      <th>Chevrolet</th>\n",
       "      <th>Ford</th>\n",
       "      <th>Honda</th>\n",
       "      <th>Hyundai</th>\n",
       "      <th>Mahindra</th>\n",
       "      <th>Maruti</th>\n",
       "      <th>Renault</th>\n",
       "      <th>Skoda</th>\n",
       "      <th>Tata</th>\n",
       "      <th>Toyota</th>\n",
       "      <th>Volkswagen</th>\n",
       "      <th>uncommon</th>\n",
       "    </tr>\n",
       "  </thead>\n",
       "  <tbody>\n",
       "    <tr>\n",
       "      <th>0</th>\n",
       "      <td>False</td>\n",
       "      <td>False</td>\n",
       "      <td>False</td>\n",
       "      <td>False</td>\n",
       "      <td>False</td>\n",
       "      <td>False</td>\n",
       "      <td>True</td>\n",
       "      <td>False</td>\n",
       "      <td>False</td>\n",
       "      <td>False</td>\n",
       "      <td>False</td>\n",
       "      <td>False</td>\n",
       "      <td>False</td>\n",
       "    </tr>\n",
       "    <tr>\n",
       "      <th>1</th>\n",
       "      <td>False</td>\n",
       "      <td>False</td>\n",
       "      <td>False</td>\n",
       "      <td>False</td>\n",
       "      <td>False</td>\n",
       "      <td>False</td>\n",
       "      <td>False</td>\n",
       "      <td>False</td>\n",
       "      <td>True</td>\n",
       "      <td>False</td>\n",
       "      <td>False</td>\n",
       "      <td>False</td>\n",
       "      <td>False</td>\n",
       "    </tr>\n",
       "    <tr>\n",
       "      <th>2</th>\n",
       "      <td>False</td>\n",
       "      <td>False</td>\n",
       "      <td>False</td>\n",
       "      <td>True</td>\n",
       "      <td>False</td>\n",
       "      <td>False</td>\n",
       "      <td>False</td>\n",
       "      <td>False</td>\n",
       "      <td>False</td>\n",
       "      <td>False</td>\n",
       "      <td>False</td>\n",
       "      <td>False</td>\n",
       "      <td>False</td>\n",
       "    </tr>\n",
       "    <tr>\n",
       "      <th>3</th>\n",
       "      <td>False</td>\n",
       "      <td>False</td>\n",
       "      <td>False</td>\n",
       "      <td>False</td>\n",
       "      <td>True</td>\n",
       "      <td>False</td>\n",
       "      <td>False</td>\n",
       "      <td>False</td>\n",
       "      <td>False</td>\n",
       "      <td>False</td>\n",
       "      <td>False</td>\n",
       "      <td>False</td>\n",
       "      <td>False</td>\n",
       "    </tr>\n",
       "    <tr>\n",
       "      <th>4</th>\n",
       "      <td>False</td>\n",
       "      <td>False</td>\n",
       "      <td>False</td>\n",
       "      <td>False</td>\n",
       "      <td>False</td>\n",
       "      <td>False</td>\n",
       "      <td>True</td>\n",
       "      <td>False</td>\n",
       "      <td>False</td>\n",
       "      <td>False</td>\n",
       "      <td>False</td>\n",
       "      <td>False</td>\n",
       "      <td>False</td>\n",
       "    </tr>\n",
       "    <tr>\n",
       "      <th>...</th>\n",
       "      <td>...</td>\n",
       "      <td>...</td>\n",
       "      <td>...</td>\n",
       "      <td>...</td>\n",
       "      <td>...</td>\n",
       "      <td>...</td>\n",
       "      <td>...</td>\n",
       "      <td>...</td>\n",
       "      <td>...</td>\n",
       "      <td>...</td>\n",
       "      <td>...</td>\n",
       "      <td>...</td>\n",
       "      <td>...</td>\n",
       "    </tr>\n",
       "    <tr>\n",
       "      <th>8123</th>\n",
       "      <td>False</td>\n",
       "      <td>False</td>\n",
       "      <td>False</td>\n",
       "      <td>False</td>\n",
       "      <td>True</td>\n",
       "      <td>False</td>\n",
       "      <td>False</td>\n",
       "      <td>False</td>\n",
       "      <td>False</td>\n",
       "      <td>False</td>\n",
       "      <td>False</td>\n",
       "      <td>False</td>\n",
       "      <td>False</td>\n",
       "    </tr>\n",
       "    <tr>\n",
       "      <th>8124</th>\n",
       "      <td>False</td>\n",
       "      <td>False</td>\n",
       "      <td>False</td>\n",
       "      <td>False</td>\n",
       "      <td>True</td>\n",
       "      <td>False</td>\n",
       "      <td>False</td>\n",
       "      <td>False</td>\n",
       "      <td>False</td>\n",
       "      <td>False</td>\n",
       "      <td>False</td>\n",
       "      <td>False</td>\n",
       "      <td>False</td>\n",
       "    </tr>\n",
       "    <tr>\n",
       "      <th>8125</th>\n",
       "      <td>False</td>\n",
       "      <td>False</td>\n",
       "      <td>False</td>\n",
       "      <td>False</td>\n",
       "      <td>False</td>\n",
       "      <td>False</td>\n",
       "      <td>True</td>\n",
       "      <td>False</td>\n",
       "      <td>False</td>\n",
       "      <td>False</td>\n",
       "      <td>False</td>\n",
       "      <td>False</td>\n",
       "      <td>False</td>\n",
       "    </tr>\n",
       "    <tr>\n",
       "      <th>8126</th>\n",
       "      <td>False</td>\n",
       "      <td>False</td>\n",
       "      <td>False</td>\n",
       "      <td>False</td>\n",
       "      <td>False</td>\n",
       "      <td>False</td>\n",
       "      <td>False</td>\n",
       "      <td>False</td>\n",
       "      <td>False</td>\n",
       "      <td>True</td>\n",
       "      <td>False</td>\n",
       "      <td>False</td>\n",
       "      <td>False</td>\n",
       "    </tr>\n",
       "    <tr>\n",
       "      <th>8127</th>\n",
       "      <td>False</td>\n",
       "      <td>False</td>\n",
       "      <td>False</td>\n",
       "      <td>False</td>\n",
       "      <td>False</td>\n",
       "      <td>False</td>\n",
       "      <td>False</td>\n",
       "      <td>False</td>\n",
       "      <td>False</td>\n",
       "      <td>True</td>\n",
       "      <td>False</td>\n",
       "      <td>False</td>\n",
       "      <td>False</td>\n",
       "    </tr>\n",
       "  </tbody>\n",
       "</table>\n",
       "<p>8128 rows × 13 columns</p>\n",
       "</div>"
      ]
     },
     "execution_count": 126,
     "metadata": {},
     "output_type": "execute_result"
    }
   ],
   "execution_count": 126
  },
  {
   "metadata": {
    "ExecuteTime": {
     "end_time": "2024-07-20T06:16:28.919614Z",
     "start_time": "2024-07-20T06:16:28.913433Z"
    }
   },
   "cell_type": "code",
   "source": [
    "df = np.hstack((df[['fuel','owner']],brandDist))\n",
    "df"
   ],
   "id": "554099a2b60c04a7",
   "outputs": [
    {
     "data": {
      "text/plain": [
       "array([['Diesel', 'First Owner', False, ..., False, False, False],\n",
       "       ['Diesel', 'Second Owner', False, ..., False, False, False],\n",
       "       ['Petrol', 'Third Owner', False, ..., False, False, False],\n",
       "       ...,\n",
       "       ['Diesel', 'First Owner', False, ..., False, False, False],\n",
       "       ['Diesel', 'First Owner', False, ..., False, False, False],\n",
       "       ['Diesel', 'First Owner', False, ..., False, False, False]],\n",
       "      dtype=object)"
      ]
     },
     "execution_count": 127,
     "metadata": {},
     "output_type": "execute_result"
    }
   ],
   "execution_count": 127
  },
  {
   "metadata": {},
   "cell_type": "markdown",
   "source": "### [fuel,owner] -> oneHot",
   "id": "a9106ff747ee70a9"
  },
  {
   "metadata": {
    "ExecuteTime": {
     "end_time": "2024-07-20T06:16:28.938105Z",
     "start_time": "2024-07-20T06:16:28.935330Z"
    }
   },
   "cell_type": "code",
   "source": [
    "from sklearn.preprocessing import OneHotEncoder\n",
    "\n",
    "ohe = OneHotEncoder(drop='first',dtype=np.int32,sparse=False)"
   ],
   "id": "fb890454e7c9a7f2",
   "outputs": [],
   "execution_count": 128
  },
  {
   "metadata": {
    "ExecuteTime": {
     "end_time": "2024-07-20T06:16:28.985958Z",
     "start_time": "2024-07-20T06:16:28.976672Z"
    }
   },
   "cell_type": "code",
   "source": [
    "X_train_encoded = ohe.fit_transform(X_train[['fuel','owner']])\n",
    "X_test_encoded = ohe.transform(X_test[['fuel','owner']])"
   ],
   "id": "dd9276b04e08e63f",
   "outputs": [
    {
     "name": "stderr",
     "output_type": "stream",
     "text": [
      "C:\\Users\\HP TECHNOLOGY\\anaconda3\\Lib\\site-packages\\sklearn\\preprocessing\\_encoders.py:868: FutureWarning: `sparse` was renamed to `sparse_output` in version 1.2 and will be removed in 1.4. `sparse_output` is ignored unless you leave `sparse` to its default value.\n",
      "  warnings.warn(\n"
     ]
    }
   ],
   "execution_count": 129
  },
  {
   "metadata": {
    "ExecuteTime": {
     "end_time": "2024-07-20T06:16:29.013133Z",
     "start_time": "2024-07-20T06:16:29.009071Z"
    }
   },
   "cell_type": "code",
   "source": "X_train_encoded",
   "id": "a28e82cc7509a24",
   "outputs": [
    {
     "data": {
      "text/plain": [
       "array([[0, 0, 1, ..., 0, 0, 0],\n",
       "       [0, 0, 1, ..., 0, 0, 0],\n",
       "       [0, 0, 1, ..., 0, 0, 0],\n",
       "       ...,\n",
       "       [0, 0, 1, ..., 1, 0, 0],\n",
       "       [1, 0, 0, ..., 0, 0, 0],\n",
       "       [0, 0, 1, ..., 0, 0, 0]])"
      ]
     },
     "execution_count": 130,
     "metadata": {},
     "output_type": "execute_result"
    }
   ],
   "execution_count": 130
  },
  {
   "metadata": {},
   "cell_type": "markdown",
   "source": "",
   "id": "a908f6fa9261d74d"
  },
  {
   "metadata": {
    "ExecuteTime": {
     "end_time": "2024-07-20T06:16:29.032192Z",
     "start_time": "2024-07-20T06:16:29.030344Z"
    }
   },
   "cell_type": "code",
   "source": "",
   "id": "aec983314d085da0",
   "outputs": [],
   "execution_count": 130
  },
  {
   "metadata": {
    "ExecuteTime": {
     "end_time": "2024-07-20T06:16:29.119321Z",
     "start_time": "2024-07-20T06:16:29.116480Z"
    }
   },
   "cell_type": "code",
   "source": "",
   "id": "288aec5dd47e5485",
   "outputs": [],
   "execution_count": 130
  }
 ],
 "metadata": {
  "kernelspec": {
   "display_name": "Python 3",
   "language": "python",
   "name": "python3"
  },
  "language_info": {
   "codemirror_mode": {
    "name": "ipython",
    "version": 2
   },
   "file_extension": ".py",
   "mimetype": "text/x-python",
   "name": "python",
   "nbconvert_exporter": "python",
   "pygments_lexer": "ipython2",
   "version": "2.7.6"
  }
 },
 "nbformat": 4,
 "nbformat_minor": 5
}
