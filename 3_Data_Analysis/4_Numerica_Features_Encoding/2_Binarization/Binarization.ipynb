{
 "cells": [
  {
   "cell_type": "code",
   "id": "initial_id",
   "metadata": {
    "collapsed": true,
    "ExecuteTime": {
     "end_time": "2024-07-21T10:15:21.248866Z",
     "start_time": "2024-07-21T10:15:20.180430Z"
    }
   },
   "source": [
    "import pandas as pd\n",
    "import numpy as np\n",
    "\n",
    "from sklearn.model_selection import train_test_split\n",
    "from sklearn.tree import DecisionTreeClassifier\n",
    "from sklearn.metrics import accuracy_score"
   ],
   "outputs": [],
   "execution_count": 1
  },
  {
   "metadata": {
    "ExecuteTime": {
     "end_time": "2024-07-21T10:19:10.162143Z",
     "start_time": "2024-07-21T10:19:10.149690Z"
    }
   },
   "cell_type": "code",
   "source": [
    "from sklearn.model_selection import cross_val_score\n",
    "from sklearn.compose import ColumnTransformer"
   ],
   "id": "c0dde737cefe464f",
   "outputs": [],
   "execution_count": 13
  },
  {
   "metadata": {
    "ExecuteTime": {
     "end_time": "2024-07-21T10:15:21.271654Z",
     "start_time": "2024-07-21T10:15:21.253502Z"
    }
   },
   "cell_type": "code",
   "source": [
    "df = pd.read_csv(\"../train.csv\", usecols=[1,5,6,7,9])\n",
    "df"
   ],
   "id": "5ca06e4b8dea1240",
   "outputs": [
    {
     "data": {
      "text/plain": [
       "     Survived   Age  SibSp  Parch     Fare\n",
       "0           0  22.0      1      0   7.2500\n",
       "1           1  38.0      1      0  71.2833\n",
       "2           1  26.0      0      0   7.9250\n",
       "3           1  35.0      1      0  53.1000\n",
       "4           0  35.0      0      0   8.0500\n",
       "..        ...   ...    ...    ...      ...\n",
       "886         0  27.0      0      0  13.0000\n",
       "887         1  19.0      0      0  30.0000\n",
       "888         0   NaN      1      2  23.4500\n",
       "889         1  26.0      0      0  30.0000\n",
       "890         0  32.0      0      0   7.7500\n",
       "\n",
       "[891 rows x 5 columns]"
      ],
      "text/html": [
       "<div>\n",
       "<style scoped>\n",
       "    .dataframe tbody tr th:only-of-type {\n",
       "        vertical-align: middle;\n",
       "    }\n",
       "\n",
       "    .dataframe tbody tr th {\n",
       "        vertical-align: top;\n",
       "    }\n",
       "\n",
       "    .dataframe thead th {\n",
       "        text-align: right;\n",
       "    }\n",
       "</style>\n",
       "<table border=\"1\" class=\"dataframe\">\n",
       "  <thead>\n",
       "    <tr style=\"text-align: right;\">\n",
       "      <th></th>\n",
       "      <th>Survived</th>\n",
       "      <th>Age</th>\n",
       "      <th>SibSp</th>\n",
       "      <th>Parch</th>\n",
       "      <th>Fare</th>\n",
       "    </tr>\n",
       "  </thead>\n",
       "  <tbody>\n",
       "    <tr>\n",
       "      <th>0</th>\n",
       "      <td>0</td>\n",
       "      <td>22.0</td>\n",
       "      <td>1</td>\n",
       "      <td>0</td>\n",
       "      <td>7.2500</td>\n",
       "    </tr>\n",
       "    <tr>\n",
       "      <th>1</th>\n",
       "      <td>1</td>\n",
       "      <td>38.0</td>\n",
       "      <td>1</td>\n",
       "      <td>0</td>\n",
       "      <td>71.2833</td>\n",
       "    </tr>\n",
       "    <tr>\n",
       "      <th>2</th>\n",
       "      <td>1</td>\n",
       "      <td>26.0</td>\n",
       "      <td>0</td>\n",
       "      <td>0</td>\n",
       "      <td>7.9250</td>\n",
       "    </tr>\n",
       "    <tr>\n",
       "      <th>3</th>\n",
       "      <td>1</td>\n",
       "      <td>35.0</td>\n",
       "      <td>1</td>\n",
       "      <td>0</td>\n",
       "      <td>53.1000</td>\n",
       "    </tr>\n",
       "    <tr>\n",
       "      <th>4</th>\n",
       "      <td>0</td>\n",
       "      <td>35.0</td>\n",
       "      <td>0</td>\n",
       "      <td>0</td>\n",
       "      <td>8.0500</td>\n",
       "    </tr>\n",
       "    <tr>\n",
       "      <th>...</th>\n",
       "      <td>...</td>\n",
       "      <td>...</td>\n",
       "      <td>...</td>\n",
       "      <td>...</td>\n",
       "      <td>...</td>\n",
       "    </tr>\n",
       "    <tr>\n",
       "      <th>886</th>\n",
       "      <td>0</td>\n",
       "      <td>27.0</td>\n",
       "      <td>0</td>\n",
       "      <td>0</td>\n",
       "      <td>13.0000</td>\n",
       "    </tr>\n",
       "    <tr>\n",
       "      <th>887</th>\n",
       "      <td>1</td>\n",
       "      <td>19.0</td>\n",
       "      <td>0</td>\n",
       "      <td>0</td>\n",
       "      <td>30.0000</td>\n",
       "    </tr>\n",
       "    <tr>\n",
       "      <th>888</th>\n",
       "      <td>0</td>\n",
       "      <td>NaN</td>\n",
       "      <td>1</td>\n",
       "      <td>2</td>\n",
       "      <td>23.4500</td>\n",
       "    </tr>\n",
       "    <tr>\n",
       "      <th>889</th>\n",
       "      <td>1</td>\n",
       "      <td>26.0</td>\n",
       "      <td>0</td>\n",
       "      <td>0</td>\n",
       "      <td>30.0000</td>\n",
       "    </tr>\n",
       "    <tr>\n",
       "      <th>890</th>\n",
       "      <td>0</td>\n",
       "      <td>32.0</td>\n",
       "      <td>0</td>\n",
       "      <td>0</td>\n",
       "      <td>7.7500</td>\n",
       "    </tr>\n",
       "  </tbody>\n",
       "</table>\n",
       "<p>891 rows × 5 columns</p>\n",
       "</div>"
      ]
     },
     "execution_count": 2,
     "metadata": {},
     "output_type": "execute_result"
    }
   ],
   "execution_count": 2
  },
  {
   "metadata": {
    "ExecuteTime": {
     "end_time": "2024-07-21T10:15:21.277206Z",
     "start_time": "2024-07-21T10:15:21.272660Z"
    }
   },
   "cell_type": "code",
   "source": "df.isnull().sum()",
   "id": "94d328d2e9a82a54",
   "outputs": [
    {
     "data": {
      "text/plain": [
       "Survived      0\n",
       "Age         177\n",
       "SibSp         0\n",
       "Parch         0\n",
       "Fare          0\n",
       "dtype: int64"
      ]
     },
     "execution_count": 3,
     "metadata": {},
     "output_type": "execute_result"
    }
   ],
   "execution_count": 3
  },
  {
   "metadata": {
    "ExecuteTime": {
     "end_time": "2024-07-21T10:15:21.283661Z",
     "start_time": "2024-07-21T10:15:21.278209Z"
    }
   },
   "cell_type": "code",
   "source": "df.dropna(inplace=True)",
   "id": "8c65dc470743995a",
   "outputs": [],
   "execution_count": 4
  },
  {
   "metadata": {
    "ExecuteTime": {
     "end_time": "2024-07-21T10:15:21.295720Z",
     "start_time": "2024-07-21T10:15:21.284662Z"
    }
   },
   "cell_type": "code",
   "source": [
    "df['Family'] = df['SibSp'] + df['Parch']\n",
    "df"
   ],
   "id": "5c3bd9eecbdc0d0b",
   "outputs": [
    {
     "data": {
      "text/plain": [
       "     Survived   Age  SibSp  Parch     Fare  Family\n",
       "0           0  22.0      1      0   7.2500       1\n",
       "1           1  38.0      1      0  71.2833       1\n",
       "2           1  26.0      0      0   7.9250       0\n",
       "3           1  35.0      1      0  53.1000       1\n",
       "4           0  35.0      0      0   8.0500       0\n",
       "..        ...   ...    ...    ...      ...     ...\n",
       "885         0  39.0      0      5  29.1250       5\n",
       "886         0  27.0      0      0  13.0000       0\n",
       "887         1  19.0      0      0  30.0000       0\n",
       "889         1  26.0      0      0  30.0000       0\n",
       "890         0  32.0      0      0   7.7500       0\n",
       "\n",
       "[714 rows x 6 columns]"
      ],
      "text/html": [
       "<div>\n",
       "<style scoped>\n",
       "    .dataframe tbody tr th:only-of-type {\n",
       "        vertical-align: middle;\n",
       "    }\n",
       "\n",
       "    .dataframe tbody tr th {\n",
       "        vertical-align: top;\n",
       "    }\n",
       "\n",
       "    .dataframe thead th {\n",
       "        text-align: right;\n",
       "    }\n",
       "</style>\n",
       "<table border=\"1\" class=\"dataframe\">\n",
       "  <thead>\n",
       "    <tr style=\"text-align: right;\">\n",
       "      <th></th>\n",
       "      <th>Survived</th>\n",
       "      <th>Age</th>\n",
       "      <th>SibSp</th>\n",
       "      <th>Parch</th>\n",
       "      <th>Fare</th>\n",
       "      <th>Family</th>\n",
       "    </tr>\n",
       "  </thead>\n",
       "  <tbody>\n",
       "    <tr>\n",
       "      <th>0</th>\n",
       "      <td>0</td>\n",
       "      <td>22.0</td>\n",
       "      <td>1</td>\n",
       "      <td>0</td>\n",
       "      <td>7.2500</td>\n",
       "      <td>1</td>\n",
       "    </tr>\n",
       "    <tr>\n",
       "      <th>1</th>\n",
       "      <td>1</td>\n",
       "      <td>38.0</td>\n",
       "      <td>1</td>\n",
       "      <td>0</td>\n",
       "      <td>71.2833</td>\n",
       "      <td>1</td>\n",
       "    </tr>\n",
       "    <tr>\n",
       "      <th>2</th>\n",
       "      <td>1</td>\n",
       "      <td>26.0</td>\n",
       "      <td>0</td>\n",
       "      <td>0</td>\n",
       "      <td>7.9250</td>\n",
       "      <td>0</td>\n",
       "    </tr>\n",
       "    <tr>\n",
       "      <th>3</th>\n",
       "      <td>1</td>\n",
       "      <td>35.0</td>\n",
       "      <td>1</td>\n",
       "      <td>0</td>\n",
       "      <td>53.1000</td>\n",
       "      <td>1</td>\n",
       "    </tr>\n",
       "    <tr>\n",
       "      <th>4</th>\n",
       "      <td>0</td>\n",
       "      <td>35.0</td>\n",
       "      <td>0</td>\n",
       "      <td>0</td>\n",
       "      <td>8.0500</td>\n",
       "      <td>0</td>\n",
       "    </tr>\n",
       "    <tr>\n",
       "      <th>...</th>\n",
       "      <td>...</td>\n",
       "      <td>...</td>\n",
       "      <td>...</td>\n",
       "      <td>...</td>\n",
       "      <td>...</td>\n",
       "      <td>...</td>\n",
       "    </tr>\n",
       "    <tr>\n",
       "      <th>885</th>\n",
       "      <td>0</td>\n",
       "      <td>39.0</td>\n",
       "      <td>0</td>\n",
       "      <td>5</td>\n",
       "      <td>29.1250</td>\n",
       "      <td>5</td>\n",
       "    </tr>\n",
       "    <tr>\n",
       "      <th>886</th>\n",
       "      <td>0</td>\n",
       "      <td>27.0</td>\n",
       "      <td>0</td>\n",
       "      <td>0</td>\n",
       "      <td>13.0000</td>\n",
       "      <td>0</td>\n",
       "    </tr>\n",
       "    <tr>\n",
       "      <th>887</th>\n",
       "      <td>1</td>\n",
       "      <td>19.0</td>\n",
       "      <td>0</td>\n",
       "      <td>0</td>\n",
       "      <td>30.0000</td>\n",
       "      <td>0</td>\n",
       "    </tr>\n",
       "    <tr>\n",
       "      <th>889</th>\n",
       "      <td>1</td>\n",
       "      <td>26.0</td>\n",
       "      <td>0</td>\n",
       "      <td>0</td>\n",
       "      <td>30.0000</td>\n",
       "      <td>0</td>\n",
       "    </tr>\n",
       "    <tr>\n",
       "      <th>890</th>\n",
       "      <td>0</td>\n",
       "      <td>32.0</td>\n",
       "      <td>0</td>\n",
       "      <td>0</td>\n",
       "      <td>7.7500</td>\n",
       "      <td>0</td>\n",
       "    </tr>\n",
       "  </tbody>\n",
       "</table>\n",
       "<p>714 rows × 6 columns</p>\n",
       "</div>"
      ]
     },
     "execution_count": 5,
     "metadata": {},
     "output_type": "execute_result"
    }
   ],
   "execution_count": 5
  },
  {
   "metadata": {
    "ExecuteTime": {
     "end_time": "2024-07-21T10:15:21.305481Z",
     "start_time": "2024-07-21T10:15:21.296752Z"
    }
   },
   "cell_type": "code",
   "source": [
    "df.drop(columns=['SibSp','Parch'],inplace=True)\n",
    "df"
   ],
   "id": "510db5cab5b13f4f",
   "outputs": [
    {
     "data": {
      "text/plain": [
       "     Survived   Age     Fare  Family\n",
       "0           0  22.0   7.2500       1\n",
       "1           1  38.0  71.2833       1\n",
       "2           1  26.0   7.9250       0\n",
       "3           1  35.0  53.1000       1\n",
       "4           0  35.0   8.0500       0\n",
       "..        ...   ...      ...     ...\n",
       "885         0  39.0  29.1250       5\n",
       "886         0  27.0  13.0000       0\n",
       "887         1  19.0  30.0000       0\n",
       "889         1  26.0  30.0000       0\n",
       "890         0  32.0   7.7500       0\n",
       "\n",
       "[714 rows x 4 columns]"
      ],
      "text/html": [
       "<div>\n",
       "<style scoped>\n",
       "    .dataframe tbody tr th:only-of-type {\n",
       "        vertical-align: middle;\n",
       "    }\n",
       "\n",
       "    .dataframe tbody tr th {\n",
       "        vertical-align: top;\n",
       "    }\n",
       "\n",
       "    .dataframe thead th {\n",
       "        text-align: right;\n",
       "    }\n",
       "</style>\n",
       "<table border=\"1\" class=\"dataframe\">\n",
       "  <thead>\n",
       "    <tr style=\"text-align: right;\">\n",
       "      <th></th>\n",
       "      <th>Survived</th>\n",
       "      <th>Age</th>\n",
       "      <th>Fare</th>\n",
       "      <th>Family</th>\n",
       "    </tr>\n",
       "  </thead>\n",
       "  <tbody>\n",
       "    <tr>\n",
       "      <th>0</th>\n",
       "      <td>0</td>\n",
       "      <td>22.0</td>\n",
       "      <td>7.2500</td>\n",
       "      <td>1</td>\n",
       "    </tr>\n",
       "    <tr>\n",
       "      <th>1</th>\n",
       "      <td>1</td>\n",
       "      <td>38.0</td>\n",
       "      <td>71.2833</td>\n",
       "      <td>1</td>\n",
       "    </tr>\n",
       "    <tr>\n",
       "      <th>2</th>\n",
       "      <td>1</td>\n",
       "      <td>26.0</td>\n",
       "      <td>7.9250</td>\n",
       "      <td>0</td>\n",
       "    </tr>\n",
       "    <tr>\n",
       "      <th>3</th>\n",
       "      <td>1</td>\n",
       "      <td>35.0</td>\n",
       "      <td>53.1000</td>\n",
       "      <td>1</td>\n",
       "    </tr>\n",
       "    <tr>\n",
       "      <th>4</th>\n",
       "      <td>0</td>\n",
       "      <td>35.0</td>\n",
       "      <td>8.0500</td>\n",
       "      <td>0</td>\n",
       "    </tr>\n",
       "    <tr>\n",
       "      <th>...</th>\n",
       "      <td>...</td>\n",
       "      <td>...</td>\n",
       "      <td>...</td>\n",
       "      <td>...</td>\n",
       "    </tr>\n",
       "    <tr>\n",
       "      <th>885</th>\n",
       "      <td>0</td>\n",
       "      <td>39.0</td>\n",
       "      <td>29.1250</td>\n",
       "      <td>5</td>\n",
       "    </tr>\n",
       "    <tr>\n",
       "      <th>886</th>\n",
       "      <td>0</td>\n",
       "      <td>27.0</td>\n",
       "      <td>13.0000</td>\n",
       "      <td>0</td>\n",
       "    </tr>\n",
       "    <tr>\n",
       "      <th>887</th>\n",
       "      <td>1</td>\n",
       "      <td>19.0</td>\n",
       "      <td>30.0000</td>\n",
       "      <td>0</td>\n",
       "    </tr>\n",
       "    <tr>\n",
       "      <th>889</th>\n",
       "      <td>1</td>\n",
       "      <td>26.0</td>\n",
       "      <td>30.0000</td>\n",
       "      <td>0</td>\n",
       "    </tr>\n",
       "    <tr>\n",
       "      <th>890</th>\n",
       "      <td>0</td>\n",
       "      <td>32.0</td>\n",
       "      <td>7.7500</td>\n",
       "      <td>0</td>\n",
       "    </tr>\n",
       "  </tbody>\n",
       "</table>\n",
       "<p>714 rows × 4 columns</p>\n",
       "</div>"
      ]
     },
     "execution_count": 6,
     "metadata": {},
     "output_type": "execute_result"
    }
   ],
   "execution_count": 6
  },
  {
   "metadata": {
    "ExecuteTime": {
     "end_time": "2024-07-21T10:15:21.309735Z",
     "start_time": "2024-07-21T10:15:21.306488Z"
    }
   },
   "cell_type": "code",
   "source": [
    "X = df.iloc[:,1:]\n",
    "y = df.iloc[:,0]"
   ],
   "id": "1fb3a1e1d728e44a",
   "outputs": [],
   "execution_count": 7
  },
  {
   "metadata": {
    "ExecuteTime": {
     "end_time": "2024-07-21T10:15:21.314852Z",
     "start_time": "2024-07-21T10:15:21.310740Z"
    }
   },
   "cell_type": "code",
   "source": "X_train, X_test, y_train, y_test = train_test_split(X,y,test_size=0.2,random_state=42)",
   "id": "1bcdfcdd9b15c766",
   "outputs": [],
   "execution_count": 8
  },
  {
   "metadata": {
    "ExecuteTime": {
     "end_time": "2024-07-21T10:15:21.320597Z",
     "start_time": "2024-07-21T10:15:21.315858Z"
    }
   },
   "cell_type": "code",
   "source": "y_train",
   "id": "8ad80927d3ed63b1",
   "outputs": [
    {
     "data": {
      "text/plain": [
       "328    1\n",
       "73     0\n",
       "253    0\n",
       "719    0\n",
       "666    0\n",
       "      ..\n",
       "92     0\n",
       "134    0\n",
       "337    1\n",
       "548    0\n",
       "130    0\n",
       "Name: Survived, Length: 571, dtype: int64"
      ]
     },
     "execution_count": 9,
     "metadata": {},
     "output_type": "execute_result"
    }
   ],
   "execution_count": 9
  },
  {
   "metadata": {},
   "cell_type": "markdown",
   "source": "# Without Binarization",
   "id": "70deaf1d6ceadeca"
  },
  {
   "metadata": {
    "ExecuteTime": {
     "end_time": "2024-07-21T10:15:21.332678Z",
     "start_time": "2024-07-21T10:15:21.321604Z"
    }
   },
   "cell_type": "code",
   "source": [
    "dtc = DecisionTreeClassifier()\n",
    "\n",
    "dtc.fit(X_train,y_train)\n",
    "\n",
    "y_pred = dtc.predict(X_test)\n",
    "\n",
    "print(\"Decision Tree Accuracy Score\",accuracy_score(y_test,y_pred))"
   ],
   "id": "e80b68a28b3ce62",
   "outputs": [
    {
     "name": "stdout",
     "output_type": "stream",
     "text": [
      "Decision Tree Accuracy Score 0.6153846153846154\n"
     ]
    }
   ],
   "execution_count": 10
  },
  {
   "metadata": {},
   "cell_type": "markdown",
   "source": "#### cross val score",
   "id": "a034e57f0fd1a62d"
  },
  {
   "metadata": {
    "ExecuteTime": {
     "end_time": "2024-07-21T10:18:00.300883Z",
     "start_time": "2024-07-21T10:18:00.262894Z"
    }
   },
   "cell_type": "code",
   "source": [
    "dtc = DecisionTreeClassifier()\n",
    "\n",
    "print(\"Decision Tree Cross Val Score\",np.mean(cross_val_score(dtc,X,y,scoring='accuracy',cv=10)))"
   ],
   "id": "93a44288cdcffe9e",
   "outputs": [
    {
     "name": "stdout",
     "output_type": "stream",
     "text": [
      "Decision Tree Accuracy Score 0.6555946791862285\n"
     ]
    }
   ],
   "execution_count": 12
  },
  {
   "metadata": {},
   "cell_type": "markdown",
   "source": "# After Binarization",
   "id": "98529d974e71c37e"
  },
  {
   "metadata": {
    "ExecuteTime": {
     "end_time": "2024-07-21T10:20:54.479946Z",
     "start_time": "2024-07-21T10:20:54.476359Z"
    }
   },
   "cell_type": "code",
   "source": [
    "from sklearn.preprocessing import Binarizer\n",
    "\n",
    "trf = ColumnTransformer(transformers=[\n",
    "    ('bin',Binarizer(copy=False),['Family'])\n",
    "],remainder='passthrough')\n"
   ],
   "id": "2cdcbc53f37a6240",
   "outputs": [],
   "execution_count": 14
  },
  {
   "metadata": {
    "ExecuteTime": {
     "end_time": "2024-07-21T10:21:49.983141Z",
     "start_time": "2024-07-21T10:21:49.975636Z"
    }
   },
   "cell_type": "code",
   "source": [
    "X_train_transformed =  trf.fit_transform(X_train)\n",
    "X_test_transformed =  trf.transform(X_test)"
   ],
   "id": "a592c8bb3f005e68",
   "outputs": [],
   "execution_count": 15
  },
  {
   "metadata": {
    "ExecuteTime": {
     "end_time": "2024-07-21T10:24:14.597645Z",
     "start_time": "2024-07-21T10:24:14.592112Z"
    }
   },
   "cell_type": "code",
   "source": [
    "dtc = DecisionTreeClassifier()\n",
    "\n",
    "dtc.fit(X_train_transformed,y_train)\n",
    "\n",
    "y_pred_trans = dtc.predict(X_test_transformed)\n",
    "print(\"Decision Tree Accuracy Score After Transformed\",accuracy_score(y_test,y_pred_trans))"
   ],
   "id": "6379c5881b29f3d",
   "outputs": [
    {
     "name": "stdout",
     "output_type": "stream",
     "text": [
      "Decision Tree Accuracy Score After Transformed 0.6293706293706294\n"
     ]
    }
   ],
   "execution_count": 16
  },
  {
   "metadata": {},
   "cell_type": "markdown",
   "source": "#### cross val Score",
   "id": "945d60e34427c147"
  },
  {
   "metadata": {
    "ExecuteTime": {
     "end_time": "2024-07-21T10:27:58.914676Z",
     "start_time": "2024-07-21T10:27:58.889951Z"
    }
   },
   "cell_type": "code",
   "source": [
    "X_transformed = trf.fit_transform(X)\n",
    "dtc = DecisionTreeClassifier()\n",
    "\n",
    "print(\"Decision Tree Cross Val Score After Transformed\",np.mean(cross_val_score(dtc,X,y,scoring='accuracy')))"
   ],
   "id": "1fc8229815c76876",
   "outputs": [
    {
     "name": "stdout",
     "output_type": "stream",
     "text": [
      "Decision Tree Cross Val Score After Transformed 0.6554515906628582\n"
     ]
    }
   ],
   "execution_count": 18
  },
  {
   "metadata": {},
   "cell_type": "code",
   "outputs": [],
   "execution_count": null,
   "source": "",
   "id": "1765b0135a444d9f"
  }
 ],
 "metadata": {
  "kernelspec": {
   "display_name": "Python 3",
   "language": "python",
   "name": "python3"
  },
  "language_info": {
   "codemirror_mode": {
    "name": "ipython",
    "version": 2
   },
   "file_extension": ".py",
   "mimetype": "text/x-python",
   "name": "python",
   "nbconvert_exporter": "python",
   "pygments_lexer": "ipython2",
   "version": "2.7.6"
  }
 },
 "nbformat": 4,
 "nbformat_minor": 5
}
